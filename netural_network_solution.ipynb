{
 "cells": [
  {
   "cell_type": "code",
   "execution_count": 53,
   "metadata": {
    "colab": {
     "base_uri": "https://localhost:8080/"
    },
    "id": "5J9brtfAVqvI",
    "outputId": "0e0008c9-1e92-43d1-8b1b-3b114887eb56"
   },
   "outputs": [
    {
     "name": "stdout",
     "output_type": "stream",
     "text": [
      "Drive already mounted at /content/drive; to attempt to forcibly remount, call drive.mount(\"/content/drive\", force_remount=True).\n"
     ]
    }
   ],
   "source": [
    "from google.colab import drive\n",
    "drive.mount('/content/drive')"
   ]
  },
  {
   "cell_type": "markdown",
   "metadata": {
    "id": "LtooikZmVnyM"
   },
   "source": [
    "### Netural Network Solution: Shrawani Singh"
   ]
  },
  {
   "cell_type": "markdown",
   "metadata": {
    "id": "Lq7w7Up-VnyS"
   },
   "source": [
    "#### PART A - DOMAIN: Electronics and Telecommunication"
   ]
  },
  {
   "cell_type": "code",
   "execution_count": 54,
   "metadata": {
    "id": "qnC3cbhiVnyS"
   },
   "outputs": [],
   "source": [
    "#Importing variou libraries\n",
    "import numpy as np       # Library for number operations\n",
    "import pandas as pd      # Library for data operations\n",
    "import seaborn as sns\n",
    "import matplotlib.pyplot as plt\n",
    "from sklearn.model_selection import train_test_split\n",
    "from sklearn.preprocessing import StandardScaler\n",
    "from sklearn.preprocessing import LabelEncoder\n"
   ]
  },
  {
   "cell_type": "markdown",
   "metadata": {
    "id": "TN_0M2xoVnyS"
   },
   "source": [
    "##### 1. Data import and Understanding"
   ]
  },
  {
   "cell_type": "markdown",
   "metadata": {
    "id": "iMpl29_UVnyS"
   },
   "source": [
    "A. Read the ‘Signals.csv’ as DataFrame and import required libraries. "
   ]
  },
  {
   "cell_type": "code",
   "execution_count": 56,
   "metadata": {
    "id": "C-2SjIJCVnyS"
   },
   "outputs": [],
   "source": [
    "# read csv file with \";\" as seprators\n",
    "signal_df=pd.read_csv(\"/content/drive/MyDrive/NN Project Data - Signal.csv\",sep=\",\") "
   ]
  },
  {
   "cell_type": "code",
   "execution_count": null,
   "metadata": {
    "id": "qDUIo6ZcVnyT",
    "outputId": "2b6c308f-4884-4147-ea81-6727d2ae09ef"
   },
   "outputs": [
    {
     "data": {
      "text/html": [
       "<div>\n",
       "<style scoped>\n",
       "    .dataframe tbody tr th:only-of-type {\n",
       "        vertical-align: middle;\n",
       "    }\n",
       "\n",
       "    .dataframe tbody tr th {\n",
       "        vertical-align: top;\n",
       "    }\n",
       "\n",
       "    .dataframe thead th {\n",
       "        text-align: right;\n",
       "    }\n",
       "</style>\n",
       "<table border=\"1\" class=\"dataframe\">\n",
       "  <thead>\n",
       "    <tr style=\"text-align: right;\">\n",
       "      <th></th>\n",
       "      <th>Parameter 1</th>\n",
       "      <th>Parameter 2</th>\n",
       "      <th>Parameter 3</th>\n",
       "      <th>Parameter 4</th>\n",
       "      <th>Parameter 5</th>\n",
       "      <th>Parameter 6</th>\n",
       "      <th>Parameter 7</th>\n",
       "      <th>Parameter 8</th>\n",
       "      <th>Parameter 9</th>\n",
       "      <th>Parameter 10</th>\n",
       "      <th>Parameter 11</th>\n",
       "      <th>Signal_Strength</th>\n",
       "    </tr>\n",
       "  </thead>\n",
       "  <tbody>\n",
       "    <tr>\n",
       "      <th>0</th>\n",
       "      <td>7.4</td>\n",
       "      <td>0.70</td>\n",
       "      <td>0.00</td>\n",
       "      <td>1.9</td>\n",
       "      <td>0.076</td>\n",
       "      <td>11.0</td>\n",
       "      <td>34.0</td>\n",
       "      <td>0.9978</td>\n",
       "      <td>3.51</td>\n",
       "      <td>0.56</td>\n",
       "      <td>9.4</td>\n",
       "      <td>5</td>\n",
       "    </tr>\n",
       "    <tr>\n",
       "      <th>1</th>\n",
       "      <td>7.8</td>\n",
       "      <td>0.88</td>\n",
       "      <td>0.00</td>\n",
       "      <td>2.6</td>\n",
       "      <td>0.098</td>\n",
       "      <td>25.0</td>\n",
       "      <td>67.0</td>\n",
       "      <td>0.9968</td>\n",
       "      <td>3.20</td>\n",
       "      <td>0.68</td>\n",
       "      <td>9.8</td>\n",
       "      <td>5</td>\n",
       "    </tr>\n",
       "    <tr>\n",
       "      <th>2</th>\n",
       "      <td>7.8</td>\n",
       "      <td>0.76</td>\n",
       "      <td>0.04</td>\n",
       "      <td>2.3</td>\n",
       "      <td>0.092</td>\n",
       "      <td>15.0</td>\n",
       "      <td>54.0</td>\n",
       "      <td>0.9970</td>\n",
       "      <td>3.26</td>\n",
       "      <td>0.65</td>\n",
       "      <td>9.8</td>\n",
       "      <td>5</td>\n",
       "    </tr>\n",
       "    <tr>\n",
       "      <th>3</th>\n",
       "      <td>11.2</td>\n",
       "      <td>0.28</td>\n",
       "      <td>0.56</td>\n",
       "      <td>1.9</td>\n",
       "      <td>0.075</td>\n",
       "      <td>17.0</td>\n",
       "      <td>60.0</td>\n",
       "      <td>0.9980</td>\n",
       "      <td>3.16</td>\n",
       "      <td>0.58</td>\n",
       "      <td>9.8</td>\n",
       "      <td>6</td>\n",
       "    </tr>\n",
       "    <tr>\n",
       "      <th>4</th>\n",
       "      <td>7.4</td>\n",
       "      <td>0.70</td>\n",
       "      <td>0.00</td>\n",
       "      <td>1.9</td>\n",
       "      <td>0.076</td>\n",
       "      <td>11.0</td>\n",
       "      <td>34.0</td>\n",
       "      <td>0.9978</td>\n",
       "      <td>3.51</td>\n",
       "      <td>0.56</td>\n",
       "      <td>9.4</td>\n",
       "      <td>5</td>\n",
       "    </tr>\n",
       "  </tbody>\n",
       "</table>\n",
       "</div>"
      ],
      "text/plain": [
       "   Parameter 1  Parameter 2  Parameter 3  Parameter 4  Parameter 5  \\\n",
       "0          7.4         0.70         0.00          1.9        0.076   \n",
       "1          7.8         0.88         0.00          2.6        0.098   \n",
       "2          7.8         0.76         0.04          2.3        0.092   \n",
       "3         11.2         0.28         0.56          1.9        0.075   \n",
       "4          7.4         0.70         0.00          1.9        0.076   \n",
       "\n",
       "   Parameter 6  Parameter 7  Parameter 8  Parameter 9  Parameter 10  \\\n",
       "0         11.0         34.0       0.9978         3.51          0.56   \n",
       "1         25.0         67.0       0.9968         3.20          0.68   \n",
       "2         15.0         54.0       0.9970         3.26          0.65   \n",
       "3         17.0         60.0       0.9980         3.16          0.58   \n",
       "4         11.0         34.0       0.9978         3.51          0.56   \n",
       "\n",
       "   Parameter 11  Signal_Strength  \n",
       "0           9.4                5  \n",
       "1           9.8                5  \n",
       "2           9.8                5  \n",
       "3           9.8                6  \n",
       "4           9.4                5  "
      ]
     },
     "execution_count": 3,
     "metadata": {},
     "output_type": "execute_result"
    }
   ],
   "source": [
    "signal_df.head(5)"
   ]
  },
  {
   "cell_type": "code",
   "execution_count": 57,
   "metadata": {
    "colab": {
     "base_uri": "https://localhost:8080/"
    },
    "id": "hjVm7HAoVnyT",
    "outputId": "c819c960-4676-41f2-880f-1abc7ded3e5e"
   },
   "outputs": [
    {
     "name": "stdout",
     "output_type": "stream",
     "text": [
      "Shape: (1599, 12)\n",
      "\n",
      "Columns: 1599\n",
      "\n",
      "Rows: 12\n",
      "\n",
      "Size: 19188\n"
     ]
    }
   ],
   "source": [
    "# Shape and size of Data\n",
    "\n",
    "print(\"Shape:\", signal_df.shape)\n",
    "print(\"\\nColumns:\", signal_df.shape[0])\n",
    "print(\"\\nRows:\",signal_df.shape[1])\n",
    "print(\"\\nSize:\",signal_df.size)"
   ]
  },
  {
   "cell_type": "code",
   "execution_count": null,
   "metadata": {
    "id": "gphuqWONVnyT",
    "outputId": "6fef9e86-1776-4b3b-b682-bc95ffdb7ae0"
   },
   "outputs": [
    {
     "name": "stdout",
     "output_type": "stream",
     "text": [
      "<class 'pandas.core.frame.DataFrame'>\n",
      "RangeIndex: 1599 entries, 0 to 1598\n",
      "Data columns (total 12 columns):\n",
      " #   Column           Non-Null Count  Dtype  \n",
      "---  ------           --------------  -----  \n",
      " 0   Parameter 1      1599 non-null   float64\n",
      " 1   Parameter 2      1599 non-null   float64\n",
      " 2   Parameter 3      1599 non-null   float64\n",
      " 3   Parameter 4      1599 non-null   float64\n",
      " 4   Parameter 5      1599 non-null   float64\n",
      " 5   Parameter 6      1599 non-null   float64\n",
      " 6   Parameter 7      1599 non-null   float64\n",
      " 7   Parameter 8      1599 non-null   float64\n",
      " 8   Parameter 9      1599 non-null   float64\n",
      " 9   Parameter 10     1599 non-null   float64\n",
      " 10  Parameter 11     1599 non-null   float64\n",
      " 11  Signal_Strength  1599 non-null   int64  \n",
      "dtypes: float64(11), int64(1)\n",
      "memory usage: 150.0 KB\n"
     ]
    }
   ],
   "source": [
    "signal_df.info()\n"
   ]
  },
  {
   "cell_type": "markdown",
   "metadata": {
    "id": "w37bQYIMVnyT"
   },
   "source": [
    "B. Check for missing values and print percentage for each attribute. "
   ]
  },
  {
   "cell_type": "code",
   "execution_count": null,
   "metadata": {
    "id": "WNM02giWVnyT",
    "outputId": "c6bbf06a-3286-4938-e395-cb4b9b420540"
   },
   "outputs": [
    {
     "data": {
      "text/plain": [
       "Parameter 1        0\n",
       "Parameter 2        0\n",
       "Parameter 3        0\n",
       "Parameter 4        0\n",
       "Parameter 5        0\n",
       "Parameter 6        0\n",
       "Parameter 7        0\n",
       "Parameter 8        0\n",
       "Parameter 9        0\n",
       "Parameter 10       0\n",
       "Parameter 11       0\n",
       "Signal_Strength    0\n",
       "dtype: int64"
      ]
     },
     "execution_count": 5,
     "metadata": {},
     "output_type": "execute_result"
    }
   ],
   "source": [
    "# Null value detection\n",
    "signal_df.isna().sum()"
   ]
  },
  {
   "cell_type": "code",
   "execution_count": null,
   "metadata": {
    "id": "F7_JYRolVnyT",
    "outputId": "4fb4933b-3b15-464f-dda0-ab740afd5d50"
   },
   "outputs": [
    {
     "data": {
      "text/html": [
       "<div>\n",
       "<style scoped>\n",
       "    .dataframe tbody tr th:only-of-type {\n",
       "        vertical-align: middle;\n",
       "    }\n",
       "\n",
       "    .dataframe tbody tr th {\n",
       "        vertical-align: top;\n",
       "    }\n",
       "\n",
       "    .dataframe thead th {\n",
       "        text-align: right;\n",
       "    }\n",
       "</style>\n",
       "<table border=\"1\" class=\"dataframe\">\n",
       "  <thead>\n",
       "    <tr style=\"text-align: right;\">\n",
       "      <th></th>\n",
       "      <th>column_name</th>\n",
       "      <th>percent_missing</th>\n",
       "    </tr>\n",
       "  </thead>\n",
       "  <tbody>\n",
       "    <tr>\n",
       "      <th>Parameter 1</th>\n",
       "      <td>Parameter 1</td>\n",
       "      <td>0.0</td>\n",
       "    </tr>\n",
       "    <tr>\n",
       "      <th>Parameter 2</th>\n",
       "      <td>Parameter 2</td>\n",
       "      <td>0.0</td>\n",
       "    </tr>\n",
       "    <tr>\n",
       "      <th>Parameter 3</th>\n",
       "      <td>Parameter 3</td>\n",
       "      <td>0.0</td>\n",
       "    </tr>\n",
       "    <tr>\n",
       "      <th>Parameter 4</th>\n",
       "      <td>Parameter 4</td>\n",
       "      <td>0.0</td>\n",
       "    </tr>\n",
       "    <tr>\n",
       "      <th>Parameter 5</th>\n",
       "      <td>Parameter 5</td>\n",
       "      <td>0.0</td>\n",
       "    </tr>\n",
       "    <tr>\n",
       "      <th>Parameter 6</th>\n",
       "      <td>Parameter 6</td>\n",
       "      <td>0.0</td>\n",
       "    </tr>\n",
       "    <tr>\n",
       "      <th>Parameter 7</th>\n",
       "      <td>Parameter 7</td>\n",
       "      <td>0.0</td>\n",
       "    </tr>\n",
       "    <tr>\n",
       "      <th>Parameter 8</th>\n",
       "      <td>Parameter 8</td>\n",
       "      <td>0.0</td>\n",
       "    </tr>\n",
       "    <tr>\n",
       "      <th>Parameter 9</th>\n",
       "      <td>Parameter 9</td>\n",
       "      <td>0.0</td>\n",
       "    </tr>\n",
       "    <tr>\n",
       "      <th>Parameter 10</th>\n",
       "      <td>Parameter 10</td>\n",
       "      <td>0.0</td>\n",
       "    </tr>\n",
       "    <tr>\n",
       "      <th>Parameter 11</th>\n",
       "      <td>Parameter 11</td>\n",
       "      <td>0.0</td>\n",
       "    </tr>\n",
       "    <tr>\n",
       "      <th>Signal_Strength</th>\n",
       "      <td>Signal_Strength</td>\n",
       "      <td>0.0</td>\n",
       "    </tr>\n",
       "  </tbody>\n",
       "</table>\n",
       "</div>"
      ],
      "text/plain": [
       "                     column_name  percent_missing\n",
       "Parameter 1          Parameter 1              0.0\n",
       "Parameter 2          Parameter 2              0.0\n",
       "Parameter 3          Parameter 3              0.0\n",
       "Parameter 4          Parameter 4              0.0\n",
       "Parameter 5          Parameter 5              0.0\n",
       "Parameter 6          Parameter 6              0.0\n",
       "Parameter 7          Parameter 7              0.0\n",
       "Parameter 8          Parameter 8              0.0\n",
       "Parameter 9          Parameter 9              0.0\n",
       "Parameter 10        Parameter 10              0.0\n",
       "Parameter 11        Parameter 11              0.0\n",
       "Signal_Strength  Signal_Strength              0.0"
      ]
     },
     "execution_count": 6,
     "metadata": {},
     "output_type": "execute_result"
    }
   ],
   "source": [
    "# Checking missing percentage of each col\n",
    "percent_missing = signal_df.isnull().sum() * 100 / len(signal_df)\n",
    "missing_value_df = pd.DataFrame({'column_name': signal_df.columns,\n",
    "                                 'percent_missing': percent_missing})\n",
    "missing_value_df\n"
   ]
  },
  {
   "cell_type": "markdown",
   "metadata": {
    "id": "PQoV7duZVnyT"
   },
   "source": [
    "C. Check for presence of duplicate records in the dataset and impute with appropriate method"
   ]
  },
  {
   "cell_type": "code",
   "execution_count": null,
   "metadata": {
    "id": "9qYkWR6vVnyT",
    "outputId": "5854edbd-7656-4def-a707-73cccaaf8066"
   },
   "outputs": [
    {
     "name": "stdout",
     "output_type": "stream",
     "text": [
      "Is there any dublicate value:  True\n",
      "No. of duplicate records: Parameter 1        1359\n",
      "Parameter 2        1359\n",
      "Parameter 3        1359\n",
      "Parameter 4        1359\n",
      "Parameter 5        1359\n",
      "Parameter 6        1359\n",
      "Parameter 7        1359\n",
      "Parameter 8        1359\n",
      "Parameter 9        1359\n",
      "Parameter 10       1359\n",
      "Parameter 11       1359\n",
      "Signal_Strength    1359\n",
      "size               1359\n",
      "dtype: int64\n",
      "Any duplicate records after cleansing: False\n"
     ]
    }
   ],
   "source": [
    "print(\"Is there any dublicate value: \",signal_df.duplicated().any())\n",
    "## Removing the dublicate value\n",
    "print(\"No. of duplicate records:\", signal_df.groupby(\n",
    "    signal_df.columns.tolist(), as_index=False).size().count())\n",
    "\n",
    "#Removing the dublicate Records\n",
    "df = signal_df.drop_duplicates(keep=False, inplace=False)\n",
    "print(\"Any duplicate records after cleansing:\", df.duplicated().any())\n"
   ]
  },
  {
   "cell_type": "markdown",
   "metadata": {
    "id": "MLbwmg-cVnyU"
   },
   "source": [
    "D. Visualise distribution of the target variable."
   ]
  },
  {
   "cell_type": "code",
   "execution_count": null,
   "metadata": {
    "id": "mzq2CCYTVnyU",
    "outputId": "28e69ad4-8667-4787-fa49-86de4c4ce6a7"
   },
   "outputs": [
    {
     "data": {
      "text/plain": [
       "5    480\n",
       "6    442\n",
       "7    138\n",
       "4     53\n",
       "8     16\n",
       "3     10\n",
       "Name: Signal_Strength, dtype: int64"
      ]
     },
     "execution_count": 8,
     "metadata": {},
     "output_type": "execute_result"
    }
   ],
   "source": [
    "df['Signal_Strength'].value_counts()"
   ]
  },
  {
   "cell_type": "code",
   "execution_count": null,
   "metadata": {
    "id": "lWmJ2iuGVnyU",
    "outputId": "b0e948cb-d3e6-41a3-b44b-225c0eb6f387"
   },
   "outputs": [
    {
     "name": "stderr",
     "output_type": "stream",
     "text": [
      "C:\\Python310\\lib\\site-packages\\seaborn\\_decorators.py:36: FutureWarning: Pass the following variable as a keyword arg: x. From version 0.12, the only valid positional argument will be `data`, and passing other arguments without an explicit keyword will result in an error or misinterpretation.\n",
      "  warnings.warn(\n"
     ]
    },
    {
     "data": {
      "image/png": "[encoded data removed]",
      "text/plain": [
       "<Figure size 432x288 with 1 Axes>"
      ]
     },
     "metadata": {
      "needs_background": "light"
     },
     "output_type": "display_data"
    }
   ],
   "source": [
    "# Distibution of the column 'Signal_Strength'\n",
    "sns.countplot(df['Signal_Strength'])\n",
    "plt.show()\n"
   ]
  },
  {
   "cell_type": "code",
   "execution_count": null,
   "metadata": {
    "id": "Pskeu--GVnyU",
    "outputId": "1f75d941-9bfd-4e9e-e446-f509c3f40b14"
   },
   "outputs": [
    {
     "data": {
      "text/plain": [
       "\"\\nWe can see in the above chart that signal 5 and 6's counts are more closer than any other signal strength value\\n\""
      ]
     },
     "execution_count": 11,
     "metadata": {},
     "output_type": "execute_result"
    }
   ],
   "source": [
    "\"\"\"\n",
    "We can see in the above chart that signal 5 and 6's counts are more closer than any other signal strength value\n",
    "\"\"\""
   ]
  },
  {
   "cell_type": "markdown",
   "metadata": {
    "id": "4xEfwrurVnyU"
   },
   "source": [
    "E. Share insights from the initial data analysis (at least 2). "
   ]
  },
  {
   "cell_type": "code",
   "execution_count": null,
   "metadata": {
    "id": "vkEPJyhDVnyU",
    "outputId": "8de3e018-d4a9-407a-eb4e-fad045513ed8"
   },
   "outputs": [
    {
     "data": {
      "text/plain": [
       "\"\\nThere are 1599 rows and 12 columns in data\\nThere are 1599 rows and 12 columns\\nAll the parameters are floating point and the signal strength is an integer.\\nApart from Signal Strength rest all features are floating point\\nThere are no null values in the data\\nclass 5.0 in 'Signal_Strength' has the highest count.\\n\""
      ]
     },
     "execution_count": 13,
     "metadata": {},
     "output_type": "execute_result"
    }
   ],
   "source": [
    "\"\"\"\n",
    "There are 1599 rows and 12 columns in data\n",
    "There are 1599 rows and 12 columns\n",
    "All the parameters are floating point and the signal strength is an integer.\n",
    "Apart from Signal Strength rest all features are floating point\n",
    "There are no null values in the data\n",
    "class 5.0 in 'Signal_Strength' has the highest count.\n",
    "\"\"\""
   ]
  },
  {
   "cell_type": "code",
   "execution_count": null,
   "metadata": {
    "id": "flFkZKmNVnyU",
    "outputId": "520c6f23-39a4-4745-f2c9-e007cd3864e7"
   },
   "outputs": [
    {
     "data": {
      "image/png": "[encoded data removed]",
      "text/plain": [
       "<Figure size 1440x576 with 2 Axes>"
      ]
     },
     "metadata": {
      "needs_background": "light"
     },
     "output_type": "display_data"
    }
   ],
   "source": [
    "plt.subplots(figsize=(20, 8))\n",
    "sns.heatmap(df.corr())\n",
    "plt.show()\n"
   ]
  },
  {
   "cell_type": "code",
   "execution_count": null,
   "metadata": {
    "id": "k7YWqMJ3VnyU",
    "outputId": "60670dcc-69a2-41aa-8db2-55d8da17cfb3"
   },
   "outputs": [
    {
     "data": {
      "text/plain": [
       "'\\n1.Parameter 6 and Parameter 7 are highly correlated with each other and visce versa and they have almost 0 correlation with other Parameters 2.Parameter 1 is positively correlated to Parameter 3 and Parameter 8 and negatively correlated to Parameter 2 and Parameter 9. 3.Parameter 4 is has very low correlation with other Parameters.\\n'"
      ]
     },
     "execution_count": 15,
     "metadata": {},
     "output_type": "execute_result"
    }
   ],
   "source": [
    "\"\"\"\n",
    "1.Parameter 6 and Parameter 7 are highly correlated with each other and visce versa and they have almost 0 correlation with other Parameters 2.Parameter 1 is positively correlated to Parameter 3 and Parameter 8 and negatively correlated to Parameter 2 and Parameter 9. 3.Parameter 4 is has very low correlation with other Parameters.\n",
    "\"\"\""
   ]
  },
  {
   "cell_type": "markdown",
   "metadata": {
    "id": "RaowytVYVnyU"
   },
   "source": [
    "### 2. Data preprocessing "
   ]
  },
  {
   "cell_type": "markdown",
   "metadata": {
    "id": "L5flTbghVnyU"
   },
   "source": [
    "A. Split the data into X & Y"
   ]
  },
  {
   "cell_type": "code",
   "execution_count": null,
   "metadata": {
    "id": "NuROxkNRVnyV"
   },
   "outputs": [],
   "source": [
    "# Feature Importance\n",
    "# Independent variables\n",
    "X = df.drop('Signal_Strength', axis=1)\n",
    "\n",
    "# Target variable\n",
    "Y = df['Signal_Strength']\n"
   ]
  },
  {
   "cell_type": "markdown",
   "metadata": {
    "id": "MQoDAQFWVnyV"
   },
   "source": [
    "B. Split the data into train & test with 70:30 proportion."
   ]
  },
  {
   "cell_type": "code",
   "execution_count": null,
   "metadata": {
    "id": "evZTFd1lVnyV"
   },
   "outputs": [],
   "source": [
    "\n",
    "# splitting to create test data\n",
    "X_Train, X_Test, Y_Train, Y_Test = train_test_split(\n",
    "    X, Y, train_size=0.7, random_state=12)\n"
   ]
  },
  {
   "cell_type": "markdown",
   "metadata": {
    "id": "VxQfIpMhVnyV"
   },
   "source": [
    "C. Print shape of all the 4 variables and verify if train and test data is in sync"
   ]
  },
  {
   "cell_type": "code",
   "execution_count": null,
   "metadata": {
    "id": "xABBvwEiVnyV",
    "outputId": "678d2757-75e4-4ccf-8f7b-478966ac2dd4"
   },
   "outputs": [
    {
     "name": "stdout",
     "output_type": "stream",
     "text": [
      "Shape of X_Train: (797, 11)\n",
      "Shape of X_Test: (342, 11)\n",
      "Shape of Y_Train: (797,)\n",
      "Shape of Y_Test: (342,)\n"
     ]
    }
   ],
   "source": [
    "print(\"Shape of X_Train:\", X_Train.shape)\n",
    "print(\"Shape of X_Test:\", X_Test.shape)\n",
    "print(\"Shape of Y_Train:\", Y_Train.shape)\n",
    "print(\"Shape of Y_Test:\", Y_Test.shape)\n"
   ]
  },
  {
   "cell_type": "markdown",
   "metadata": {
    "id": "90aKMkIRVnyV"
   },
   "source": [
    "D. Normalise the train and test data with appropriate method. "
   ]
  },
  {
   "cell_type": "code",
   "execution_count": null,
   "metadata": {
    "id": "VOOjf0sVVnyV"
   },
   "outputs": [],
   "source": [
    "# Scaling training data\n",
    "X_Train_S = StandardScaler().fit_transform(X_Train)\n",
    "\n",
    "# Scaling testing data\n",
    "X_Test_S = StandardScaler().fit_transform(X_Test)\n"
   ]
  },
  {
   "cell_type": "code",
   "execution_count": null,
   "metadata": {
    "id": "sZCies0OVnyV",
    "outputId": "115a4239-568b-4b6d-83f7-fb0fbbf70cbc"
   },
   "outputs": [
    {
     "name": "stdout",
     "output_type": "stream",
     "text": [
      "(797, 11)\n",
      "(342, 11)\n",
      "(797,)\n",
      "(342,)\n"
     ]
    }
   ],
   "source": [
    "# Confirming Matrix size\n",
    "print(X_Train_S.shape)\n",
    "print(X_Test_S.shape)\n",
    "print(Y_Train.shape)\n",
    "print(Y_Test.shape)\n"
   ]
  },
  {
   "cell_type": "markdown",
   "metadata": {
    "id": "Aol_EprHVnyV"
   },
   "source": [
    "E. Transform Labels into format acceptable by Neural Network"
   ]
  },
  {
   "cell_type": "code",
   "execution_count": null,
   "metadata": {
    "id": "0bHZeiU-VnyV"
   },
   "outputs": [],
   "source": [
    "from tensorflow.keras.utils import to_categorical\n",
    "# one hot encode outputs\n",
    "y_train = to_categorical(y_train)\n",
    "y_test = to_categorical(y_test)\n"
   ]
  },
  {
   "cell_type": "markdown",
   "metadata": {
    "id": "vPYA-mORVnyV"
   },
   "source": [
    "### 3. Model Training & Evaluation using Neural Network"
   ]
  },
  {
   "cell_type": "code",
   "execution_count": null,
   "metadata": {
    "id": "EHgr_5wgVnyW"
   },
   "outputs": [],
   "source": [
    "# importing packages\n",
    "from keras.models import Sequential\n",
    "from keras.layers import Dense, Activation, LeakyReLU\n",
    "from keras import optimizers\n"
   ]
  },
  {
   "cell_type": "markdown",
   "metadata": {
    "id": "zJYCdWCIVnyW"
   },
   "source": [
    "A. Design a Neural Network to train a classifier."
   ]
  },
  {
   "cell_type": "code",
   "execution_count": null,
   "metadata": {
    "id": "_uxSuWhiVnyW"
   },
   "outputs": [],
   "source": [
    "# Independent variables\n",
    "X=df.drop('Signal_Strength',axis=1)  \n",
    "\n",
    "# Target variable\n",
    "Y = df['Signal_Strength']\n",
    "\n",
    "X_Train,X_Test,Y_Train,Y_Test=train_test_split(X, Y, train_size=0.7, random_state=12)"
   ]
  },
  {
   "cell_type": "code",
   "execution_count": null,
   "metadata": {
    "id": "-MDAg-PWVnyW"
   },
   "outputs": [],
   "source": [
    "# Scaling training data\n",
    "X_Train_S = StandardScaler().fit_transform(X_Train)\n",
    "\n",
    "# Scaling testing data\n",
    "X_Test_S = StandardScaler().fit_transform(X_Test)\n"
   ]
  },
  {
   "cell_type": "code",
   "execution_count": null,
   "metadata": {
    "id": "_66HQv-4VnyW",
    "outputId": "89346686-bf86-4d2c-8364-9610a253b09e"
   },
   "outputs": [
    {
     "name": "stdout",
     "output_type": "stream",
     "text": [
      "Model: \"sequential_10\"\n",
      "_________________________________________________________________\n",
      " Layer (type)                Output Shape              Param #   \n",
      "=================================================================\n",
      " dense_34 (Dense)            (None, 128)               1536      \n",
      "                                                                 \n",
      " dense_35 (Dense)            (None, 64)                8256      \n",
      "                                                                 \n",
      " dense_36 (Dense)            (None, 32)                2080      \n",
      "                                                                 \n",
      " leaky_re_lu_18 (LeakyReLU)  (None, 32)                0         \n",
      "                                                                 \n",
      " dense_37 (Dense)            (None, 16)                528       \n",
      "                                                                 \n",
      " leaky_re_lu_19 (LeakyReLU)  (None, 16)                0         \n",
      "                                                                 \n",
      " dense_38 (Dense)            (None, 1)                 17        \n",
      "                                                                 \n",
      " leaky_re_lu_20 (LeakyReLU)  (None, 1)                 0         \n",
      "                                                                 \n",
      "=================================================================\n",
      "Total params: 12,417\n",
      "Trainable params: 12,417\n",
      "Non-trainable params: 0\n",
      "_________________________________________________________________\n"
     ]
    }
   ],
   "source": [
    "NN_model_Regressor = Sequential()\n",
    "\n",
    "# The Input Layer :\n",
    "NN_model_Regressor.add(Dense(128, kernel_initializer='normal',\n",
    "                       input_dim=X_Train.shape[1], activation='relu'))\n",
    "\n",
    "# The Hidden Layers :\n",
    "NN_model_Regressor.add(\n",
    "    Dense(64, kernel_initializer='normal', activation='relu'))\n",
    "\n",
    "NN_model_Regressor.add(Dense(32, kernel_initializer='normal'))\n",
    "NN_model_Regressor.add(LeakyReLU(alpha=0.1))\n",
    "\n",
    "NN_model_Regressor.add(Dense(16, kernel_initializer='normal'))\n",
    "NN_model_Regressor.add(LeakyReLU(alpha=0.1))\n",
    "\n",
    "\n",
    "# The Output Layer :\n",
    "NN_model_Regressor.add(Dense(1, kernel_initializer='normal'))  # except softmax\n",
    "NN_model_Regressor.add(LeakyReLU(alpha=0.1))\n",
    "\n",
    "# Compile the network :\n",
    "NN_model_Regressor.compile(loss='mean_absolute_error',\n",
    "                           optimizer='adam', metrics=['accuracy'])\n",
    "NN_model_Regressor.summary()\n"
   ]
  },
  {
   "cell_type": "markdown",
   "metadata": {
    "id": "QOFkr417VnyW"
   },
   "source": [
    "B. Train the classifier using previously designed Architecture "
   ]
  },
  {
   "cell_type": "code",
   "execution_count": null,
   "metadata": {
    "id": "y8P8sMRHVnyW",
    "outputId": "b802df26-3d3f-4f91-fe31-40582d8f924f"
   },
   "outputs": [
    {
     "name": "stdout",
     "output_type": "stream",
     "text": [
      "Epoch 1/400\n",
      "4/4 [==============================] - 1s 91ms/step - loss: 5.6033 - accuracy: 0.0000e+00 - val_loss: 5.6065 - val_accuracy: 0.0000e+00\n",
      "Epoch 2/400\n",
      "4/4 [==============================] - 0s 14ms/step - loss: 5.5949 - accuracy: 0.0000e+00 - val_loss: 5.5963 - val_accuracy: 0.0000e+00\n",
      "Epoch 3/400\n",
      "4/4 [==============================] - 0s 20ms/step - loss: 5.5830 - accuracy: 0.0000e+00 - val_loss: 5.5811 - val_accuracy: 0.0000e+00\n",
      "Epoch 4/400\n",
      "4/4 [==============================] - 0s 21ms/step - loss: 5.5644 - accuracy: 0.0000e+00 - val_loss: 5.5562 - val_accuracy: 0.0000e+00\n",
      "Epoch 5/400\n",
      "4/4 [==============================] - 0s 27ms/step - loss: 5.5331 - accuracy: 0.0000e+00 - val_loss: 5.5138 - val_accuracy: 0.0000e+00\n",
      "Epoch 6/400\n",
      "4/4 [==============================] - 0s 27ms/step - loss: 5.4800 - accuracy: 0.0000e+00 - val_loss: 5.4401 - val_accuracy: 0.0000e+00\n",
      "Epoch 7/400\n",
      "4/4 [==============================] - 0s 26ms/step - loss: 5.3873 - accuracy: 0.0000e+00 - val_loss: 5.3123 - val_accuracy: 0.0000e+00\n",
      "Epoch 8/400\n",
      "4/4 [==============================] - 0s 23ms/step - loss: 5.2276 - accuracy: 0.0000e+00 - val_loss: 5.0957 - val_accuracy: 0.0000e+00\n",
      "Epoch 9/400\n",
      "4/4 [==============================] - 0s 20ms/step - loss: 4.9589 - accuracy: 0.0000e+00 - val_loss: 4.7356 - val_accuracy: 0.0000e+00\n",
      "Epoch 10/400\n",
      "4/4 [==============================] - 0s 23ms/step - loss: 4.5142 - accuracy: 0.0000e+00 - val_loss: 4.1517 - val_accuracy: 0.0000e+00\n",
      "Epoch 11/400\n",
      "4/4 [==============================] - 0s 23ms/step - loss: 3.8052 - accuracy: 0.0000e+00 - val_loss: 3.2560 - val_accuracy: 0.0000e+00\n",
      "Epoch 12/400\n",
      "4/4 [==============================] - 0s 24ms/step - loss: 2.7651 - accuracy: 0.0000e+00 - val_loss: 2.0927 - val_accuracy: 0.0000e+00\n",
      "Epoch 13/400\n",
      "4/4 [==============================] - 0s 28ms/step - loss: 1.7383 - accuracy: 0.0000e+00 - val_loss: 1.5731 - val_accuracy: 0.0000e+00\n",
      "Epoch 14/400\n",
      "4/4 [==============================] - 0s 24ms/step - loss: 1.6895 - accuracy: 0.0000e+00 - val_loss: 1.7792 - val_accuracy: 0.0000e+00\n",
      "Epoch 15/400\n",
      "4/4 [==============================] - 0s 23ms/step - loss: 1.7350 - accuracy: 0.0000e+00 - val_loss: 1.4718 - val_accuracy: 0.0000e+00\n",
      "Epoch 16/400\n",
      "4/4 [==============================] - 0s 29ms/step - loss: 1.3628 - accuracy: 0.0000e+00 - val_loss: 1.2957 - val_accuracy: 0.0000e+00\n",
      "Epoch 17/400\n",
      "4/4 [==============================] - 0s 19ms/step - loss: 1.2649 - accuracy: 0.0000e+00 - val_loss: 1.3493 - val_accuracy: 0.0000e+00\n",
      "Epoch 18/400\n",
      "4/4 [==============================] - 0s 22ms/step - loss: 1.2508 - accuracy: 0.0000e+00 - val_loss: 1.2378 - val_accuracy: 0.0000e+00\n",
      "Epoch 19/400\n",
      "4/4 [==============================] - 0s 21ms/step - loss: 1.1214 - accuracy: 0.0000e+00 - val_loss: 1.1209 - val_accuracy: 0.0000e+00\n",
      "Epoch 20/400\n",
      "4/4 [==============================] - 0s 20ms/step - loss: 1.0907 - accuracy: 0.0000e+00 - val_loss: 1.1143 - val_accuracy: 0.0000e+00\n",
      "Epoch 21/400\n",
      "4/4 [==============================] - 0s 18ms/step - loss: 1.0550 - accuracy: 0.0000e+00 - val_loss: 1.0775 - val_accuracy: 0.0000e+00\n",
      "Epoch 22/400\n",
      "4/4 [==============================] - 0s 27ms/step - loss: 1.0058 - accuracy: 0.0000e+00 - val_loss: 1.0758 - val_accuracy: 0.0000e+00\n",
      "Epoch 23/400\n",
      "4/4 [==============================] - 0s 22ms/step - loss: 0.9883 - accuracy: 0.0000e+00 - val_loss: 1.0491 - val_accuracy: 0.0000e+00\n",
      "Epoch 24/400\n",
      "4/4 [==============================] - 0s 22ms/step - loss: 0.9552 - accuracy: 0.0000e+00 - val_loss: 1.0197 - val_accuracy: 0.0000e+00\n",
      "Epoch 25/400\n",
      "4/4 [==============================] - 0s 22ms/step - loss: 0.9356 - accuracy: 0.0000e+00 - val_loss: 1.0012 - val_accuracy: 0.0000e+00\n",
      "Epoch 26/400\n",
      "4/4 [==============================] - 0s 26ms/step - loss: 0.9183 - accuracy: 0.0000e+00 - val_loss: 0.9808 - val_accuracy: 0.0000e+00\n",
      "Epoch 27/400\n",
      "4/4 [==============================] - 0s 65ms/step - loss: 0.8974 - accuracy: 0.0000e+00 - val_loss: 0.9663 - val_accuracy: 0.0000e+00\n",
      "Epoch 28/400\n",
      "4/4 [==============================] - 0s 37ms/step - loss: 0.8799 - accuracy: 0.0000e+00 - val_loss: 0.9470 - val_accuracy: 0.0000e+00\n",
      "Epoch 29/400\n",
      "4/4 [==============================] - 0s 30ms/step - loss: 0.8609 - accuracy: 0.0000e+00 - val_loss: 0.9314 - val_accuracy: 0.0000e+00\n",
      "Epoch 30/400\n",
      "4/4 [==============================] - 0s 24ms/step - loss: 0.8485 - accuracy: 0.0000e+00 - val_loss: 0.9174 - val_accuracy: 0.0000e+00\n",
      "Epoch 31/400\n",
      "4/4 [==============================] - 0s 14ms/step - loss: 0.8313 - accuracy: 0.0000e+00 - val_loss: 0.9051 - val_accuracy: 0.0000e+00\n",
      "Epoch 32/400\n",
      "4/4 [==============================] - 0s 15ms/step - loss: 0.8175 - accuracy: 0.0000e+00 - val_loss: 0.8941 - val_accuracy: 0.0000e+00\n",
      "Epoch 33/400\n",
      "4/4 [==============================] - 0s 14ms/step - loss: 0.8052 - accuracy: 0.0000e+00 - val_loss: 0.8785 - val_accuracy: 0.0000e+00\n",
      "Epoch 34/400\n",
      "4/4 [==============================] - 0s 23ms/step - loss: 0.7898 - accuracy: 0.0000e+00 - val_loss: 0.8674 - val_accuracy: 0.0000e+00\n",
      "Epoch 35/400\n",
      "4/4 [==============================] - 0s 14ms/step - loss: 0.7750 - accuracy: 0.0000e+00 - val_loss: 0.8541 - val_accuracy: 0.0000e+00\n",
      "Epoch 36/400\n",
      "4/4 [==============================] - 0s 18ms/step - loss: 0.7624 - accuracy: 0.0000e+00 - val_loss: 0.8410 - val_accuracy: 0.0000e+00\n",
      "Epoch 37/400\n",
      "4/4 [==============================] - 0s 18ms/step - loss: 0.7479 - accuracy: 0.0000e+00 - val_loss: 0.8304 - val_accuracy: 0.0000e+00\n",
      "Epoch 38/400\n",
      "4/4 [==============================] - 0s 20ms/step - loss: 0.7365 - accuracy: 0.0000e+00 - val_loss: 0.8165 - val_accuracy: 0.0000e+00\n",
      "Epoch 39/400\n",
      "4/4 [==============================] - 0s 16ms/step - loss: 0.7264 - accuracy: 0.0000e+00 - val_loss: 0.8048 - val_accuracy: 0.0000e+00\n",
      "Epoch 40/400\n",
      "4/4 [==============================] - 0s 17ms/step - loss: 0.7136 - accuracy: 0.0000e+00 - val_loss: 0.7969 - val_accuracy: 0.0000e+00\n",
      "Epoch 41/400\n",
      "4/4 [==============================] - 0s 19ms/step - loss: 0.7039 - accuracy: 0.0000e+00 - val_loss: 0.7834 - val_accuracy: 0.0000e+00\n",
      "Epoch 42/400\n",
      "4/4 [==============================] - 0s 21ms/step - loss: 0.6921 - accuracy: 0.0000e+00 - val_loss: 0.7697 - val_accuracy: 0.0000e+00\n",
      "Epoch 43/400\n",
      "4/4 [==============================] - 0s 21ms/step - loss: 0.6815 - accuracy: 0.0000e+00 - val_loss: 0.7628 - val_accuracy: 0.0000e+00\n",
      "Epoch 44/400\n",
      "4/4 [==============================] - 0s 18ms/step - loss: 0.6720 - accuracy: 0.0000e+00 - val_loss: 0.7503 - val_accuracy: 0.0000e+00\n",
      "Epoch 45/400\n",
      "4/4 [==============================] - 0s 30ms/step - loss: 0.6617 - accuracy: 0.0000e+00 - val_loss: 0.7382 - val_accuracy: 0.0000e+00\n",
      "Epoch 46/400\n",
      "4/4 [==============================] - 0s 21ms/step - loss: 0.6554 - accuracy: 0.0000e+00 - val_loss: 0.7291 - val_accuracy: 0.0000e+00\n",
      "Epoch 47/400\n",
      "4/4 [==============================] - 0s 18ms/step - loss: 0.6464 - accuracy: 0.0000e+00 - val_loss: 0.7207 - val_accuracy: 0.0000e+00\n",
      "Epoch 48/400\n",
      "4/4 [==============================] - 0s 20ms/step - loss: 0.6381 - accuracy: 0.0000e+00 - val_loss: 0.7074 - val_accuracy: 0.0000e+00\n",
      "Epoch 49/400\n",
      "4/4 [==============================] - 0s 21ms/step - loss: 0.6296 - accuracy: 0.0000e+00 - val_loss: 0.7018 - val_accuracy: 0.0000e+00\n",
      "Epoch 50/400\n",
      "4/4 [==============================] - 0s 20ms/step - loss: 0.6232 - accuracy: 0.0000e+00 - val_loss: 0.6957 - val_accuracy: 0.0000e+00\n",
      "Epoch 51/400\n",
      "4/4 [==============================] - 0s 25ms/step - loss: 0.6146 - accuracy: 0.0000e+00 - val_loss: 0.6873 - val_accuracy: 0.0000e+00\n",
      "Epoch 52/400\n",
      "4/4 [==============================] - 0s 14ms/step - loss: 0.6066 - accuracy: 0.0000e+00 - val_loss: 0.6830 - val_accuracy: 0.0000e+00\n",
      "Epoch 53/400\n",
      "4/4 [==============================] - 0s 16ms/step - loss: 0.6079 - accuracy: 0.0000e+00 - val_loss: 0.6724 - val_accuracy: 0.0000e+00\n",
      "Epoch 54/400\n",
      "4/4 [==============================] - 0s 22ms/step - loss: 0.6017 - accuracy: 0.0000e+00 - val_loss: 0.6652 - val_accuracy: 0.0000e+00\n",
      "Epoch 55/400\n",
      "4/4 [==============================] - 0s 18ms/step - loss: 0.5963 - accuracy: 0.0000e+00 - val_loss: 0.6667 - val_accuracy: 0.0000e+00\n",
      "Epoch 56/400\n",
      "4/4 [==============================] - 0s 16ms/step - loss: 0.5846 - accuracy: 0.0000e+00 - val_loss: 0.6541 - val_accuracy: 0.0000e+00\n",
      "Epoch 57/400\n",
      "4/4 [==============================] - 0s 20ms/step - loss: 0.5830 - accuracy: 0.0000e+00 - val_loss: 0.6486 - val_accuracy: 0.0000e+00\n",
      "Epoch 58/400\n",
      "4/4 [==============================] - 0s 16ms/step - loss: 0.5798 - accuracy: 0.0000e+00 - val_loss: 0.6445 - val_accuracy: 0.0000e+00\n",
      "Epoch 59/400\n",
      "4/4 [==============================] - 0s 24ms/step - loss: 0.5814 - accuracy: 0.0000e+00 - val_loss: 0.6412 - val_accuracy: 0.0000e+00\n",
      "Epoch 60/400\n",
      "4/4 [==============================] - 0s 23ms/step - loss: 0.5682 - accuracy: 0.0000e+00 - val_loss: 0.6456 - val_accuracy: 0.0000e+00\n",
      "Epoch 61/400\n",
      "4/4 [==============================] - 0s 26ms/step - loss: 0.5666 - accuracy: 0.0000e+00 - val_loss: 0.6326 - val_accuracy: 0.0000e+00\n",
      "Epoch 62/400\n",
      "4/4 [==============================] - 0s 21ms/step - loss: 0.5623 - accuracy: 0.0000e+00 - val_loss: 0.6326 - val_accuracy: 0.0000e+00\n",
      "Epoch 63/400\n",
      "4/4 [==============================] - 0s 22ms/step - loss: 0.5559 - accuracy: 0.0000e+00 - val_loss: 0.6241 - val_accuracy: 0.0000e+00\n",
      "Epoch 64/400\n",
      "4/4 [==============================] - 0s 24ms/step - loss: 0.5521 - accuracy: 0.0000e+00 - val_loss: 0.6199 - val_accuracy: 0.0000e+00\n",
      "Epoch 65/400\n",
      "4/4 [==============================] - 0s 21ms/step - loss: 0.5495 - accuracy: 0.0000e+00 - val_loss: 0.6161 - val_accuracy: 0.0000e+00\n",
      "Epoch 66/400\n",
      "4/4 [==============================] - 0s 19ms/step - loss: 0.5465 - accuracy: 0.0000e+00 - val_loss: 0.6116 - val_accuracy: 0.0000e+00\n",
      "Epoch 67/400\n",
      "4/4 [==============================] - 0s 22ms/step - loss: 0.5424 - accuracy: 0.0000e+00 - val_loss: 0.6122 - val_accuracy: 0.0000e+00\n",
      "Epoch 68/400\n",
      "4/4 [==============================] - 0s 19ms/step - loss: 0.5406 - accuracy: 0.0000e+00 - val_loss: 0.6072 - val_accuracy: 0.0000e+00\n",
      "Epoch 69/400\n",
      "4/4 [==============================] - 0s 22ms/step - loss: 0.5366 - accuracy: 0.0000e+00 - val_loss: 0.6032 - val_accuracy: 0.0000e+00\n",
      "Epoch 70/400\n",
      "4/4 [==============================] - 0s 18ms/step - loss: 0.5363 - accuracy: 0.0000e+00 - val_loss: 0.6028 - val_accuracy: 0.0000e+00\n",
      "Epoch 71/400\n",
      "4/4 [==============================] - 0s 19ms/step - loss: 0.5308 - accuracy: 0.0000e+00 - val_loss: 0.6029 - val_accuracy: 0.0000e+00\n",
      "Epoch 72/400\n",
      "4/4 [==============================] - 0s 18ms/step - loss: 0.5293 - accuracy: 0.0000e+00 - val_loss: 0.5962 - val_accuracy: 0.0000e+00\n",
      "Epoch 73/400\n",
      "4/4 [==============================] - 0s 16ms/step - loss: 0.5269 - accuracy: 0.0000e+00 - val_loss: 0.5916 - val_accuracy: 0.0000e+00\n",
      "Epoch 74/400\n",
      "4/4 [==============================] - 0s 19ms/step - loss: 0.5264 - accuracy: 0.0000e+00 - val_loss: 0.5915 - val_accuracy: 0.0000e+00\n",
      "Epoch 75/400\n",
      "4/4 [==============================] - 0s 14ms/step - loss: 0.5211 - accuracy: 0.0000e+00 - val_loss: 0.5892 - val_accuracy: 0.0000e+00\n",
      "Epoch 76/400\n",
      "4/4 [==============================] - 0s 16ms/step - loss: 0.5233 - accuracy: 0.0000e+00 - val_loss: 0.5904 - val_accuracy: 0.0000e+00\n",
      "Epoch 77/400\n",
      "4/4 [==============================] - 0s 28ms/step - loss: 0.5210 - accuracy: 0.0000e+00 - val_loss: 0.5860 - val_accuracy: 0.0000e+00\n",
      "Epoch 78/400\n",
      "4/4 [==============================] - 0s 22ms/step - loss: 0.5184 - accuracy: 0.0000e+00 - val_loss: 0.5849 - val_accuracy: 0.0000e+00\n",
      "Epoch 79/400\n",
      "4/4 [==============================] - 0s 18ms/step - loss: 0.5170 - accuracy: 0.0000e+00 - val_loss: 0.5799 - val_accuracy: 0.0000e+00\n",
      "Epoch 80/400\n",
      "4/4 [==============================] - 0s 21ms/step - loss: 0.5131 - accuracy: 0.0000e+00 - val_loss: 0.5779 - val_accuracy: 0.0000e+00\n",
      "Epoch 81/400\n",
      "4/4 [==============================] - 0s 20ms/step - loss: 0.5132 - accuracy: 0.0000e+00 - val_loss: 0.5756 - val_accuracy: 0.0000e+00\n",
      "Epoch 82/400\n",
      "4/4 [==============================] - 0s 22ms/step - loss: 0.5106 - accuracy: 0.0000e+00 - val_loss: 0.5765 - val_accuracy: 0.0000e+00\n",
      "Epoch 83/400\n",
      "4/4 [==============================] - 0s 20ms/step - loss: 0.5092 - accuracy: 0.0000e+00 - val_loss: 0.5749 - val_accuracy: 0.0000e+00\n",
      "Epoch 84/400\n",
      "4/4 [==============================] - 0s 16ms/step - loss: 0.5086 - accuracy: 0.0000e+00 - val_loss: 0.5701 - val_accuracy: 0.0000e+00\n",
      "Epoch 85/400\n",
      "4/4 [==============================] - 0s 17ms/step - loss: 0.5071 - accuracy: 0.0000e+00 - val_loss: 0.5703 - val_accuracy: 0.0000e+00\n",
      "Epoch 86/400\n",
      "4/4 [==============================] - 0s 15ms/step - loss: 0.5054 - accuracy: 0.0000e+00 - val_loss: 0.5694 - val_accuracy: 0.0000e+00\n",
      "Epoch 87/400\n",
      "4/4 [==============================] - 0s 19ms/step - loss: 0.5059 - accuracy: 0.0000e+00 - val_loss: 0.5707 - val_accuracy: 0.0000e+00\n",
      "Epoch 88/400\n",
      "4/4 [==============================] - 0s 20ms/step - loss: 0.5048 - accuracy: 0.0000e+00 - val_loss: 0.5689 - val_accuracy: 0.0000e+00\n",
      "Epoch 89/400\n",
      "4/4 [==============================] - 0s 21ms/step - loss: 0.5035 - accuracy: 0.0000e+00 - val_loss: 0.5645 - val_accuracy: 0.0000e+00\n",
      "Epoch 90/400\n",
      "4/4 [==============================] - 0s 17ms/step - loss: 0.5056 - accuracy: 0.0000e+00 - val_loss: 0.5650 - val_accuracy: 0.0000e+00\n",
      "Epoch 91/400\n",
      "4/4 [==============================] - 0s 18ms/step - loss: 0.5028 - accuracy: 0.0000e+00 - val_loss: 0.5618 - val_accuracy: 0.0000e+00\n",
      "Epoch 92/400\n",
      "4/4 [==============================] - 0s 21ms/step - loss: 0.5020 - accuracy: 0.0000e+00 - val_loss: 0.5644 - val_accuracy: 0.0000e+00\n",
      "Epoch 93/400\n",
      "4/4 [==============================] - 0s 23ms/step - loss: 0.5030 - accuracy: 0.0000e+00 - val_loss: 0.5651 - val_accuracy: 0.0000e+00\n",
      "Epoch 94/400\n",
      "4/4 [==============================] - 0s 19ms/step - loss: 0.4991 - accuracy: 0.0000e+00 - val_loss: 0.5611 - val_accuracy: 0.0000e+00\n",
      "Epoch 95/400\n",
      "4/4 [==============================] - 0s 21ms/step - loss: 0.4976 - accuracy: 0.0000e+00 - val_loss: 0.5563 - val_accuracy: 0.0000e+00\n",
      "Epoch 96/400\n",
      "4/4 [==============================] - 0s 16ms/step - loss: 0.4943 - accuracy: 0.0000e+00 - val_loss: 0.5548 - val_accuracy: 0.0000e+00\n",
      "Epoch 97/400\n",
      "4/4 [==============================] - 0s 21ms/step - loss: 0.4945 - accuracy: 0.0000e+00 - val_loss: 0.5537 - val_accuracy: 0.0000e+00\n",
      "Epoch 98/400\n",
      "4/4 [==============================] - 0s 23ms/step - loss: 0.4951 - accuracy: 0.0000e+00 - val_loss: 0.5555 - val_accuracy: 0.0000e+00\n",
      "Epoch 99/400\n",
      "4/4 [==============================] - 0s 20ms/step - loss: 0.4966 - accuracy: 0.0000e+00 - val_loss: 0.5548 - val_accuracy: 0.0000e+00\n",
      "Epoch 100/400\n",
      "4/4 [==============================] - 0s 22ms/step - loss: 0.4991 - accuracy: 0.0000e+00 - val_loss: 0.5566 - val_accuracy: 0.0000e+00\n",
      "Epoch 101/400\n",
      "4/4 [==============================] - 0s 17ms/step - loss: 0.4922 - accuracy: 0.0000e+00 - val_loss: 0.5556 - val_accuracy: 0.0000e+00\n",
      "Epoch 102/400\n",
      "4/4 [==============================] - 0s 16ms/step - loss: 0.4916 - accuracy: 0.0000e+00 - val_loss: 0.5553 - val_accuracy: 0.0000e+00\n",
      "Epoch 103/400\n",
      "4/4 [==============================] - 0s 21ms/step - loss: 0.4924 - accuracy: 0.0000e+00 - val_loss: 0.5549 - val_accuracy: 0.0000e+00\n",
      "Epoch 104/400\n",
      "4/4 [==============================] - 0s 22ms/step - loss: 0.4888 - accuracy: 0.0000e+00 - val_loss: 0.5513 - val_accuracy: 0.0000e+00\n",
      "Epoch 105/400\n",
      "4/4 [==============================] - 0s 16ms/step - loss: 0.4874 - accuracy: 0.0000e+00 - val_loss: 0.5535 - val_accuracy: 0.0000e+00\n",
      "Epoch 106/400\n",
      "4/4 [==============================] - 0s 18ms/step - loss: 0.4897 - accuracy: 0.0000e+00 - val_loss: 0.5518 - val_accuracy: 0.0000e+00\n",
      "Epoch 107/400\n",
      "4/4 [==============================] - 0s 12ms/step - loss: 0.4922 - accuracy: 0.0000e+00 - val_loss: 0.5517 - val_accuracy: 0.0000e+00\n",
      "Epoch 108/400\n",
      "4/4 [==============================] - 0s 11ms/step - loss: 0.4873 - accuracy: 0.0000e+00 - val_loss: 0.5493 - val_accuracy: 0.0000e+00\n",
      "Epoch 109/400\n",
      "4/4 [==============================] - 0s 12ms/step - loss: 0.4860 - accuracy: 0.0000e+00 - val_loss: 0.5484 - val_accuracy: 0.0000e+00\n",
      "Epoch 110/400\n",
      "4/4 [==============================] - 0s 12ms/step - loss: 0.4849 - accuracy: 0.0000e+00 - val_loss: 0.5502 - val_accuracy: 0.0000e+00\n",
      "Epoch 111/400\n",
      "4/4 [==============================] - 0s 16ms/step - loss: 0.4840 - accuracy: 0.0000e+00 - val_loss: 0.5499 - val_accuracy: 0.0000e+00\n",
      "Epoch 112/400\n",
      "4/4 [==============================] - 0s 14ms/step - loss: 0.4873 - accuracy: 0.0000e+00 - val_loss: 0.5512 - val_accuracy: 0.0000e+00\n",
      "Epoch 113/400\n",
      "4/4 [==============================] - 0s 14ms/step - loss: 0.4846 - accuracy: 0.0000e+00 - val_loss: 0.5461 - val_accuracy: 0.0000e+00\n",
      "Epoch 114/400\n",
      "4/4 [==============================] - 0s 12ms/step - loss: 0.4832 - accuracy: 0.0000e+00 - val_loss: 0.5455 - val_accuracy: 0.0000e+00\n",
      "Epoch 115/400\n",
      "4/4 [==============================] - 0s 11ms/step - loss: 0.4820 - accuracy: 0.0000e+00 - val_loss: 0.5459 - val_accuracy: 0.0000e+00\n",
      "Epoch 116/400\n",
      "4/4 [==============================] - 0s 11ms/step - loss: 0.4810 - accuracy: 0.0000e+00 - val_loss: 0.5462 - val_accuracy: 0.0000e+00\n",
      "Epoch 117/400\n",
      "4/4 [==============================] - 0s 11ms/step - loss: 0.4806 - accuracy: 0.0000e+00 - val_loss: 0.5469 - val_accuracy: 0.0000e+00\n",
      "Epoch 118/400\n",
      "4/4 [==============================] - 0s 11ms/step - loss: 0.4800 - accuracy: 0.0000e+00 - val_loss: 0.5484 - val_accuracy: 0.0000e+00\n",
      "Epoch 119/400\n",
      "4/4 [==============================] - 0s 11ms/step - loss: 0.4800 - accuracy: 0.0000e+00 - val_loss: 0.5420 - val_accuracy: 0.0000e+00\n",
      "Epoch 120/400\n",
      "4/4 [==============================] - 0s 12ms/step - loss: 0.4785 - accuracy: 0.0000e+00 - val_loss: 0.5413 - val_accuracy: 0.0000e+00\n",
      "Epoch 121/400\n",
      "4/4 [==============================] - 0s 12ms/step - loss: 0.4802 - accuracy: 0.0000e+00 - val_loss: 0.5437 - val_accuracy: 0.0000e+00\n",
      "Epoch 122/400\n",
      "4/4 [==============================] - 0s 11ms/step - loss: 0.4777 - accuracy: 0.0000e+00 - val_loss: 0.5421 - val_accuracy: 0.0000e+00\n",
      "Epoch 123/400\n",
      "4/4 [==============================] - 0s 11ms/step - loss: 0.4785 - accuracy: 0.0000e+00 - val_loss: 0.5439 - val_accuracy: 0.0000e+00\n",
      "Epoch 124/400\n",
      "4/4 [==============================] - 0s 10ms/step - loss: 0.4765 - accuracy: 0.0000e+00 - val_loss: 0.5441 - val_accuracy: 0.0000e+00\n",
      "Epoch 125/400\n",
      "4/4 [==============================] - 0s 15ms/step - loss: 0.4756 - accuracy: 0.0000e+00 - val_loss: 0.5414 - val_accuracy: 0.0000e+00\n",
      "Epoch 126/400\n",
      "4/4 [==============================] - 0s 14ms/step - loss: 0.4777 - accuracy: 0.0000e+00 - val_loss: 0.5380 - val_accuracy: 0.0000e+00\n",
      "Epoch 127/400\n",
      "4/4 [==============================] - 0s 11ms/step - loss: 0.4805 - accuracy: 0.0000e+00 - val_loss: 0.5442 - val_accuracy: 0.0000e+00\n",
      "Epoch 128/400\n",
      "4/4 [==============================] - 0s 10ms/step - loss: 0.4806 - accuracy: 0.0000e+00 - val_loss: 0.5466 - val_accuracy: 0.0000e+00\n",
      "Epoch 129/400\n",
      "4/4 [==============================] - 0s 12ms/step - loss: 0.4796 - accuracy: 0.0000e+00 - val_loss: 0.5434 - val_accuracy: 0.0000e+00\n",
      "Epoch 130/400\n",
      "4/4 [==============================] - 0s 12ms/step - loss: 0.4788 - accuracy: 0.0000e+00 - val_loss: 0.5406 - val_accuracy: 0.0000e+00\n",
      "Epoch 131/400\n",
      "4/4 [==============================] - 0s 12ms/step - loss: 0.4733 - accuracy: 0.0000e+00 - val_loss: 0.5378 - val_accuracy: 0.0000e+00\n",
      "Epoch 132/400\n",
      "4/4 [==============================] - 0s 12ms/step - loss: 0.4762 - accuracy: 0.0000e+00 - val_loss: 0.5376 - val_accuracy: 0.0000e+00\n",
      "Epoch 133/400\n",
      "4/4 [==============================] - 0s 22ms/step - loss: 0.4771 - accuracy: 0.0000e+00 - val_loss: 0.5412 - val_accuracy: 0.0000e+00\n",
      "Epoch 134/400\n",
      "4/4 [==============================] - 0s 18ms/step - loss: 0.4739 - accuracy: 0.0000e+00 - val_loss: 0.5395 - val_accuracy: 0.0000e+00\n",
      "Epoch 135/400\n",
      "4/4 [==============================] - 0s 17ms/step - loss: 0.4771 - accuracy: 0.0000e+00 - val_loss: 0.5475 - val_accuracy: 0.0000e+00\n",
      "Epoch 136/400\n",
      "4/4 [==============================] - 0s 24ms/step - loss: 0.4788 - accuracy: 0.0000e+00 - val_loss: 0.5427 - val_accuracy: 0.0000e+00\n",
      "Epoch 137/400\n",
      "4/4 [==============================] - 0s 22ms/step - loss: 0.4750 - accuracy: 0.0000e+00 - val_loss: 0.5406 - val_accuracy: 0.0000e+00\n",
      "Epoch 138/400\n",
      "4/4 [==============================] - 0s 21ms/step - loss: 0.4795 - accuracy: 0.0000e+00 - val_loss: 0.5381 - val_accuracy: 0.0000e+00\n",
      "Epoch 139/400\n",
      "4/4 [==============================] - 0s 18ms/step - loss: 0.4733 - accuracy: 0.0000e+00 - val_loss: 0.5408 - val_accuracy: 0.0000e+00\n",
      "Epoch 140/400\n",
      "4/4 [==============================] - 0s 13ms/step - loss: 0.4727 - accuracy: 0.0000e+00 - val_loss: 0.5404 - val_accuracy: 0.0000e+00\n",
      "Epoch 141/400\n",
      "4/4 [==============================] - 0s 14ms/step - loss: 0.4685 - accuracy: 0.0000e+00 - val_loss: 0.5362 - val_accuracy: 0.0000e+00\n",
      "Epoch 142/400\n",
      "4/4 [==============================] - 0s 11ms/step - loss: 0.4720 - accuracy: 0.0000e+00 - val_loss: 0.5341 - val_accuracy: 0.0000e+00\n",
      "Epoch 143/400\n",
      "4/4 [==============================] - 0s 11ms/step - loss: 0.4793 - accuracy: 0.0000e+00 - val_loss: 0.5339 - val_accuracy: 0.0000e+00\n",
      "Epoch 144/400\n",
      "4/4 [==============================] - 0s 10ms/step - loss: 0.4659 - accuracy: 0.0000e+00 - val_loss: 0.5295 - val_accuracy: 0.0000e+00\n",
      "Epoch 145/400\n",
      "4/4 [==============================] - 0s 11ms/step - loss: 0.4712 - accuracy: 0.0000e+00 - val_loss: 0.5318 - val_accuracy: 0.0000e+00\n",
      "Epoch 146/400\n",
      "4/4 [==============================] - 0s 13ms/step - loss: 0.4670 - accuracy: 0.0000e+00 - val_loss: 0.5366 - val_accuracy: 0.0000e+00\n",
      "Epoch 147/400\n",
      "4/4 [==============================] - 0s 12ms/step - loss: 0.4659 - accuracy: 0.0000e+00 - val_loss: 0.5341 - val_accuracy: 0.0000e+00\n",
      "Epoch 148/400\n",
      "4/4 [==============================] - 0s 11ms/step - loss: 0.4666 - accuracy: 0.0000e+00 - val_loss: 0.5329 - val_accuracy: 0.0000e+00\n",
      "Epoch 149/400\n",
      "4/4 [==============================] - 0s 23ms/step - loss: 0.4653 - accuracy: 0.0000e+00 - val_loss: 0.5330 - val_accuracy: 0.0000e+00\n",
      "Epoch 150/400\n",
      "4/4 [==============================] - 0s 24ms/step - loss: 0.4639 - accuracy: 0.0000e+00 - val_loss: 0.5287 - val_accuracy: 0.0000e+00\n",
      "Epoch 151/400\n",
      "4/4 [==============================] - 0s 23ms/step - loss: 0.4652 - accuracy: 0.0000e+00 - val_loss: 0.5303 - val_accuracy: 0.0000e+00\n",
      "Epoch 152/400\n",
      "4/4 [==============================] - 0s 23ms/step - loss: 0.4630 - accuracy: 0.0000e+00 - val_loss: 0.5291 - val_accuracy: 0.0000e+00\n",
      "Epoch 153/400\n",
      "4/4 [==============================] - 0s 13ms/step - loss: 0.4632 - accuracy: 0.0000e+00 - val_loss: 0.5282 - val_accuracy: 0.0000e+00\n",
      "Epoch 154/400\n",
      "4/4 [==============================] - 0s 19ms/step - loss: 0.4652 - accuracy: 0.0000e+00 - val_loss: 0.5271 - val_accuracy: 0.0000e+00\n",
      "Epoch 155/400\n",
      "4/4 [==============================] - 0s 21ms/step - loss: 0.4657 - accuracy: 0.0000e+00 - val_loss: 0.5285 - val_accuracy: 0.0000e+00\n",
      "Epoch 156/400\n",
      "4/4 [==============================] - 0s 20ms/step - loss: 0.4649 - accuracy: 0.0000e+00 - val_loss: 0.5317 - val_accuracy: 0.0000e+00\n",
      "Epoch 157/400\n",
      "4/4 [==============================] - 0s 19ms/step - loss: 0.4634 - accuracy: 0.0000e+00 - val_loss: 0.5296 - val_accuracy: 0.0000e+00\n",
      "Epoch 158/400\n",
      "4/4 [==============================] - 0s 11ms/step - loss: 0.4589 - accuracy: 0.0000e+00 - val_loss: 0.5307 - val_accuracy: 0.0000e+00\n",
      "Epoch 159/400\n",
      "4/4 [==============================] - 0s 10ms/step - loss: 0.4590 - accuracy: 0.0000e+00 - val_loss: 0.5244 - val_accuracy: 0.0000e+00\n",
      "Epoch 160/400\n",
      "4/4 [==============================] - 0s 10ms/step - loss: 0.4620 - accuracy: 0.0000e+00 - val_loss: 0.5290 - val_accuracy: 0.0000e+00\n",
      "Epoch 161/400\n",
      "4/4 [==============================] - 0s 10ms/step - loss: 0.4591 - accuracy: 0.0000e+00 - val_loss: 0.5346 - val_accuracy: 0.0000e+00\n",
      "Epoch 162/400\n",
      "4/4 [==============================] - 0s 10ms/step - loss: 0.4620 - accuracy: 0.0000e+00 - val_loss: 0.5312 - val_accuracy: 0.0000e+00\n",
      "Epoch 163/400\n",
      "4/4 [==============================] - 0s 13ms/step - loss: 0.4557 - accuracy: 0.0000e+00 - val_loss: 0.5295 - val_accuracy: 0.0000e+00\n",
      "Epoch 164/400\n",
      "4/4 [==============================] - 0s 11ms/step - loss: 0.4582 - accuracy: 0.0000e+00 - val_loss: 0.5264 - val_accuracy: 0.0000e+00\n",
      "Epoch 165/400\n",
      "4/4 [==============================] - 0s 10ms/step - loss: 0.4559 - accuracy: 0.0000e+00 - val_loss: 0.5267 - val_accuracy: 0.0000e+00\n",
      "Epoch 166/400\n",
      "4/4 [==============================] - 0s 11ms/step - loss: 0.4563 - accuracy: 0.0000e+00 - val_loss: 0.5252 - val_accuracy: 0.0000e+00\n",
      "Epoch 167/400\n",
      "4/4 [==============================] - 0s 12ms/step - loss: 0.4535 - accuracy: 0.0000e+00 - val_loss: 0.5236 - val_accuracy: 0.0000e+00\n",
      "Epoch 168/400\n",
      "4/4 [==============================] - 0s 11ms/step - loss: 0.4534 - accuracy: 0.0000e+00 - val_loss: 0.5254 - val_accuracy: 0.0000e+00\n",
      "Epoch 169/400\n",
      "4/4 [==============================] - 0s 10ms/step - loss: 0.4531 - accuracy: 0.0000e+00 - val_loss: 0.5247 - val_accuracy: 0.0000e+00\n",
      "Epoch 170/400\n",
      "4/4 [==============================] - 0s 10ms/step - loss: 0.4533 - accuracy: 0.0000e+00 - val_loss: 0.5271 - val_accuracy: 0.0000e+00\n",
      "Epoch 171/400\n",
      "4/4 [==============================] - 0s 10ms/step - loss: 0.4518 - accuracy: 0.0000e+00 - val_loss: 0.5256 - val_accuracy: 0.0000e+00\n",
      "Epoch 172/400\n",
      "4/4 [==============================] - 0s 11ms/step - loss: 0.4505 - accuracy: 0.0000e+00 - val_loss: 0.5211 - val_accuracy: 0.0000e+00\n",
      "Epoch 173/400\n",
      "4/4 [==============================] - 0s 11ms/step - loss: 0.4500 - accuracy: 0.0000e+00 - val_loss: 0.5240 - val_accuracy: 0.0000e+00\n",
      "Epoch 174/400\n",
      "4/4 [==============================] - 0s 11ms/step - loss: 0.4520 - accuracy: 0.0000e+00 - val_loss: 0.5315 - val_accuracy: 0.0000e+00\n",
      "Epoch 175/400\n",
      "4/4 [==============================] - 0s 10ms/step - loss: 0.4541 - accuracy: 0.0000e+00 - val_loss: 0.5323 - val_accuracy: 0.0000e+00\n",
      "Epoch 176/400\n",
      "4/4 [==============================] - 0s 10ms/step - loss: 0.4555 - accuracy: 0.0000e+00 - val_loss: 0.5313 - val_accuracy: 0.0000e+00\n",
      "Epoch 177/400\n",
      "4/4 [==============================] - 0s 10ms/step - loss: 0.4548 - accuracy: 0.0000e+00 - val_loss: 0.5283 - val_accuracy: 0.0000e+00\n",
      "Epoch 178/400\n",
      "4/4 [==============================] - 0s 10ms/step - loss: 0.4501 - accuracy: 0.0000e+00 - val_loss: 0.5261 - val_accuracy: 0.0000e+00\n",
      "Epoch 179/400\n",
      "4/4 [==============================] - 0s 11ms/step - loss: 0.4541 - accuracy: 0.0000e+00 - val_loss: 0.5254 - val_accuracy: 0.0000e+00\n",
      "Epoch 180/400\n",
      "4/4 [==============================] - 0s 11ms/step - loss: 0.4510 - accuracy: 0.0000e+00 - val_loss: 0.5242 - val_accuracy: 0.0000e+00\n",
      "Epoch 181/400\n",
      "4/4 [==============================] - 0s 11ms/step - loss: 0.4450 - accuracy: 0.0000e+00 - val_loss: 0.5281 - val_accuracy: 0.0000e+00\n",
      "Epoch 182/400\n",
      "4/4 [==============================] - 0s 10ms/step - loss: 0.4474 - accuracy: 0.0000e+00 - val_loss: 0.5296 - val_accuracy: 0.0000e+00\n",
      "Epoch 183/400\n",
      "4/4 [==============================] - 0s 10ms/step - loss: 0.4487 - accuracy: 0.0000e+00 - val_loss: 0.5256 - val_accuracy: 0.0000e+00\n",
      "Epoch 184/400\n",
      "4/4 [==============================] - 0s 10ms/step - loss: 0.4429 - accuracy: 0.0000e+00 - val_loss: 0.5274 - val_accuracy: 0.0000e+00\n",
      "Epoch 185/400\n",
      "4/4 [==============================] - 0s 10ms/step - loss: 0.4428 - accuracy: 0.0000e+00 - val_loss: 0.5276 - val_accuracy: 0.0000e+00\n",
      "Epoch 186/400\n",
      "4/4 [==============================] - 0s 11ms/step - loss: 0.4432 - accuracy: 0.0000e+00 - val_loss: 0.5254 - val_accuracy: 0.0000e+00\n",
      "Epoch 187/400\n",
      "4/4 [==============================] - 0s 10ms/step - loss: 0.4409 - accuracy: 0.0000e+00 - val_loss: 0.5251 - val_accuracy: 0.0000e+00\n",
      "Epoch 188/400\n",
      "4/4 [==============================] - 0s 10ms/step - loss: 0.4443 - accuracy: 0.0000e+00 - val_loss: 0.5264 - val_accuracy: 0.0000e+00\n",
      "Epoch 189/400\n",
      "4/4 [==============================] - 0s 10ms/step - loss: 0.4452 - accuracy: 0.0000e+00 - val_loss: 0.5296 - val_accuracy: 0.0000e+00\n",
      "Epoch 190/400\n",
      "4/4 [==============================] - 0s 10ms/step - loss: 0.4502 - accuracy: 0.0000e+00 - val_loss: 0.5298 - val_accuracy: 0.0000e+00\n",
      "Epoch 191/400\n",
      "4/4 [==============================] - 0s 10ms/step - loss: 0.4465 - accuracy: 0.0000e+00 - val_loss: 0.5322 - val_accuracy: 0.0000e+00\n",
      "Epoch 192/400\n",
      "4/4 [==============================] - 0s 10ms/step - loss: 0.4425 - accuracy: 0.0000e+00 - val_loss: 0.5277 - val_accuracy: 0.0000e+00\n",
      "Epoch 193/400\n",
      "4/4 [==============================] - 0s 11ms/step - loss: 0.4413 - accuracy: 0.0000e+00 - val_loss: 0.5280 - val_accuracy: 0.0000e+00\n",
      "Epoch 194/400\n",
      "4/4 [==============================] - 0s 13ms/step - loss: 0.4374 - accuracy: 0.0000e+00 - val_loss: 0.5279 - val_accuracy: 0.0000e+00\n",
      "Epoch 195/400\n",
      "4/4 [==============================] - 0s 11ms/step - loss: 0.4383 - accuracy: 0.0000e+00 - val_loss: 0.5260 - val_accuracy: 0.0000e+00\n",
      "Epoch 196/400\n",
      "4/4 [==============================] - 0s 11ms/step - loss: 0.4370 - accuracy: 0.0000e+00 - val_loss: 0.5259 - val_accuracy: 0.0000e+00\n",
      "Epoch 197/400\n",
      "4/4 [==============================] - 0s 11ms/step - loss: 0.4356 - accuracy: 0.0000e+00 - val_loss: 0.5265 - val_accuracy: 0.0000e+00\n",
      "Epoch 198/400\n",
      "4/4 [==============================] - 0s 10ms/step - loss: 0.4356 - accuracy: 0.0000e+00 - val_loss: 0.5276 - val_accuracy: 0.0000e+00\n",
      "Epoch 199/400\n",
      "4/4 [==============================] - 0s 11ms/step - loss: 0.4331 - accuracy: 0.0000e+00 - val_loss: 0.5282 - val_accuracy: 0.0000e+00\n",
      "Epoch 200/400\n",
      "4/4 [==============================] - 0s 10ms/step - loss: 0.4361 - accuracy: 0.0000e+00 - val_loss: 0.5271 - val_accuracy: 0.0000e+00\n",
      "Epoch 201/400\n",
      "4/4 [==============================] - 0s 22ms/step - loss: 0.4342 - accuracy: 0.0000e+00 - val_loss: 0.5308 - val_accuracy: 0.0000e+00\n",
      "Epoch 202/400\n",
      "4/4 [==============================] - 0s 32ms/step - loss: 0.4354 - accuracy: 0.0000e+00 - val_loss: 0.5301 - val_accuracy: 0.0000e+00\n",
      "Epoch 203/400\n",
      "4/4 [==============================] - 0s 34ms/step - loss: 0.4378 - accuracy: 0.0000e+00 - val_loss: 0.5316 - val_accuracy: 0.0000e+00\n",
      "Epoch 204/400\n",
      "4/4 [==============================] - 0s 21ms/step - loss: 0.4365 - accuracy: 0.0000e+00 - val_loss: 0.5314 - val_accuracy: 0.0000e+00\n",
      "Epoch 205/400\n",
      "4/4 [==============================] - 0s 15ms/step - loss: 0.4396 - accuracy: 0.0000e+00 - val_loss: 0.5292 - val_accuracy: 0.0000e+00\n",
      "Epoch 206/400\n",
      "4/4 [==============================] - 0s 18ms/step - loss: 0.4331 - accuracy: 0.0000e+00 - val_loss: 0.5291 - val_accuracy: 0.0000e+00\n",
      "Epoch 207/400\n",
      "4/4 [==============================] - 0s 15ms/step - loss: 0.4352 - accuracy: 0.0000e+00 - val_loss: 0.5326 - val_accuracy: 0.0000e+00\n",
      "Epoch 208/400\n",
      "4/4 [==============================] - 0s 12ms/step - loss: 0.4346 - accuracy: 0.0000e+00 - val_loss: 0.5309 - val_accuracy: 0.0000e+00\n",
      "Epoch 209/400\n",
      "4/4 [==============================] - 0s 20ms/step - loss: 0.4303 - accuracy: 0.0000e+00 - val_loss: 0.5307 - val_accuracy: 0.0000e+00\n",
      "Epoch 210/400\n",
      "4/4 [==============================] - 0s 22ms/step - loss: 0.4289 - accuracy: 0.0000e+00 - val_loss: 0.5282 - val_accuracy: 0.0000e+00\n",
      "Epoch 211/400\n",
      "4/4 [==============================] - 0s 25ms/step - loss: 0.4298 - accuracy: 0.0000e+00 - val_loss: 0.5266 - val_accuracy: 0.0000e+00\n",
      "Epoch 212/400\n",
      "4/4 [==============================] - 0s 12ms/step - loss: 0.4286 - accuracy: 0.0000e+00 - val_loss: 0.5271 - val_accuracy: 0.0000e+00\n",
      "Epoch 213/400\n",
      "4/4 [==============================] - 0s 11ms/step - loss: 0.4269 - accuracy: 0.0000e+00 - val_loss: 0.5303 - val_accuracy: 0.0000e+00\n",
      "Epoch 214/400\n",
      "4/4 [==============================] - 0s 14ms/step - loss: 0.4316 - accuracy: 0.0000e+00 - val_loss: 0.5293 - val_accuracy: 0.0000e+00\n",
      "Epoch 215/400\n",
      "4/4 [==============================] - 0s 11ms/step - loss: 0.4294 - accuracy: 0.0000e+00 - val_loss: 0.5313 - val_accuracy: 0.0000e+00\n",
      "Epoch 216/400\n",
      "4/4 [==============================] - 0s 10ms/step - loss: 0.4294 - accuracy: 0.0000e+00 - val_loss: 0.5267 - val_accuracy: 0.0000e+00\n",
      "Epoch 217/400\n",
      "4/4 [==============================] - 0s 12ms/step - loss: 0.4247 - accuracy: 0.0000e+00 - val_loss: 0.5275 - val_accuracy: 0.0000e+00\n",
      "Epoch 218/400\n",
      "4/4 [==============================] - 0s 12ms/step - loss: 0.4249 - accuracy: 0.0000e+00 - val_loss: 0.5293 - val_accuracy: 0.0000e+00\n",
      "Epoch 219/400\n",
      "4/4 [==============================] - 0s 12ms/step - loss: 0.4240 - accuracy: 0.0000e+00 - val_loss: 0.5282 - val_accuracy: 0.0000e+00\n",
      "Epoch 220/400\n",
      "4/4 [==============================] - 0s 12ms/step - loss: 0.4271 - accuracy: 0.0000e+00 - val_loss: 0.5278 - val_accuracy: 0.0000e+00\n",
      "Epoch 221/400\n",
      "4/4 [==============================] - 0s 16ms/step - loss: 0.4253 - accuracy: 0.0000e+00 - val_loss: 0.5318 - val_accuracy: 0.0000e+00\n",
      "Epoch 222/400\n",
      "4/4 [==============================] - 0s 11ms/step - loss: 0.4242 - accuracy: 0.0000e+00 - val_loss: 0.5313 - val_accuracy: 0.0000e+00\n",
      "Epoch 223/400\n",
      "4/4 [==============================] - 0s 11ms/step - loss: 0.4233 - accuracy: 0.0000e+00 - val_loss: 0.5312 - val_accuracy: 0.0000e+00\n",
      "Epoch 224/400\n",
      "4/4 [==============================] - 0s 11ms/step - loss: 0.4220 - accuracy: 0.0000e+00 - val_loss: 0.5290 - val_accuracy: 0.0000e+00\n",
      "Epoch 225/400\n",
      "4/4 [==============================] - 0s 11ms/step - loss: 0.4221 - accuracy: 0.0000e+00 - val_loss: 0.5268 - val_accuracy: 0.0000e+00\n",
      "Epoch 226/400\n",
      "4/4 [==============================] - 0s 11ms/step - loss: 0.4213 - accuracy: 0.0000e+00 - val_loss: 0.5271 - val_accuracy: 0.0000e+00\n",
      "Epoch 227/400\n",
      "4/4 [==============================] - 0s 11ms/step - loss: 0.4205 - accuracy: 0.0000e+00 - val_loss: 0.5304 - val_accuracy: 0.0000e+00\n",
      "Epoch 228/400\n",
      "4/4 [==============================] - 0s 12ms/step - loss: 0.4176 - accuracy: 0.0000e+00 - val_loss: 0.5334 - val_accuracy: 0.0000e+00\n",
      "Epoch 229/400\n",
      "4/4 [==============================] - 0s 10ms/step - loss: 0.4232 - accuracy: 0.0000e+00 - val_loss: 0.5288 - val_accuracy: 0.0000e+00\n",
      "Epoch 230/400\n",
      "4/4 [==============================] - 0s 11ms/step - loss: 0.4211 - accuracy: 0.0000e+00 - val_loss: 0.5336 - val_accuracy: 0.0000e+00\n",
      "Epoch 231/400\n",
      "4/4 [==============================] - 0s 13ms/step - loss: 0.4240 - accuracy: 0.0000e+00 - val_loss: 0.5451 - val_accuracy: 0.0000e+00\n",
      "Epoch 232/400\n",
      "4/4 [==============================] - 0s 20ms/step - loss: 0.4361 - accuracy: 0.0000e+00 - val_loss: 0.5448 - val_accuracy: 0.0000e+00\n",
      "Epoch 233/400\n",
      "4/4 [==============================] - 0s 14ms/step - loss: 0.4399 - accuracy: 0.0000e+00 - val_loss: 0.5523 - val_accuracy: 0.0000e+00\n",
      "Epoch 234/400\n",
      "4/4 [==============================] - 0s 13ms/step - loss: 0.4284 - accuracy: 0.0000e+00 - val_loss: 0.5377 - val_accuracy: 0.0000e+00\n",
      "Epoch 235/400\n",
      "4/4 [==============================] - 0s 11ms/step - loss: 0.4295 - accuracy: 0.0000e+00 - val_loss: 0.5328 - val_accuracy: 0.0000e+00\n",
      "Epoch 236/400\n",
      "4/4 [==============================] - 0s 11ms/step - loss: 0.4254 - accuracy: 0.0000e+00 - val_loss: 0.5322 - val_accuracy: 0.0000e+00\n",
      "Epoch 237/400\n",
      "4/4 [==============================] - 0s 11ms/step - loss: 0.4225 - accuracy: 0.0000e+00 - val_loss: 0.5326 - val_accuracy: 0.0000e+00\n",
      "Epoch 238/400\n",
      "4/4 [==============================] - 0s 16ms/step - loss: 0.4231 - accuracy: 0.0000e+00 - val_loss: 0.5387 - val_accuracy: 0.0000e+00\n",
      "Epoch 239/400\n",
      "4/4 [==============================] - 0s 19ms/step - loss: 0.4204 - accuracy: 0.0000e+00 - val_loss: 0.5340 - val_accuracy: 0.0000e+00\n",
      "Epoch 240/400\n",
      "4/4 [==============================] - 0s 14ms/step - loss: 0.4179 - accuracy: 0.0000e+00 - val_loss: 0.5348 - val_accuracy: 0.0000e+00\n",
      "Epoch 241/400\n",
      "4/4 [==============================] - 0s 11ms/step - loss: 0.4278 - accuracy: 0.0000e+00 - val_loss: 0.5344 - val_accuracy: 0.0000e+00\n",
      "Epoch 242/400\n",
      "4/4 [==============================] - 0s 15ms/step - loss: 0.4200 - accuracy: 0.0000e+00 - val_loss: 0.5342 - val_accuracy: 0.0000e+00\n",
      "Epoch 243/400\n",
      "4/4 [==============================] - 0s 15ms/step - loss: 0.4166 - accuracy: 0.0000e+00 - val_loss: 0.5331 - val_accuracy: 0.0000e+00\n",
      "Epoch 244/400\n",
      "4/4 [==============================] - 0s 17ms/step - loss: 0.4171 - accuracy: 0.0000e+00 - val_loss: 0.5309 - val_accuracy: 0.0000e+00\n",
      "Epoch 245/400\n",
      "4/4 [==============================] - 0s 11ms/step - loss: 0.4193 - accuracy: 0.0000e+00 - val_loss: 0.5288 - val_accuracy: 0.0000e+00\n",
      "Epoch 246/400\n",
      "4/4 [==============================] - 0s 13ms/step - loss: 0.4141 - accuracy: 0.0000e+00 - val_loss: 0.5308 - val_accuracy: 0.0000e+00\n",
      "Epoch 247/400\n",
      "4/4 [==============================] - 0s 15ms/step - loss: 0.4128 - accuracy: 0.0000e+00 - val_loss: 0.5341 - val_accuracy: 0.0000e+00\n",
      "Epoch 248/400\n",
      "4/4 [==============================] - 0s 13ms/step - loss: 0.4142 - accuracy: 0.0000e+00 - val_loss: 0.5292 - val_accuracy: 0.0000e+00\n",
      "Epoch 249/400\n",
      "4/4 [==============================] - 0s 13ms/step - loss: 0.4118 - accuracy: 0.0000e+00 - val_loss: 0.5304 - val_accuracy: 0.0000e+00\n",
      "Epoch 250/400\n",
      "4/4 [==============================] - 0s 15ms/step - loss: 0.4107 - accuracy: 0.0000e+00 - val_loss: 0.5343 - val_accuracy: 0.0000e+00\n",
      "Epoch 251/400\n",
      "4/4 [==============================] - 0s 17ms/step - loss: 0.4107 - accuracy: 0.0000e+00 - val_loss: 0.5379 - val_accuracy: 0.0000e+00\n",
      "Epoch 252/400\n",
      "4/4 [==============================] - 0s 18ms/step - loss: 0.4191 - accuracy: 0.0000e+00 - val_loss: 0.5316 - val_accuracy: 0.0000e+00\n",
      "Epoch 253/400\n",
      "4/4 [==============================] - 0s 17ms/step - loss: 0.4122 - accuracy: 0.0000e+00 - val_loss: 0.5315 - val_accuracy: 0.0000e+00\n",
      "Epoch 254/400\n",
      "4/4 [==============================] - 0s 17ms/step - loss: 0.4119 - accuracy: 0.0000e+00 - val_loss: 0.5357 - val_accuracy: 0.0000e+00\n",
      "Epoch 255/400\n",
      "4/4 [==============================] - 0s 17ms/step - loss: 0.4126 - accuracy: 0.0000e+00 - val_loss: 0.5332 - val_accuracy: 0.0000e+00\n",
      "Epoch 256/400\n",
      "4/4 [==============================] - 0s 15ms/step - loss: 0.4132 - accuracy: 0.0000e+00 - val_loss: 0.5332 - val_accuracy: 0.0000e+00\n",
      "Epoch 257/400\n",
      "4/4 [==============================] - 0s 15ms/step - loss: 0.4155 - accuracy: 0.0000e+00 - val_loss: 0.5329 - val_accuracy: 0.0000e+00\n",
      "Epoch 258/400\n",
      "4/4 [==============================] - 0s 14ms/step - loss: 0.4106 - accuracy: 0.0000e+00 - val_loss: 0.5326 - val_accuracy: 0.0000e+00\n",
      "Epoch 259/400\n",
      "4/4 [==============================] - 0s 14ms/step - loss: 0.4089 - accuracy: 0.0000e+00 - val_loss: 0.5322 - val_accuracy: 0.0000e+00\n",
      "Epoch 260/400\n",
      "4/4 [==============================] - 0s 11ms/step - loss: 0.4095 - accuracy: 0.0000e+00 - val_loss: 0.5314 - val_accuracy: 0.0000e+00\n",
      "Epoch 261/400\n",
      "4/4 [==============================] - 0s 15ms/step - loss: 0.4093 - accuracy: 0.0000e+00 - val_loss: 0.5324 - val_accuracy: 0.0000e+00\n",
      "Epoch 262/400\n",
      "4/4 [==============================] - 0s 14ms/step - loss: 0.4075 - accuracy: 0.0000e+00 - val_loss: 0.5328 - val_accuracy: 0.0000e+00\n",
      "Epoch 263/400\n",
      "4/4 [==============================] - 0s 11ms/step - loss: 0.4130 - accuracy: 0.0000e+00 - val_loss: 0.5373 - val_accuracy: 0.0000e+00\n",
      "Epoch 264/400\n",
      "4/4 [==============================] - 0s 10ms/step - loss: 0.4123 - accuracy: 0.0000e+00 - val_loss: 0.5407 - val_accuracy: 0.0000e+00\n",
      "Epoch 265/400\n",
      "4/4 [==============================] - 0s 11ms/step - loss: 0.4141 - accuracy: 0.0000e+00 - val_loss: 0.5410 - val_accuracy: 0.0000e+00\n",
      "Epoch 266/400\n",
      "4/4 [==============================] - 0s 12ms/step - loss: 0.4099 - accuracy: 0.0000e+00 - val_loss: 0.5411 - val_accuracy: 0.0000e+00\n",
      "Epoch 267/400\n",
      "4/4 [==============================] - 0s 11ms/step - loss: 0.4114 - accuracy: 0.0000e+00 - val_loss: 0.5360 - val_accuracy: 0.0000e+00\n",
      "Epoch 268/400\n",
      "4/4 [==============================] - 0s 14ms/step - loss: 0.4065 - accuracy: 0.0000e+00 - val_loss: 0.5314 - val_accuracy: 0.0000e+00\n",
      "Epoch 269/400\n",
      "4/4 [==============================] - 0s 17ms/step - loss: 0.4039 - accuracy: 0.0000e+00 - val_loss: 0.5328 - val_accuracy: 0.0000e+00\n",
      "Epoch 270/400\n",
      "4/4 [==============================] - 0s 13ms/step - loss: 0.4055 - accuracy: 0.0000e+00 - val_loss: 0.5366 - val_accuracy: 0.0000e+00\n",
      "Epoch 271/400\n",
      "4/4 [==============================] - 0s 12ms/step - loss: 0.4068 - accuracy: 0.0000e+00 - val_loss: 0.5333 - val_accuracy: 0.0000e+00\n",
      "Epoch 272/400\n",
      "4/4 [==============================] - 0s 11ms/step - loss: 0.4046 - accuracy: 0.0000e+00 - val_loss: 0.5373 - val_accuracy: 0.0000e+00\n",
      "Epoch 273/400\n",
      "4/4 [==============================] - 0s 12ms/step - loss: 0.4044 - accuracy: 0.0000e+00 - val_loss: 0.5331 - val_accuracy: 0.0000e+00\n",
      "Epoch 274/400\n",
      "4/4 [==============================] - 0s 14ms/step - loss: 0.4031 - accuracy: 0.0000e+00 - val_loss: 0.5358 - val_accuracy: 0.0000e+00\n",
      "Epoch 275/400\n",
      "4/4 [==============================] - 0s 14ms/step - loss: 0.4044 - accuracy: 0.0000e+00 - val_loss: 0.5417 - val_accuracy: 0.0000e+00\n",
      "Epoch 276/400\n",
      "4/4 [==============================] - 0s 15ms/step - loss: 0.4091 - accuracy: 0.0000e+00 - val_loss: 0.5375 - val_accuracy: 0.0000e+00\n",
      "Epoch 277/400\n",
      "4/4 [==============================] - 0s 13ms/step - loss: 0.4064 - accuracy: 0.0000e+00 - val_loss: 0.5413 - val_accuracy: 0.0000e+00\n",
      "Epoch 278/400\n",
      "4/4 [==============================] - 0s 11ms/step - loss: 0.4075 - accuracy: 0.0000e+00 - val_loss: 0.5376 - val_accuracy: 0.0000e+00\n",
      "Epoch 279/400\n",
      "4/4 [==============================] - 0s 14ms/step - loss: 0.4014 - accuracy: 0.0000e+00 - val_loss: 0.5367 - val_accuracy: 0.0000e+00\n",
      "Epoch 280/400\n",
      "4/4 [==============================] - 0s 13ms/step - loss: 0.3991 - accuracy: 0.0000e+00 - val_loss: 0.5317 - val_accuracy: 0.0000e+00\n",
      "Epoch 281/400\n",
      "4/4 [==============================] - 0s 13ms/step - loss: 0.4020 - accuracy: 0.0000e+00 - val_loss: 0.5325 - val_accuracy: 0.0000e+00\n",
      "Epoch 282/400\n",
      "4/4 [==============================] - 0s 15ms/step - loss: 0.4014 - accuracy: 0.0000e+00 - val_loss: 0.5428 - val_accuracy: 0.0000e+00\n",
      "Epoch 283/400\n",
      "4/4 [==============================] - 0s 16ms/step - loss: 0.4027 - accuracy: 0.0000e+00 - val_loss: 0.5345 - val_accuracy: 0.0000e+00\n",
      "Epoch 284/400\n",
      "4/4 [==============================] - 0s 13ms/step - loss: 0.4004 - accuracy: 0.0000e+00 - val_loss: 0.5346 - val_accuracy: 0.0000e+00\n",
      "Epoch 285/400\n",
      "4/4 [==============================] - 0s 12ms/step - loss: 0.4020 - accuracy: 0.0000e+00 - val_loss: 0.5358 - val_accuracy: 0.0000e+00\n",
      "Epoch 286/400\n",
      "4/4 [==============================] - 0s 13ms/step - loss: 0.4017 - accuracy: 0.0000e+00 - val_loss: 0.5414 - val_accuracy: 0.0000e+00\n",
      "Epoch 287/400\n",
      "4/4 [==============================] - 0s 13ms/step - loss: 0.3971 - accuracy: 0.0000e+00 - val_loss: 0.5430 - val_accuracy: 0.0000e+00\n",
      "Epoch 288/400\n",
      "4/4 [==============================] - 0s 15ms/step - loss: 0.4019 - accuracy: 0.0000e+00 - val_loss: 0.5393 - val_accuracy: 0.0000e+00\n",
      "Epoch 289/400\n",
      "4/4 [==============================] - 0s 15ms/step - loss: 0.3998 - accuracy: 0.0000e+00 - val_loss: 0.5383 - val_accuracy: 0.0000e+00\n",
      "Epoch 290/400\n",
      "4/4 [==============================] - 0s 12ms/step - loss: 0.3976 - accuracy: 0.0000e+00 - val_loss: 0.5389 - val_accuracy: 0.0000e+00\n",
      "Epoch 291/400\n",
      "4/4 [==============================] - 0s 14ms/step - loss: 0.3992 - accuracy: 0.0000e+00 - val_loss: 0.5365 - val_accuracy: 0.0000e+00\n",
      "Epoch 292/400\n",
      "4/4 [==============================] - 0s 14ms/step - loss: 0.3967 - accuracy: 0.0000e+00 - val_loss: 0.5379 - val_accuracy: 0.0000e+00\n",
      "Epoch 293/400\n",
      "4/4 [==============================] - 0s 14ms/step - loss: 0.3995 - accuracy: 0.0000e+00 - val_loss: 0.5359 - val_accuracy: 0.0000e+00\n",
      "Epoch 294/400\n",
      "4/4 [==============================] - 0s 14ms/step - loss: 0.4037 - accuracy: 0.0000e+00 - val_loss: 0.5410 - val_accuracy: 0.0000e+00\n",
      "Epoch 295/400\n",
      "4/4 [==============================] - 0s 13ms/step - loss: 0.4076 - accuracy: 0.0000e+00 - val_loss: 0.5437 - val_accuracy: 0.0000e+00\n",
      "Epoch 296/400\n",
      "4/4 [==============================] - 0s 11ms/step - loss: 0.4013 - accuracy: 0.0000e+00 - val_loss: 0.5437 - val_accuracy: 0.0000e+00\n",
      "Epoch 297/400\n",
      "4/4 [==============================] - 0s 12ms/step - loss: 0.4052 - accuracy: 0.0000e+00 - val_loss: 0.5419 - val_accuracy: 0.0000e+00\n",
      "Epoch 298/400\n",
      "4/4 [==============================] - 0s 12ms/step - loss: 0.4001 - accuracy: 0.0000e+00 - val_loss: 0.5413 - val_accuracy: 0.0000e+00\n",
      "Epoch 299/400\n",
      "4/4 [==============================] - 0s 11ms/step - loss: 0.3954 - accuracy: 0.0000e+00 - val_loss: 0.5423 - val_accuracy: 0.0000e+00\n",
      "Epoch 300/400\n",
      "4/4 [==============================] - 0s 13ms/step - loss: 0.3957 - accuracy: 0.0000e+00 - val_loss: 0.5386 - val_accuracy: 0.0000e+00\n",
      "Epoch 301/400\n",
      "4/4 [==============================] - 0s 14ms/step - loss: 0.3947 - accuracy: 0.0000e+00 - val_loss: 0.5386 - val_accuracy: 0.0000e+00\n",
      "Epoch 302/400\n",
      "4/4 [==============================] - 0s 25ms/step - loss: 0.3994 - accuracy: 0.0000e+00 - val_loss: 0.5359 - val_accuracy: 0.0000e+00\n",
      "Epoch 303/400\n",
      "4/4 [==============================] - 0s 11ms/step - loss: 0.3964 - accuracy: 0.0000e+00 - val_loss: 0.5454 - val_accuracy: 0.0000e+00\n",
      "Epoch 304/400\n",
      "4/4 [==============================] - 0s 12ms/step - loss: 0.3952 - accuracy: 0.0000e+00 - val_loss: 0.5417 - val_accuracy: 0.0000e+00\n",
      "Epoch 305/400\n",
      "4/4 [==============================] - 0s 12ms/step - loss: 0.3940 - accuracy: 0.0000e+00 - val_loss: 0.5392 - val_accuracy: 0.0000e+00\n",
      "Epoch 306/400\n",
      "4/4 [==============================] - 0s 15ms/step - loss: 0.3911 - accuracy: 0.0000e+00 - val_loss: 0.5436 - val_accuracy: 0.0000e+00\n",
      "Epoch 307/400\n",
      "4/4 [==============================] - 0s 16ms/step - loss: 0.3908 - accuracy: 0.0000e+00 - val_loss: 0.5395 - val_accuracy: 0.0000e+00\n",
      "Epoch 308/400\n",
      "4/4 [==============================] - 0s 18ms/step - loss: 0.3895 - accuracy: 0.0000e+00 - val_loss: 0.5402 - val_accuracy: 0.0000e+00\n",
      "Epoch 309/400\n",
      "4/4 [==============================] - 0s 17ms/step - loss: 0.3921 - accuracy: 0.0000e+00 - val_loss: 0.5441 - val_accuracy: 0.0000e+00\n",
      "Epoch 310/400\n",
      "4/4 [==============================] - 0s 15ms/step - loss: 0.3896 - accuracy: 0.0000e+00 - val_loss: 0.5411 - val_accuracy: 0.0000e+00\n",
      "Epoch 311/400\n",
      "4/4 [==============================] - 0s 17ms/step - loss: 0.3931 - accuracy: 0.0000e+00 - val_loss: 0.5433 - val_accuracy: 0.0000e+00\n",
      "Epoch 312/400\n",
      "4/4 [==============================] - 0s 13ms/step - loss: 0.3915 - accuracy: 0.0000e+00 - val_loss: 0.5432 - val_accuracy: 0.0000e+00\n",
      "Epoch 313/400\n",
      "4/4 [==============================] - 0s 13ms/step - loss: 0.3896 - accuracy: 0.0000e+00 - val_loss: 0.5407 - val_accuracy: 0.0000e+00\n",
      "Epoch 314/400\n",
      "4/4 [==============================] - 0s 19ms/step - loss: 0.3926 - accuracy: 0.0000e+00 - val_loss: 0.5439 - val_accuracy: 0.0000e+00\n",
      "Epoch 315/400\n",
      "4/4 [==============================] - 0s 17ms/step - loss: 0.3894 - accuracy: 0.0000e+00 - val_loss: 0.5462 - val_accuracy: 0.0000e+00\n",
      "Epoch 316/400\n",
      "4/4 [==============================] - 0s 16ms/step - loss: 0.3891 - accuracy: 0.0000e+00 - val_loss: 0.5392 - val_accuracy: 0.0000e+00\n",
      "Epoch 317/400\n",
      "4/4 [==============================] - 0s 12ms/step - loss: 0.3895 - accuracy: 0.0000e+00 - val_loss: 0.5409 - val_accuracy: 0.0000e+00\n",
      "Epoch 318/400\n",
      "4/4 [==============================] - 0s 16ms/step - loss: 0.3907 - accuracy: 0.0000e+00 - val_loss: 0.5492 - val_accuracy: 0.0000e+00\n",
      "Epoch 319/400\n",
      "4/4 [==============================] - 0s 15ms/step - loss: 0.3937 - accuracy: 0.0000e+00 - val_loss: 0.5455 - val_accuracy: 0.0000e+00\n",
      "Epoch 320/400\n",
      "4/4 [==============================] - 0s 15ms/step - loss: 0.3943 - accuracy: 0.0000e+00 - val_loss: 0.5403 - val_accuracy: 0.0000e+00\n",
      "Epoch 321/400\n",
      "4/4 [==============================] - 0s 12ms/step - loss: 0.3934 - accuracy: 0.0000e+00 - val_loss: 0.5426 - val_accuracy: 0.0000e+00\n",
      "Epoch 322/400\n",
      "4/4 [==============================] - 0s 11ms/step - loss: 0.3872 - accuracy: 0.0000e+00 - val_loss: 0.5407 - val_accuracy: 0.0000e+00\n",
      "Epoch 323/400\n",
      "4/4 [==============================] - 0s 12ms/step - loss: 0.3931 - accuracy: 0.0000e+00 - val_loss: 0.5431 - val_accuracy: 0.0000e+00\n",
      "Epoch 324/400\n",
      "4/4 [==============================] - 0s 15ms/step - loss: 0.3868 - accuracy: 0.0000e+00 - val_loss: 0.5458 - val_accuracy: 0.0000e+00\n",
      "Epoch 325/400\n",
      "4/4 [==============================] - 0s 20ms/step - loss: 0.3940 - accuracy: 0.0000e+00 - val_loss: 0.5492 - val_accuracy: 0.0000e+00\n",
      "Epoch 326/400\n",
      "4/4 [==============================] - 0s 14ms/step - loss: 0.3866 - accuracy: 0.0000e+00 - val_loss: 0.5463 - val_accuracy: 0.0000e+00\n",
      "Epoch 327/400\n",
      "4/4 [==============================] - 0s 15ms/step - loss: 0.3849 - accuracy: 0.0000e+00 - val_loss: 0.5411 - val_accuracy: 0.0000e+00\n",
      "Epoch 328/400\n",
      "4/4 [==============================] - 0s 13ms/step - loss: 0.3849 - accuracy: 0.0000e+00 - val_loss: 0.5437 - val_accuracy: 0.0000e+00\n",
      "Epoch 329/400\n",
      "4/4 [==============================] - 0s 14ms/step - loss: 0.3865 - accuracy: 0.0000e+00 - val_loss: 0.5461 - val_accuracy: 0.0000e+00\n",
      "Epoch 330/400\n",
      "4/4 [==============================] - 0s 11ms/step - loss: 0.3913 - accuracy: 0.0000e+00 - val_loss: 0.5503 - val_accuracy: 0.0000e+00\n",
      "Epoch 331/400\n",
      "4/4 [==============================] - 0s 12ms/step - loss: 0.3916 - accuracy: 0.0000e+00 - val_loss: 0.5495 - val_accuracy: 0.0000e+00\n",
      "Epoch 332/400\n",
      "4/4 [==============================] - 0s 12ms/step - loss: 0.3853 - accuracy: 0.0000e+00 - val_loss: 0.5453 - val_accuracy: 0.0000e+00\n",
      "Epoch 333/400\n",
      "4/4 [==============================] - 0s 13ms/step - loss: 0.3842 - accuracy: 0.0000e+00 - val_loss: 0.5440 - val_accuracy: 0.0000e+00\n",
      "Epoch 334/400\n",
      "4/4 [==============================] - 0s 12ms/step - loss: 0.3843 - accuracy: 0.0000e+00 - val_loss: 0.5440 - val_accuracy: 0.0000e+00\n",
      "Epoch 335/400\n",
      "4/4 [==============================] - 0s 15ms/step - loss: 0.3810 - accuracy: 0.0000e+00 - val_loss: 0.5480 - val_accuracy: 0.0000e+00\n",
      "Epoch 336/400\n",
      "4/4 [==============================] - 0s 12ms/step - loss: 0.3840 - accuracy: 0.0000e+00 - val_loss: 0.5504 - val_accuracy: 0.0000e+00\n",
      "Epoch 337/400\n",
      "4/4 [==============================] - 0s 11ms/step - loss: 0.3899 - accuracy: 0.0000e+00 - val_loss: 0.5526 - val_accuracy: 0.0000e+00\n",
      "Epoch 338/400\n",
      "4/4 [==============================] - 0s 10ms/step - loss: 0.3894 - accuracy: 0.0000e+00 - val_loss: 0.5463 - val_accuracy: 0.0000e+00\n",
      "Epoch 339/400\n",
      "4/4 [==============================] - 0s 11ms/step - loss: 0.3844 - accuracy: 0.0000e+00 - val_loss: 0.5473 - val_accuracy: 0.0000e+00\n",
      "Epoch 340/400\n",
      "4/4 [==============================] - 0s 10ms/step - loss: 0.3796 - accuracy: 0.0000e+00 - val_loss: 0.5456 - val_accuracy: 0.0000e+00\n",
      "Epoch 341/400\n",
      "4/4 [==============================] - 0s 11ms/step - loss: 0.3790 - accuracy: 0.0000e+00 - val_loss: 0.5455 - val_accuracy: 0.0000e+00\n",
      "Epoch 342/400\n",
      "4/4 [==============================] - 0s 11ms/step - loss: 0.3755 - accuracy: 0.0000e+00 - val_loss: 0.5478 - val_accuracy: 0.0000e+00\n",
      "Epoch 343/400\n",
      "4/4 [==============================] - 0s 11ms/step - loss: 0.3786 - accuracy: 0.0000e+00 - val_loss: 0.5462 - val_accuracy: 0.0000e+00\n",
      "Epoch 344/400\n",
      "4/4 [==============================] - 0s 10ms/step - loss: 0.3798 - accuracy: 0.0000e+00 - val_loss: 0.5470 - val_accuracy: 0.0000e+00\n",
      "Epoch 345/400\n",
      "4/4 [==============================] - 0s 11ms/step - loss: 0.3823 - accuracy: 0.0000e+00 - val_loss: 0.5525 - val_accuracy: 0.0000e+00\n",
      "Epoch 346/400\n",
      "4/4 [==============================] - 0s 11ms/step - loss: 0.3863 - accuracy: 0.0000e+00 - val_loss: 0.5469 - val_accuracy: 0.0000e+00\n",
      "Epoch 347/400\n",
      "4/4 [==============================] - 0s 12ms/step - loss: 0.3804 - accuracy: 0.0000e+00 - val_loss: 0.5473 - val_accuracy: 0.0000e+00\n",
      "Epoch 348/400\n",
      "4/4 [==============================] - 0s 12ms/step - loss: 0.3795 - accuracy: 0.0000e+00 - val_loss: 0.5489 - val_accuracy: 0.0000e+00\n",
      "Epoch 349/400\n",
      "4/4 [==============================] - 0s 12ms/step - loss: 0.3782 - accuracy: 0.0000e+00 - val_loss: 0.5477 - val_accuracy: 0.0000e+00\n",
      "Epoch 350/400\n",
      "4/4 [==============================] - 0s 12ms/step - loss: 0.3829 - accuracy: 0.0000e+00 - val_loss: 0.5543 - val_accuracy: 0.0000e+00\n",
      "Epoch 351/400\n",
      "4/4 [==============================] - 0s 11ms/step - loss: 0.3791 - accuracy: 0.0000e+00 - val_loss: 0.5450 - val_accuracy: 0.0000e+00\n",
      "Epoch 352/400\n",
      "4/4 [==============================] - 0s 11ms/step - loss: 0.3762 - accuracy: 0.0000e+00 - val_loss: 0.5426 - val_accuracy: 0.0000e+00\n",
      "Epoch 353/400\n",
      "4/4 [==============================] - 0s 10ms/step - loss: 0.3793 - accuracy: 0.0000e+00 - val_loss: 0.5494 - val_accuracy: 0.0000e+00\n",
      "Epoch 354/400\n",
      "4/4 [==============================] - 0s 11ms/step - loss: 0.3778 - accuracy: 0.0000e+00 - val_loss: 0.5479 - val_accuracy: 0.0000e+00\n",
      "Epoch 355/400\n",
      "4/4 [==============================] - 0s 11ms/step - loss: 0.3821 - accuracy: 0.0000e+00 - val_loss: 0.5483 - val_accuracy: 0.0000e+00\n",
      "Epoch 356/400\n",
      "4/4 [==============================] - 0s 11ms/step - loss: 0.3877 - accuracy: 0.0000e+00 - val_loss: 0.5560 - val_accuracy: 0.0000e+00\n",
      "Epoch 357/400\n",
      "4/4 [==============================] - 0s 11ms/step - loss: 0.3853 - accuracy: 0.0000e+00 - val_loss: 0.5530 - val_accuracy: 0.0000e+00\n",
      "Epoch 358/400\n",
      "4/4 [==============================] - 0s 11ms/step - loss: 0.3823 - accuracy: 0.0000e+00 - val_loss: 0.5496 - val_accuracy: 0.0000e+00\n",
      "Epoch 359/400\n",
      "4/4 [==============================] - 0s 11ms/step - loss: 0.3845 - accuracy: 0.0000e+00 - val_loss: 0.5479 - val_accuracy: 0.0000e+00\n",
      "Epoch 360/400\n",
      "4/4 [==============================] - 0s 11ms/step - loss: 0.3804 - accuracy: 0.0000e+00 - val_loss: 0.5537 - val_accuracy: 0.0000e+00\n",
      "Epoch 361/400\n",
      "4/4 [==============================] - 0s 10ms/step - loss: 0.3843 - accuracy: 0.0000e+00 - val_loss: 0.5544 - val_accuracy: 0.0000e+00\n",
      "Epoch 362/400\n",
      "4/4 [==============================] - 0s 16ms/step - loss: 0.3803 - accuracy: 0.0000e+00 - val_loss: 0.5555 - val_accuracy: 0.0000e+00\n",
      "Epoch 363/400\n",
      "4/4 [==============================] - 0s 14ms/step - loss: 0.3786 - accuracy: 0.0000e+00 - val_loss: 0.5543 - val_accuracy: 0.0000e+00\n",
      "Epoch 364/400\n",
      "4/4 [==============================] - 0s 14ms/step - loss: 0.3790 - accuracy: 0.0000e+00 - val_loss: 0.5592 - val_accuracy: 0.0000e+00\n",
      "Epoch 365/400\n",
      "4/4 [==============================] - 0s 14ms/step - loss: 0.3895 - accuracy: 0.0000e+00 - val_loss: 0.5511 - val_accuracy: 0.0000e+00\n",
      "Epoch 366/400\n",
      "4/4 [==============================] - 0s 13ms/step - loss: 0.3848 - accuracy: 0.0000e+00 - val_loss: 0.5548 - val_accuracy: 0.0000e+00\n",
      "Epoch 367/400\n",
      "4/4 [==============================] - 0s 12ms/step - loss: 0.3755 - accuracy: 0.0000e+00 - val_loss: 0.5522 - val_accuracy: 0.0000e+00\n",
      "Epoch 368/400\n",
      "4/4 [==============================] - 0s 10ms/step - loss: 0.3777 - accuracy: 0.0000e+00 - val_loss: 0.5522 - val_accuracy: 0.0000e+00\n",
      "Epoch 369/400\n",
      "4/4 [==============================] - 0s 11ms/step - loss: 0.3796 - accuracy: 0.0000e+00 - val_loss: 0.5598 - val_accuracy: 0.0000e+00\n",
      "Epoch 370/400\n",
      "4/4 [==============================] - 0s 11ms/step - loss: 0.3826 - accuracy: 0.0000e+00 - val_loss: 0.5544 - val_accuracy: 0.0000e+00\n",
      "Epoch 371/400\n",
      "4/4 [==============================] - 0s 17ms/step - loss: 0.3729 - accuracy: 0.0000e+00 - val_loss: 0.5539 - val_accuracy: 0.0000e+00\n",
      "Epoch 372/400\n",
      "4/4 [==============================] - 0s 15ms/step - loss: 0.3768 - accuracy: 0.0000e+00 - val_loss: 0.5533 - val_accuracy: 0.0000e+00\n",
      "Epoch 373/400\n",
      "4/4 [==============================] - 0s 13ms/step - loss: 0.3771 - accuracy: 0.0000e+00 - val_loss: 0.5496 - val_accuracy: 0.0000e+00\n",
      "Epoch 374/400\n",
      "4/4 [==============================] - 0s 11ms/step - loss: 0.3773 - accuracy: 0.0000e+00 - val_loss: 0.5541 - val_accuracy: 0.0000e+00\n",
      "Epoch 375/400\n",
      "4/4 [==============================] - 0s 12ms/step - loss: 0.3803 - accuracy: 0.0000e+00 - val_loss: 0.5557 - val_accuracy: 0.0000e+00\n",
      "Epoch 376/400\n",
      "4/4 [==============================] - 0s 14ms/step - loss: 0.3784 - accuracy: 0.0000e+00 - val_loss: 0.5523 - val_accuracy: 0.0000e+00\n",
      "Epoch 377/400\n",
      "4/4 [==============================] - 0s 12ms/step - loss: 0.3739 - accuracy: 0.0000e+00 - val_loss: 0.5508 - val_accuracy: 0.0000e+00\n",
      "Epoch 378/400\n",
      "4/4 [==============================] - 0s 11ms/step - loss: 0.3708 - accuracy: 0.0000e+00 - val_loss: 0.5590 - val_accuracy: 0.0000e+00\n",
      "Epoch 379/400\n",
      "4/4 [==============================] - 0s 13ms/step - loss: 0.3811 - accuracy: 0.0000e+00 - val_loss: 0.5504 - val_accuracy: 0.0000e+00\n",
      "Epoch 380/400\n",
      "4/4 [==============================] - 0s 15ms/step - loss: 0.3748 - accuracy: 0.0000e+00 - val_loss: 0.5577 - val_accuracy: 0.0000e+00\n",
      "Epoch 381/400\n",
      "4/4 [==============================] - 0s 12ms/step - loss: 0.3757 - accuracy: 0.0000e+00 - val_loss: 0.5557 - val_accuracy: 0.0000e+00\n",
      "Epoch 382/400\n",
      "4/4 [==============================] - 0s 11ms/step - loss: 0.3810 - accuracy: 0.0000e+00 - val_loss: 0.5544 - val_accuracy: 0.0000e+00\n",
      "Epoch 383/400\n",
      "4/4 [==============================] - 0s 12ms/step - loss: 0.3760 - accuracy: 0.0000e+00 - val_loss: 0.5605 - val_accuracy: 0.0000e+00\n",
      "Epoch 384/400\n",
      "4/4 [==============================] - 0s 14ms/step - loss: 0.3743 - accuracy: 0.0000e+00 - val_loss: 0.5521 - val_accuracy: 0.0000e+00\n",
      "Epoch 385/400\n",
      "4/4 [==============================] - 0s 12ms/step - loss: 0.3733 - accuracy: 0.0000e+00 - val_loss: 0.5565 - val_accuracy: 0.0000e+00\n",
      "Epoch 386/400\n",
      "4/4 [==============================] - 0s 11ms/step - loss: 0.3694 - accuracy: 0.0000e+00 - val_loss: 0.5499 - val_accuracy: 0.0000e+00\n",
      "Epoch 387/400\n",
      "4/4 [==============================] - 0s 11ms/step - loss: 0.3686 - accuracy: 0.0000e+00 - val_loss: 0.5534 - val_accuracy: 0.0000e+00\n",
      "Epoch 388/400\n",
      "4/4 [==============================] - 0s 11ms/step - loss: 0.3693 - accuracy: 0.0000e+00 - val_loss: 0.5538 - val_accuracy: 0.0000e+00\n",
      "Epoch 389/400\n",
      "4/4 [==============================] - 0s 20ms/step - loss: 0.3726 - accuracy: 0.0000e+00 - val_loss: 0.5535 - val_accuracy: 0.0000e+00\n",
      "Epoch 390/400\n",
      "4/4 [==============================] - 0s 15ms/step - loss: 0.3693 - accuracy: 0.0000e+00 - val_loss: 0.5579 - val_accuracy: 0.0000e+00\n",
      "Epoch 391/400\n",
      "4/4 [==============================] - 0s 14ms/step - loss: 0.3675 - accuracy: 0.0000e+00 - val_loss: 0.5533 - val_accuracy: 0.0000e+00\n",
      "Epoch 392/400\n",
      "4/4 [==============================] - 0s 14ms/step - loss: 0.3689 - accuracy: 0.0000e+00 - val_loss: 0.5494 - val_accuracy: 0.0000e+00\n",
      "Epoch 393/400\n",
      "4/4 [==============================] - 0s 13ms/step - loss: 0.3650 - accuracy: 0.0000e+00 - val_loss: 0.5580 - val_accuracy: 0.0000e+00\n",
      "Epoch 394/400\n",
      "4/4 [==============================] - 0s 15ms/step - loss: 0.3687 - accuracy: 0.0000e+00 - val_loss: 0.5503 - val_accuracy: 0.0000e+00\n",
      "Epoch 395/400\n",
      "4/4 [==============================] - 0s 14ms/step - loss: 0.3668 - accuracy: 0.0000e+00 - val_loss: 0.5515 - val_accuracy: 0.0000e+00\n",
      "Epoch 396/400\n",
      "4/4 [==============================] - 0s 16ms/step - loss: 0.3637 - accuracy: 0.0000e+00 - val_loss: 0.5543 - val_accuracy: 0.0000e+00\n",
      "Epoch 397/400\n",
      "4/4 [==============================] - 0s 14ms/step - loss: 0.3655 - accuracy: 0.0000e+00 - val_loss: 0.5549 - val_accuracy: 0.0000e+00\n",
      "Epoch 398/400\n",
      "4/4 [==============================] - 0s 40ms/step - loss: 0.3632 - accuracy: 0.0000e+00 - val_loss: 0.5539 - val_accuracy: 0.0000e+00\n",
      "Epoch 399/400\n",
      "4/4 [==============================] - 0s 42ms/step - loss: 0.3645 - accuracy: 0.0000e+00 - val_loss: 0.5520 - val_accuracy: 0.0000e+00\n",
      "Epoch 400/400\n",
      "4/4 [==============================] - 0s 18ms/step - loss: 0.3614 - accuracy: 0.0000e+00 - val_loss: 0.5560 - val_accuracy: 0.0000e+00\n"
     ]
    }
   ],
   "source": [
    "EPOCH=400\n",
    "Network_Regressor=NN_model_Regressor.fit(X_Train_S, Y_Train, validation_data=(X_Test_S,Y_Test), epochs=EPOCH, batch_size=200)"
   ]
  },
  {
   "cell_type": "markdown",
   "metadata": {
    "id": "oVzo9oT9VnyW"
   },
   "source": [
    "C. Plot 2 separate visuals."
   ]
  },
  {
   "cell_type": "markdown",
   "metadata": {
    "id": "sRqOuGSIVnyW"
   },
   "source": [
    "i. Training Loss and Validation Loss"
   ]
  },
  {
   "cell_type": "code",
   "execution_count": null,
   "metadata": {
    "id": "1mirj88SVnyW",
    "outputId": "a455d578-51d3-4671-eeee-e04b4faf4d9e"
   },
   "outputs": [
    {
     "data": {
      "image/png": "[encoded data removed]",
      "text/plain": [
       "<Figure size 432x288 with 1 Axes>"
      ]
     },
     "metadata": {
      "needs_background": "light"
     },
     "output_type": "display_data"
    }
   ],
   "source": [
    "loss_train = Network_Regressor.history['loss']\n",
    "loss_val = Network_Regressor.history['val_loss']\n",
    "epochs = range(1, EPOCH+1)\n",
    "plt.plot(epochs, loss_train, 'g', label='Training loss')\n",
    "plt.plot(epochs, loss_val, 'b', label='validation loss')\n",
    "plt.title('Training and Validation loss')\n",
    "plt.xlabel('Epochs')\n",
    "plt.ylabel('Loss')\n",
    "plt.legend()\n",
    "plt.show()\n"
   ]
  },
  {
   "cell_type": "markdown",
   "metadata": {
    "id": "LHkdkJN7VnyW"
   },
   "source": [
    "ii. Training Accuracy and Validation Accuracy"
   ]
  },
  {
   "cell_type": "code",
   "execution_count": null,
   "metadata": {
    "id": "Ux5WNCHIVnyX",
    "outputId": "8e9b49b8-4d33-4220-997e-64b8a6c1b467"
   },
   "outputs": [
    {
     "data": {
      "image/png": "[encoded data removed]",
      "text/plain": [
       "<Figure size 432x288 with 1 Axes>"
      ]
     },
     "metadata": {
      "needs_background": "light"
     },
     "output_type": "display_data"
    }
   ],
   "source": [
    "Acc_train = Network_Regressor.history['accuracy']\n",
    "Acc_val = Network_Regressor.history['val_accuracy']\n",
    "epochs = range(1, EPOCH+1)\n",
    "plt.plot(epochs, Acc_train, 'g', label='Training accuracy')\n",
    "plt.plot(epochs, Acc_val, 'b', label='validation accuracy')\n",
    "plt.title('Training and Validation accuracy')\n",
    "plt.xlabel('Epochs')\n",
    "plt.ylabel('accuracy')\n",
    "plt.legend()\n",
    "plt.show()\n"
   ]
  },
  {
   "cell_type": "markdown",
   "metadata": {
    "id": "QhSzCaSJVnyX"
   },
   "source": [
    "D. Design new architecture/update existing architecture in attempt to improve the performance of the model."
   ]
  },
  {
   "cell_type": "code",
   "execution_count": null,
   "metadata": {
    "id": "sgjPb4JnVnyX"
   },
   "outputs": [],
   "source": [
    "from sklearn.datasets import make_classification"
   ]
  },
  {
   "cell_type": "code",
   "execution_count": null,
   "metadata": {
    "id": "ING7SdXdVnyX"
   },
   "outputs": [],
   "source": [
    "X, Y = make_classification(n_samples=1000, n_features=5, n_informative=2,\n",
    "                           n_redundant=3, n_repeated=0, n_classes=2,\n",
    "                           shuffle=True, random_state=2020)\n"
   ]
  },
  {
   "cell_type": "code",
   "execution_count": null,
   "metadata": {
    "id": "bEAtxoemVnyX"
   },
   "outputs": [],
   "source": [
    "X_Train,X_Test,Y_Train,Y_Test=train_test_split(X, Y, train_size=0.7, random_state=12)"
   ]
  },
  {
   "cell_type": "code",
   "execution_count": null,
   "metadata": {
    "id": "_1y23COgVnyX"
   },
   "outputs": [],
   "source": [
    "# Scaling training data\n",
    "X_Train_S = StandardScaler().fit_transform(X_Train)\n",
    "\n",
    "# Scaling testing data\n",
    "X_Test_S = StandardScaler().fit_transform(X_Test)\n"
   ]
  },
  {
   "cell_type": "code",
   "execution_count": null,
   "metadata": {
    "id": "U5oJG6uKVnyX",
    "outputId": "420f0c3d-db0e-47fa-8213-926c94d46d1e"
   },
   "outputs": [
    {
     "name": "stdout",
     "output_type": "stream",
     "text": [
      "Model: \"sequential_11\"\n",
      "_________________________________________________________________\n",
      " Layer (type)                Output Shape              Param #   \n",
      "=================================================================\n",
      " dense_39 (Dense)            (None, 128)               768       \n",
      "                                                                 \n",
      " dense_40 (Dense)            (None, 64)                8256      \n",
      "                                                                 \n",
      " dense_41 (Dense)            (None, 32)                2080      \n",
      "                                                                 \n",
      " leaky_re_lu_21 (LeakyReLU)  (None, 32)                0         \n",
      "                                                                 \n",
      " dense_42 (Dense)            (None, 16)                528       \n",
      "                                                                 \n",
      " leaky_re_lu_22 (LeakyReLU)  (None, 16)                0         \n",
      "                                                                 \n",
      " dense_43 (Dense)            (None, 1)                 17        \n",
      "                                                                 \n",
      " leaky_re_lu_23 (LeakyReLU)  (None, 1)                 0         \n",
      "                                                                 \n",
      "=================================================================\n",
      "Total params: 11,649\n",
      "Trainable params: 11,649\n",
      "Non-trainable params: 0\n",
      "_________________________________________________________________\n"
     ]
    }
   ],
   "source": [
    "NN_model_Regressor = Sequential()\n",
    "\n",
    "# The Input Layer :\n",
    "NN_model_Regressor.add(Dense(128, kernel_initializer='normal',\n",
    "                       input_dim=X_Train.shape[1], activation='relu'))\n",
    "\n",
    "# The Hidden Layers :\n",
    "NN_model_Regressor.add(\n",
    "    Dense(64, kernel_initializer='normal', activation='relu'))  # sigmoid, tanh\n",
    "\n",
    "NN_model_Regressor.add(Dense(32, kernel_initializer='normal'))\n",
    "NN_model_Regressor.add(LeakyReLU(alpha=0.1))\n",
    "\n",
    "NN_model_Regressor.add(Dense(16, kernel_initializer='normal'))\n",
    "NN_model_Regressor.add(LeakyReLU(alpha=0.1))\n",
    "\n",
    "\n",
    "# The Output Layer :\n",
    "NN_model_Regressor.add(Dense(1, kernel_initializer='normal'))  # except softmax\n",
    "NN_model_Regressor.add(LeakyReLU(alpha=0.1))\n",
    "\n",
    "# Compile the network :\n",
    "NN_model_Regressor.compile(loss='mean_absolute_error',\n",
    "                           optimizer='adam', metrics=['accuracy'])\n",
    "NN_model_Regressor.summary()\n"
   ]
  },
  {
   "cell_type": "code",
   "execution_count": null,
   "metadata": {
    "id": "iyy6g5PdVnyX",
    "outputId": "eba8809f-1388-47f8-cbb1-6c299ca603be"
   },
   "outputs": [
    {
     "name": "stdout",
     "output_type": "stream",
     "text": [
      "Epoch 1/400\n",
      "4/4 [==============================] - 1s 70ms/step - loss: 0.5043 - accuracy: 0.4957 - val_loss: 0.4898 - val_accuracy: 0.5100\n",
      "Epoch 2/400\n",
      "4/4 [==============================] - 0s 19ms/step - loss: 0.5039 - accuracy: 0.4957 - val_loss: 0.4891 - val_accuracy: 0.5100\n",
      "Epoch 3/400\n",
      "4/4 [==============================] - 0s 15ms/step - loss: 0.5031 - accuracy: 0.4957 - val_loss: 0.4878 - val_accuracy: 0.5100\n",
      "Epoch 4/400\n",
      "4/4 [==============================] - 0s 17ms/step - loss: 0.5013 - accuracy: 0.4957 - val_loss: 0.4852 - val_accuracy: 0.5100\n",
      "Epoch 5/400\n",
      "4/4 [==============================] - 0s 23ms/step - loss: 0.4981 - accuracy: 0.4957 - val_loss: 0.4797 - val_accuracy: 0.5100\n",
      "Epoch 6/400\n",
      "4/4 [==============================] - 0s 20ms/step - loss: 0.4913 - accuracy: 0.4957 - val_loss: 0.4695 - val_accuracy: 0.5100\n",
      "Epoch 7/400\n",
      "4/4 [==============================] - 0s 20ms/step - loss: 0.4793 - accuracy: 0.4957 - val_loss: 0.4507 - val_accuracy: 0.5100\n",
      "Epoch 8/400\n",
      "4/4 [==============================] - 0s 26ms/step - loss: 0.4573 - accuracy: 0.4957 - val_loss: 0.4160 - val_accuracy: 0.5100\n",
      "Epoch 9/400\n",
      "4/4 [==============================] - 0s 14ms/step - loss: 0.4161 - accuracy: 0.4957 - val_loss: 0.3547 - val_accuracy: 0.5233\n",
      "Epoch 10/400\n",
      "4/4 [==============================] - 0s 17ms/step - loss: 0.3444 - accuracy: 0.5514 - val_loss: 0.2497 - val_accuracy: 0.7633\n",
      "Epoch 11/400\n",
      "4/4 [==============================] - 0s 19ms/step - loss: 0.2286 - accuracy: 0.8329 - val_loss: 0.1595 - val_accuracy: 0.9600\n",
      "Epoch 12/400\n",
      "4/4 [==============================] - 0s 21ms/step - loss: 0.1824 - accuracy: 0.9371 - val_loss: 0.1831 - val_accuracy: 0.9667\n",
      "Epoch 13/400\n",
      "4/4 [==============================] - 0s 21ms/step - loss: 0.1761 - accuracy: 0.9400 - val_loss: 0.1145 - val_accuracy: 0.9700\n",
      "Epoch 14/400\n",
      "4/4 [==============================] - 0s 17ms/step - loss: 0.1323 - accuracy: 0.9457 - val_loss: 0.1311 - val_accuracy: 0.9600\n",
      "Epoch 15/400\n",
      "4/4 [==============================] - 0s 17ms/step - loss: 0.1470 - accuracy: 0.9286 - val_loss: 0.1132 - val_accuracy: 0.9700\n",
      "Epoch 16/400\n",
      "4/4 [==============================] - 0s 18ms/step - loss: 0.1257 - accuracy: 0.9457 - val_loss: 0.1075 - val_accuracy: 0.9733\n",
      "Epoch 17/400\n",
      "4/4 [==============================] - 0s 17ms/step - loss: 0.1241 - accuracy: 0.9529 - val_loss: 0.1064 - val_accuracy: 0.9700\n",
      "Epoch 18/400\n",
      "4/4 [==============================] - 0s 19ms/step - loss: 0.1210 - accuracy: 0.9514 - val_loss: 0.1016 - val_accuracy: 0.9667\n",
      "Epoch 19/400\n",
      "4/4 [==============================] - 0s 24ms/step - loss: 0.1196 - accuracy: 0.9500 - val_loss: 0.0996 - val_accuracy: 0.9667\n",
      "Epoch 20/400\n",
      "4/4 [==============================] - 0s 23ms/step - loss: 0.1167 - accuracy: 0.9514 - val_loss: 0.0965 - val_accuracy: 0.9733\n",
      "Epoch 21/400\n",
      "4/4 [==============================] - 0s 28ms/step - loss: 0.1147 - accuracy: 0.9514 - val_loss: 0.0968 - val_accuracy: 0.9733\n",
      "Epoch 22/400\n",
      "4/4 [==============================] - 0s 24ms/step - loss: 0.1132 - accuracy: 0.9514 - val_loss: 0.0938 - val_accuracy: 0.9733\n",
      "Epoch 23/400\n",
      "4/4 [==============================] - 0s 20ms/step - loss: 0.1117 - accuracy: 0.9543 - val_loss: 0.0929 - val_accuracy: 0.9700\n",
      "Epoch 24/400\n",
      "4/4 [==============================] - 0s 16ms/step - loss: 0.1105 - accuracy: 0.9557 - val_loss: 0.0922 - val_accuracy: 0.9700\n",
      "Epoch 25/400\n",
      "4/4 [==============================] - 0s 17ms/step - loss: 0.1090 - accuracy: 0.9557 - val_loss: 0.0920 - val_accuracy: 0.9733\n",
      "Epoch 26/400\n",
      "4/4 [==============================] - 0s 16ms/step - loss: 0.1080 - accuracy: 0.9557 - val_loss: 0.0901 - val_accuracy: 0.9733\n",
      "Epoch 27/400\n",
      "4/4 [==============================] - 0s 17ms/step - loss: 0.1060 - accuracy: 0.9571 - val_loss: 0.0886 - val_accuracy: 0.9733\n",
      "Epoch 28/400\n",
      "4/4 [==============================] - 0s 17ms/step - loss: 0.1067 - accuracy: 0.9543 - val_loss: 0.0876 - val_accuracy: 0.9733\n",
      "Epoch 29/400\n",
      "4/4 [==============================] - 0s 17ms/step - loss: 0.1051 - accuracy: 0.9557 - val_loss: 0.0878 - val_accuracy: 0.9733\n",
      "Epoch 30/400\n",
      "4/4 [==============================] - 0s 14ms/step - loss: 0.1034 - accuracy: 0.9571 - val_loss: 0.0858 - val_accuracy: 0.9733\n",
      "Epoch 31/400\n",
      "4/4 [==============================] - 0s 17ms/step - loss: 0.1017 - accuracy: 0.9586 - val_loss: 0.0844 - val_accuracy: 0.9733\n",
      "Epoch 32/400\n",
      "4/4 [==============================] - 0s 18ms/step - loss: 0.1005 - accuracy: 0.9586 - val_loss: 0.0838 - val_accuracy: 0.9733\n",
      "Epoch 33/400\n",
      "4/4 [==============================] - 0s 27ms/step - loss: 0.0994 - accuracy: 0.9586 - val_loss: 0.0829 - val_accuracy: 0.9700\n",
      "Epoch 34/400\n",
      "4/4 [==============================] - 0s 17ms/step - loss: 0.0982 - accuracy: 0.9571 - val_loss: 0.0813 - val_accuracy: 0.9700\n",
      "Epoch 35/400\n",
      "4/4 [==============================] - 0s 21ms/step - loss: 0.0971 - accuracy: 0.9571 - val_loss: 0.0803 - val_accuracy: 0.9700\n",
      "Epoch 36/400\n",
      "4/4 [==============================] - 0s 17ms/step - loss: 0.0954 - accuracy: 0.9586 - val_loss: 0.0789 - val_accuracy: 0.9700\n",
      "Epoch 37/400\n",
      "4/4 [==============================] - 0s 17ms/step - loss: 0.0940 - accuracy: 0.9586 - val_loss: 0.0782 - val_accuracy: 0.9700\n",
      "Epoch 38/400\n",
      "4/4 [==============================] - 0s 16ms/step - loss: 0.0927 - accuracy: 0.9571 - val_loss: 0.0762 - val_accuracy: 0.9700\n",
      "Epoch 39/400\n",
      "4/4 [==============================] - 0s 17ms/step - loss: 0.0913 - accuracy: 0.9571 - val_loss: 0.0749 - val_accuracy: 0.9700\n",
      "Epoch 40/400\n",
      "4/4 [==============================] - 0s 15ms/step - loss: 0.0898 - accuracy: 0.9571 - val_loss: 0.0742 - val_accuracy: 0.9700\n",
      "Epoch 41/400\n",
      "4/4 [==============================] - 0s 18ms/step - loss: 0.0882 - accuracy: 0.9571 - val_loss: 0.0720 - val_accuracy: 0.9700\n",
      "Epoch 42/400\n",
      "4/4 [==============================] - 0s 17ms/step - loss: 0.0885 - accuracy: 0.9586 - val_loss: 0.0715 - val_accuracy: 0.9700\n",
      "Epoch 43/400\n",
      "4/4 [==============================] - 0s 17ms/step - loss: 0.0853 - accuracy: 0.9571 - val_loss: 0.0725 - val_accuracy: 0.9700\n",
      "Epoch 44/400\n",
      "4/4 [==============================] - 0s 16ms/step - loss: 0.0837 - accuracy: 0.9571 - val_loss: 0.0676 - val_accuracy: 0.9700\n",
      "Epoch 45/400\n",
      "4/4 [==============================] - 0s 20ms/step - loss: 0.0822 - accuracy: 0.9600 - val_loss: 0.0655 - val_accuracy: 0.9700\n",
      "Epoch 46/400\n",
      "4/4 [==============================] - 0s 22ms/step - loss: 0.0804 - accuracy: 0.9571 - val_loss: 0.0650 - val_accuracy: 0.9700\n",
      "Epoch 47/400\n",
      "4/4 [==============================] - 0s 19ms/step - loss: 0.0778 - accuracy: 0.9571 - val_loss: 0.0644 - val_accuracy: 0.9700\n",
      "Epoch 48/400\n",
      "4/4 [==============================] - 0s 55ms/step - loss: 0.0754 - accuracy: 0.9557 - val_loss: 0.0640 - val_accuracy: 0.9700\n",
      "Epoch 49/400\n",
      "4/4 [==============================] - 0s 43ms/step - loss: 0.0753 - accuracy: 0.9557 - val_loss: 0.0590 - val_accuracy: 0.9700\n",
      "Epoch 50/400\n",
      "4/4 [==============================] - 0s 12ms/step - loss: 0.0718 - accuracy: 0.9557 - val_loss: 0.0562 - val_accuracy: 0.9700\n",
      "Epoch 51/400\n",
      "4/4 [==============================] - 0s 25ms/step - loss: 0.0691 - accuracy: 0.9571 - val_loss: 0.0547 - val_accuracy: 0.9700\n",
      "Epoch 52/400\n",
      "4/4 [==============================] - 0s 17ms/step - loss: 0.0688 - accuracy: 0.9571 - val_loss: 0.0523 - val_accuracy: 0.9700\n",
      "Epoch 53/400\n",
      "4/4 [==============================] - 0s 19ms/step - loss: 0.0650 - accuracy: 0.9557 - val_loss: 0.0483 - val_accuracy: 0.9700\n",
      "Epoch 54/400\n",
      "4/4 [==============================] - 0s 17ms/step - loss: 0.0602 - accuracy: 0.9557 - val_loss: 0.0462 - val_accuracy: 0.9667\n",
      "Epoch 55/400\n",
      "4/4 [==============================] - 0s 15ms/step - loss: 0.0576 - accuracy: 0.9557 - val_loss: 0.0431 - val_accuracy: 0.9700\n",
      "Epoch 56/400\n",
      "4/4 [==============================] - 0s 17ms/step - loss: 0.0546 - accuracy: 0.9557 - val_loss: 0.0413 - val_accuracy: 0.9700\n",
      "Epoch 57/400\n",
      "4/4 [==============================] - 0s 18ms/step - loss: 0.0529 - accuracy: 0.9557 - val_loss: 0.0415 - val_accuracy: 0.9700\n",
      "Epoch 58/400\n",
      "4/4 [==============================] - 0s 19ms/step - loss: 0.0518 - accuracy: 0.9557 - val_loss: 0.0409 - val_accuracy: 0.9700\n",
      "Epoch 59/400\n",
      "4/4 [==============================] - 0s 16ms/step - loss: 0.0529 - accuracy: 0.9571 - val_loss: 0.0451 - val_accuracy: 0.9700\n",
      "Epoch 60/400\n",
      "4/4 [==============================] - 0s 18ms/step - loss: 0.0553 - accuracy: 0.9571 - val_loss: 0.0407 - val_accuracy: 0.9700\n",
      "Epoch 61/400\n",
      "4/4 [==============================] - 0s 19ms/step - loss: 0.0559 - accuracy: 0.9571 - val_loss: 0.0436 - val_accuracy: 0.9700\n",
      "Epoch 62/400\n",
      "4/4 [==============================] - 0s 23ms/step - loss: 0.0542 - accuracy: 0.9571 - val_loss: 0.0415 - val_accuracy: 0.9700\n",
      "Epoch 63/400\n",
      "4/4 [==============================] - 0s 23ms/step - loss: 0.0523 - accuracy: 0.9586 - val_loss: 0.0397 - val_accuracy: 0.9700\n",
      "Epoch 64/400\n",
      "4/4 [==============================] - 0s 22ms/step - loss: 0.0510 - accuracy: 0.9586 - val_loss: 0.0408 - val_accuracy: 0.9700\n",
      "Epoch 65/400\n",
      "4/4 [==============================] - 0s 16ms/step - loss: 0.0518 - accuracy: 0.9571 - val_loss: 0.0392 - val_accuracy: 0.9700\n",
      "Epoch 66/400\n",
      "4/4 [==============================] - 0s 21ms/step - loss: 0.0500 - accuracy: 0.9571 - val_loss: 0.0390 - val_accuracy: 0.9700\n",
      "Epoch 67/400\n",
      "4/4 [==============================] - 0s 20ms/step - loss: 0.0514 - accuracy: 0.9586 - val_loss: 0.0363 - val_accuracy: 0.9700\n",
      "Epoch 68/400\n",
      "4/4 [==============================] - 0s 21ms/step - loss: 0.0499 - accuracy: 0.9586 - val_loss: 0.0378 - val_accuracy: 0.9700\n",
      "Epoch 69/400\n",
      "4/4 [==============================] - 0s 18ms/step - loss: 0.0507 - accuracy: 0.9586 - val_loss: 0.0378 - val_accuracy: 0.9700\n",
      "Epoch 70/400\n",
      "4/4 [==============================] - 0s 17ms/step - loss: 0.0492 - accuracy: 0.9571 - val_loss: 0.0366 - val_accuracy: 0.9700\n",
      "Epoch 71/400\n",
      "4/4 [==============================] - 0s 16ms/step - loss: 0.0478 - accuracy: 0.9571 - val_loss: 0.0364 - val_accuracy: 0.9700\n",
      "Epoch 72/400\n",
      "4/4 [==============================] - 0s 21ms/step - loss: 0.0480 - accuracy: 0.9571 - val_loss: 0.0356 - val_accuracy: 0.9700\n",
      "Epoch 73/400\n",
      "4/4 [==============================] - 0s 16ms/step - loss: 0.0480 - accuracy: 0.9600 - val_loss: 0.0360 - val_accuracy: 0.9700\n",
      "Epoch 74/400\n",
      "4/4 [==============================] - 0s 21ms/step - loss: 0.0485 - accuracy: 0.9600 - val_loss: 0.0379 - val_accuracy: 0.9700\n",
      "Epoch 75/400\n",
      "4/4 [==============================] - 0s 22ms/step - loss: 0.0473 - accuracy: 0.9586 - val_loss: 0.0374 - val_accuracy: 0.9700\n",
      "Epoch 76/400\n",
      "4/4 [==============================] - 0s 33ms/step - loss: 0.0481 - accuracy: 0.9586 - val_loss: 0.0391 - val_accuracy: 0.9700\n",
      "Epoch 77/400\n",
      "4/4 [==============================] - 0s 24ms/step - loss: 0.0495 - accuracy: 0.9586 - val_loss: 0.0394 - val_accuracy: 0.9700\n",
      "Epoch 78/400\n",
      "4/4 [==============================] - 0s 24ms/step - loss: 0.0490 - accuracy: 0.9586 - val_loss: 0.0359 - val_accuracy: 0.9700\n",
      "Epoch 79/400\n",
      "4/4 [==============================] - 0s 25ms/step - loss: 0.0486 - accuracy: 0.9586 - val_loss: 0.0426 - val_accuracy: 0.9700\n",
      "Epoch 80/400\n",
      "4/4 [==============================] - 0s 22ms/step - loss: 0.0508 - accuracy: 0.9586 - val_loss: 0.0351 - val_accuracy: 0.9700\n",
      "Epoch 81/400\n",
      "4/4 [==============================] - 0s 23ms/step - loss: 0.0502 - accuracy: 0.9571 - val_loss: 0.0397 - val_accuracy: 0.9700\n",
      "Epoch 82/400\n",
      "4/4 [==============================] - 0s 26ms/step - loss: 0.0497 - accuracy: 0.9571 - val_loss: 0.0361 - val_accuracy: 0.9700\n",
      "Epoch 83/400\n",
      "4/4 [==============================] - 0s 20ms/step - loss: 0.0466 - accuracy: 0.9571 - val_loss: 0.0385 - val_accuracy: 0.9700\n",
      "Epoch 84/400\n",
      "4/4 [==============================] - 0s 17ms/step - loss: 0.0484 - accuracy: 0.9600 - val_loss: 0.0353 - val_accuracy: 0.9667\n",
      "Epoch 85/400\n",
      "4/4 [==============================] - 0s 20ms/step - loss: 0.0475 - accuracy: 0.9586 - val_loss: 0.0393 - val_accuracy: 0.9700\n",
      "Epoch 86/400\n",
      "4/4 [==============================] - 0s 16ms/step - loss: 0.0484 - accuracy: 0.9586 - val_loss: 0.0396 - val_accuracy: 0.9700\n",
      "Epoch 87/400\n",
      "4/4 [==============================] - 0s 22ms/step - loss: 0.0495 - accuracy: 0.9586 - val_loss: 0.0404 - val_accuracy: 0.9700\n",
      "Epoch 88/400\n",
      "4/4 [==============================] - 0s 18ms/step - loss: 0.0482 - accuracy: 0.9586 - val_loss: 0.0394 - val_accuracy: 0.9700\n",
      "Epoch 89/400\n",
      "4/4 [==============================] - 0s 15ms/step - loss: 0.0487 - accuracy: 0.9586 - val_loss: 0.0394 - val_accuracy: 0.9700\n",
      "Epoch 90/400\n",
      "4/4 [==============================] - 0s 19ms/step - loss: 0.0471 - accuracy: 0.9600 - val_loss: 0.0348 - val_accuracy: 0.9667\n",
      "Epoch 91/400\n",
      "4/4 [==============================] - 0s 62ms/step - loss: 0.0453 - accuracy: 0.9586 - val_loss: 0.0364 - val_accuracy: 0.9667\n",
      "Epoch 92/400\n",
      "4/4 [==============================] - 0s 17ms/step - loss: 0.0450 - accuracy: 0.9586 - val_loss: 0.0348 - val_accuracy: 0.9667\n",
      "Epoch 93/400\n",
      "4/4 [==============================] - 0s 22ms/step - loss: 0.0452 - accuracy: 0.9586 - val_loss: 0.0373 - val_accuracy: 0.9700\n",
      "Epoch 94/400\n",
      "4/4 [==============================] - 0s 29ms/step - loss: 0.0480 - accuracy: 0.9571 - val_loss: 0.0346 - val_accuracy: 0.9700\n",
      "Epoch 95/400\n",
      "4/4 [==============================] - 0s 25ms/step - loss: 0.0473 - accuracy: 0.9586 - val_loss: 0.0353 - val_accuracy: 0.9700\n",
      "Epoch 96/400\n",
      "4/4 [==============================] - 0s 33ms/step - loss: 0.0456 - accuracy: 0.9600 - val_loss: 0.0385 - val_accuracy: 0.9667\n",
      "Epoch 97/400\n",
      "4/4 [==============================] - 0s 24ms/step - loss: 0.0465 - accuracy: 0.9586 - val_loss: 0.0373 - val_accuracy: 0.9667\n",
      "Epoch 98/400\n",
      "4/4 [==============================] - 0s 36ms/step - loss: 0.0470 - accuracy: 0.9586 - val_loss: 0.0379 - val_accuracy: 0.9700\n",
      "Epoch 99/400\n",
      "4/4 [==============================] - 0s 20ms/step - loss: 0.0481 - accuracy: 0.9586 - val_loss: 0.0397 - val_accuracy: 0.9700\n",
      "Epoch 100/400\n",
      "4/4 [==============================] - 0s 19ms/step - loss: 0.0484 - accuracy: 0.9571 - val_loss: 0.0350 - val_accuracy: 0.9700\n",
      "Epoch 101/400\n",
      "4/4 [==============================] - 0s 17ms/step - loss: 0.0492 - accuracy: 0.9586 - val_loss: 0.0399 - val_accuracy: 0.9667\n",
      "Epoch 102/400\n",
      "4/4 [==============================] - 0s 16ms/step - loss: 0.0492 - accuracy: 0.9600 - val_loss: 0.0395 - val_accuracy: 0.9667\n",
      "Epoch 103/400\n",
      "4/4 [==============================] - 0s 15ms/step - loss: 0.0486 - accuracy: 0.9586 - val_loss: 0.0370 - val_accuracy: 0.9667\n",
      "Epoch 104/400\n",
      "4/4 [==============================] - 0s 27ms/step - loss: 0.0484 - accuracy: 0.9586 - val_loss: 0.0400 - val_accuracy: 0.9667\n",
      "Epoch 105/400\n",
      "4/4 [==============================] - 0s 28ms/step - loss: 0.0502 - accuracy: 0.9614 - val_loss: 0.0403 - val_accuracy: 0.9667\n",
      "Epoch 106/400\n",
      "4/4 [==============================] - 0s 23ms/step - loss: 0.0474 - accuracy: 0.9586 - val_loss: 0.0343 - val_accuracy: 0.9700\n",
      "Epoch 107/400\n",
      "4/4 [==============================] - 0s 16ms/step - loss: 0.0447 - accuracy: 0.9586 - val_loss: 0.0337 - val_accuracy: 0.9700\n",
      "Epoch 108/400\n",
      "4/4 [==============================] - 0s 17ms/step - loss: 0.0448 - accuracy: 0.9571 - val_loss: 0.0355 - val_accuracy: 0.9700\n",
      "Epoch 109/400\n",
      "4/4 [==============================] - 0s 17ms/step - loss: 0.0454 - accuracy: 0.9586 - val_loss: 0.0363 - val_accuracy: 0.9667\n",
      "Epoch 110/400\n",
      "4/4 [==============================] - 0s 20ms/step - loss: 0.0459 - accuracy: 0.9600 - val_loss: 0.0337 - val_accuracy: 0.9667\n",
      "Epoch 111/400\n",
      "4/4 [==============================] - 0s 22ms/step - loss: 0.0448 - accuracy: 0.9600 - val_loss: 0.0329 - val_accuracy: 0.9700\n",
      "Epoch 112/400\n",
      "4/4 [==============================] - 0s 18ms/step - loss: 0.0438 - accuracy: 0.9600 - val_loss: 0.0344 - val_accuracy: 0.9700\n",
      "Epoch 113/400\n",
      "4/4 [==============================] - 0s 16ms/step - loss: 0.0445 - accuracy: 0.9586 - val_loss: 0.0378 - val_accuracy: 0.9700\n",
      "Epoch 114/400\n",
      "4/4 [==============================] - 0s 24ms/step - loss: 0.0469 - accuracy: 0.9600 - val_loss: 0.0367 - val_accuracy: 0.9667\n",
      "Epoch 115/400\n",
      "4/4 [==============================] - 0s 26ms/step - loss: 0.0457 - accuracy: 0.9614 - val_loss: 0.0341 - val_accuracy: 0.9667\n",
      "Epoch 116/400\n",
      "4/4 [==============================] - 0s 29ms/step - loss: 0.0446 - accuracy: 0.9586 - val_loss: 0.0352 - val_accuracy: 0.9700\n",
      "Epoch 117/400\n",
      "4/4 [==============================] - 0s 22ms/step - loss: 0.0459 - accuracy: 0.9571 - val_loss: 0.0350 - val_accuracy: 0.9700\n",
      "Epoch 118/400\n",
      "4/4 [==============================] - 0s 16ms/step - loss: 0.0446 - accuracy: 0.9571 - val_loss: 0.0342 - val_accuracy: 0.9700\n",
      "Epoch 119/400\n",
      "4/4 [==============================] - 0s 16ms/step - loss: 0.0455 - accuracy: 0.9586 - val_loss: 0.0368 - val_accuracy: 0.9667\n",
      "Epoch 120/400\n",
      "4/4 [==============================] - 0s 18ms/step - loss: 0.0453 - accuracy: 0.9614 - val_loss: 0.0383 - val_accuracy: 0.9667\n",
      "Epoch 121/400\n",
      "4/4 [==============================] - 0s 23ms/step - loss: 0.0476 - accuracy: 0.9600 - val_loss: 0.0396 - val_accuracy: 0.9700\n",
      "Epoch 122/400\n",
      "4/4 [==============================] - 0s 26ms/step - loss: 0.0491 - accuracy: 0.9571 - val_loss: 0.0423 - val_accuracy: 0.9700\n",
      "Epoch 123/400\n",
      "4/4 [==============================] - 0s 17ms/step - loss: 0.0499 - accuracy: 0.9571 - val_loss: 0.0388 - val_accuracy: 0.9700\n",
      "Epoch 124/400\n",
      "4/4 [==============================] - 0s 18ms/step - loss: 0.0473 - accuracy: 0.9600 - val_loss: 0.0354 - val_accuracy: 0.9667\n",
      "Epoch 125/400\n",
      "4/4 [==============================] - 0s 19ms/step - loss: 0.0456 - accuracy: 0.9614 - val_loss: 0.0369 - val_accuracy: 0.9700\n",
      "Epoch 126/400\n",
      "4/4 [==============================] - 0s 28ms/step - loss: 0.0455 - accuracy: 0.9614 - val_loss: 0.0358 - val_accuracy: 0.9667\n",
      "Epoch 127/400\n",
      "4/4 [==============================] - 0s 22ms/step - loss: 0.0446 - accuracy: 0.9600 - val_loss: 0.0339 - val_accuracy: 0.9667\n",
      "Epoch 128/400\n",
      "4/4 [==============================] - 0s 20ms/step - loss: 0.0445 - accuracy: 0.9600 - val_loss: 0.0355 - val_accuracy: 0.9700\n",
      "Epoch 129/400\n",
      "4/4 [==============================] - 0s 23ms/step - loss: 0.0450 - accuracy: 0.9586 - val_loss: 0.0378 - val_accuracy: 0.9667\n",
      "Epoch 130/400\n",
      "4/4 [==============================] - 0s 21ms/step - loss: 0.0461 - accuracy: 0.9614 - val_loss: 0.0333 - val_accuracy: 0.9667\n",
      "Epoch 131/400\n",
      "4/4 [==============================] - 0s 28ms/step - loss: 0.0454 - accuracy: 0.9614 - val_loss: 0.0342 - val_accuracy: 0.9667\n",
      "Epoch 132/400\n",
      "4/4 [==============================] - 0s 21ms/step - loss: 0.0443 - accuracy: 0.9614 - val_loss: 0.0350 - val_accuracy: 0.9667\n",
      "Epoch 133/400\n",
      "4/4 [==============================] - 0s 23ms/step - loss: 0.0448 - accuracy: 0.9600 - val_loss: 0.0335 - val_accuracy: 0.9700\n",
      "Epoch 134/400\n",
      "4/4 [==============================] - 0s 21ms/step - loss: 0.0450 - accuracy: 0.9571 - val_loss: 0.0340 - val_accuracy: 0.9700\n",
      "Epoch 135/400\n",
      "4/4 [==============================] - 0s 15ms/step - loss: 0.0441 - accuracy: 0.9600 - val_loss: 0.0334 - val_accuracy: 0.9700\n",
      "Epoch 136/400\n",
      "4/4 [==============================] - 0s 19ms/step - loss: 0.0444 - accuracy: 0.9600 - val_loss: 0.0330 - val_accuracy: 0.9667\n",
      "Epoch 137/400\n",
      "4/4 [==============================] - 0s 18ms/step - loss: 0.0439 - accuracy: 0.9600 - val_loss: 0.0342 - val_accuracy: 0.9667\n",
      "Epoch 138/400\n",
      "4/4 [==============================] - 0s 17ms/step - loss: 0.0452 - accuracy: 0.9600 - val_loss: 0.0340 - val_accuracy: 0.9667\n",
      "Epoch 139/400\n",
      "4/4 [==============================] - 0s 14ms/step - loss: 0.0439 - accuracy: 0.9600 - val_loss: 0.0329 - val_accuracy: 0.9667\n",
      "Epoch 140/400\n",
      "4/4 [==============================] - 0s 17ms/step - loss: 0.0435 - accuracy: 0.9614 - val_loss: 0.0337 - val_accuracy: 0.9700\n",
      "Epoch 141/400\n",
      "4/4 [==============================] - 0s 20ms/step - loss: 0.0453 - accuracy: 0.9614 - val_loss: 0.0370 - val_accuracy: 0.9667\n",
      "Epoch 142/400\n",
      "4/4 [==============================] - 0s 24ms/step - loss: 0.0453 - accuracy: 0.9614 - val_loss: 0.0333 - val_accuracy: 0.9700\n",
      "Epoch 143/400\n",
      "4/4 [==============================] - 0s 30ms/step - loss: 0.0444 - accuracy: 0.9586 - val_loss: 0.0327 - val_accuracy: 0.9700\n",
      "Epoch 144/400\n",
      "4/4 [==============================] - 0s 27ms/step - loss: 0.0437 - accuracy: 0.9586 - val_loss: 0.0357 - val_accuracy: 0.9700\n",
      "Epoch 145/400\n",
      "4/4 [==============================] - 0s 26ms/step - loss: 0.0447 - accuracy: 0.9614 - val_loss: 0.0333 - val_accuracy: 0.9667\n",
      "Epoch 146/400\n",
      "4/4 [==============================] - 0s 24ms/step - loss: 0.0430 - accuracy: 0.9614 - val_loss: 0.0354 - val_accuracy: 0.9667\n",
      "Epoch 147/400\n",
      "4/4 [==============================] - 0s 20ms/step - loss: 0.0450 - accuracy: 0.9614 - val_loss: 0.0333 - val_accuracy: 0.9667\n",
      "Epoch 148/400\n",
      "4/4 [==============================] - 0s 23ms/step - loss: 0.0464 - accuracy: 0.9614 - val_loss: 0.0375 - val_accuracy: 0.9667\n",
      "Epoch 149/400\n",
      "4/4 [==============================] - 0s 27ms/step - loss: 0.0471 - accuracy: 0.9600 - val_loss: 0.0390 - val_accuracy: 0.9700\n",
      "Epoch 150/400\n",
      "4/4 [==============================] - 0s 29ms/step - loss: 0.0481 - accuracy: 0.9600 - val_loss: 0.0381 - val_accuracy: 0.9667\n",
      "Epoch 151/400\n",
      "4/4 [==============================] - 0s 20ms/step - loss: 0.0445 - accuracy: 0.9614 - val_loss: 0.0325 - val_accuracy: 0.9700\n",
      "Epoch 152/400\n",
      "4/4 [==============================] - 0s 15ms/step - loss: 0.0426 - accuracy: 0.9614 - val_loss: 0.0354 - val_accuracy: 0.9700\n",
      "Epoch 153/400\n",
      "4/4 [==============================] - 0s 18ms/step - loss: 0.0450 - accuracy: 0.9614 - val_loss: 0.0334 - val_accuracy: 0.9667\n",
      "Epoch 154/400\n",
      "4/4 [==============================] - 0s 21ms/step - loss: 0.0432 - accuracy: 0.9614 - val_loss: 0.0370 - val_accuracy: 0.9667\n",
      "Epoch 155/400\n",
      "4/4 [==============================] - 0s 44ms/step - loss: 0.0456 - accuracy: 0.9614 - val_loss: 0.0345 - val_accuracy: 0.9667\n",
      "Epoch 156/400\n",
      "4/4 [==============================] - 0s 22ms/step - loss: 0.0449 - accuracy: 0.9614 - val_loss: 0.0367 - val_accuracy: 0.9667\n",
      "Epoch 157/400\n",
      "4/4 [==============================] - 0s 38ms/step - loss: 0.0450 - accuracy: 0.9614 - val_loss: 0.0364 - val_accuracy: 0.9667\n",
      "Epoch 158/400\n",
      "4/4 [==============================] - 0s 24ms/step - loss: 0.0447 - accuracy: 0.9614 - val_loss: 0.0350 - val_accuracy: 0.9667\n",
      "Epoch 159/400\n",
      "4/4 [==============================] - 0s 23ms/step - loss: 0.0448 - accuracy: 0.9600 - val_loss: 0.0341 - val_accuracy: 0.9700\n",
      "Epoch 160/400\n",
      "4/4 [==============================] - 0s 18ms/step - loss: 0.0436 - accuracy: 0.9614 - val_loss: 0.0340 - val_accuracy: 0.9667\n",
      "Epoch 161/400\n",
      "4/4 [==============================] - 0s 19ms/step - loss: 0.0443 - accuracy: 0.9614 - val_loss: 0.0361 - val_accuracy: 0.9700\n",
      "Epoch 162/400\n",
      "4/4 [==============================] - 0s 17ms/step - loss: 0.0457 - accuracy: 0.9586 - val_loss: 0.0351 - val_accuracy: 0.9700\n",
      "Epoch 163/400\n",
      "4/4 [==============================] - 0s 18ms/step - loss: 0.0445 - accuracy: 0.9600 - val_loss: 0.0352 - val_accuracy: 0.9700\n",
      "Epoch 164/400\n",
      "4/4 [==============================] - 0s 17ms/step - loss: 0.0443 - accuracy: 0.9614 - val_loss: 0.0360 - val_accuracy: 0.9700\n",
      "Epoch 165/400\n",
      "4/4 [==============================] - 0s 23ms/step - loss: 0.0451 - accuracy: 0.9614 - val_loss: 0.0337 - val_accuracy: 0.9700\n",
      "Epoch 166/400\n",
      "4/4 [==============================] - 0s 27ms/step - loss: 0.0455 - accuracy: 0.9614 - val_loss: 0.0360 - val_accuracy: 0.9700\n",
      "Epoch 167/400\n",
      "4/4 [==============================] - 0s 17ms/step - loss: 0.0454 - accuracy: 0.9614 - val_loss: 0.0359 - val_accuracy: 0.9667\n",
      "Epoch 168/400\n",
      "4/4 [==============================] - 0s 29ms/step - loss: 0.0456 - accuracy: 0.9614 - val_loss: 0.0348 - val_accuracy: 0.9667\n",
      "Epoch 169/400\n",
      "4/4 [==============================] - 0s 34ms/step - loss: 0.0451 - accuracy: 0.9614 - val_loss: 0.0347 - val_accuracy: 0.9700\n",
      "Epoch 170/400\n",
      "4/4 [==============================] - 0s 21ms/step - loss: 0.0441 - accuracy: 0.9614 - val_loss: 0.0336 - val_accuracy: 0.9700\n",
      "Epoch 171/400\n",
      "4/4 [==============================] - 0s 31ms/step - loss: 0.0432 - accuracy: 0.9614 - val_loss: 0.0328 - val_accuracy: 0.9700\n",
      "Epoch 172/400\n",
      "4/4 [==============================] - 0s 26ms/step - loss: 0.0430 - accuracy: 0.9614 - val_loss: 0.0347 - val_accuracy: 0.9700\n",
      "Epoch 173/400\n",
      "4/4 [==============================] - 0s 32ms/step - loss: 0.0437 - accuracy: 0.9614 - val_loss: 0.0361 - val_accuracy: 0.9700\n",
      "Epoch 174/400\n",
      "4/4 [==============================] - 0s 24ms/step - loss: 0.0450 - accuracy: 0.9614 - val_loss: 0.0334 - val_accuracy: 0.9667\n",
      "Epoch 175/400\n",
      "4/4 [==============================] - 0s 32ms/step - loss: 0.0451 - accuracy: 0.9614 - val_loss: 0.0350 - val_accuracy: 0.9700\n",
      "Epoch 176/400\n",
      "4/4 [==============================] - 0s 26ms/step - loss: 0.0451 - accuracy: 0.9614 - val_loss: 0.0344 - val_accuracy: 0.9667\n",
      "Epoch 177/400\n",
      "4/4 [==============================] - 0s 25ms/step - loss: 0.0450 - accuracy: 0.9614 - val_loss: 0.0371 - val_accuracy: 0.9700\n",
      "Epoch 178/400\n",
      "4/4 [==============================] - 0s 31ms/step - loss: 0.0456 - accuracy: 0.9614 - val_loss: 0.0329 - val_accuracy: 0.9700\n",
      "Epoch 179/400\n",
      "4/4 [==============================] - 0s 31ms/step - loss: 0.0447 - accuracy: 0.9614 - val_loss: 0.0366 - val_accuracy: 0.9667\n",
      "Epoch 180/400\n",
      "4/4 [==============================] - 0s 40ms/step - loss: 0.0450 - accuracy: 0.9614 - val_loss: 0.0327 - val_accuracy: 0.9700\n",
      "Epoch 181/400\n",
      "4/4 [==============================] - 0s 35ms/step - loss: 0.0434 - accuracy: 0.9614 - val_loss: 0.0357 - val_accuracy: 0.9700\n",
      "Epoch 182/400\n",
      "4/4 [==============================] - 0s 54ms/step - loss: 0.0433 - accuracy: 0.9614 - val_loss: 0.0350 - val_accuracy: 0.9667\n",
      "Epoch 183/400\n",
      "4/4 [==============================] - 0s 17ms/step - loss: 0.0430 - accuracy: 0.9614 - val_loss: 0.0325 - val_accuracy: 0.9667\n",
      "Epoch 184/400\n",
      "4/4 [==============================] - 0s 19ms/step - loss: 0.0428 - accuracy: 0.9614 - val_loss: 0.0326 - val_accuracy: 0.9667\n",
      "Epoch 185/400\n",
      "4/4 [==============================] - 0s 31ms/step - loss: 0.0426 - accuracy: 0.9614 - val_loss: 0.0346 - val_accuracy: 0.9667\n",
      "Epoch 186/400\n",
      "4/4 [==============================] - 0s 22ms/step - loss: 0.0446 - accuracy: 0.9614 - val_loss: 0.0345 - val_accuracy: 0.9700\n",
      "Epoch 187/400\n",
      "4/4 [==============================] - 0s 25ms/step - loss: 0.0456 - accuracy: 0.9614 - val_loss: 0.0397 - val_accuracy: 0.9700\n",
      "Epoch 188/400\n",
      "4/4 [==============================] - 0s 33ms/step - loss: 0.0488 - accuracy: 0.9600 - val_loss: 0.0388 - val_accuracy: 0.9700\n",
      "Epoch 189/400\n",
      "4/4 [==============================] - 0s 26ms/step - loss: 0.0469 - accuracy: 0.9614 - val_loss: 0.0403 - val_accuracy: 0.9667\n",
      "Epoch 190/400\n",
      "4/4 [==============================] - 0s 23ms/step - loss: 0.0464 - accuracy: 0.9614 - val_loss: 0.0320 - val_accuracy: 0.9700\n",
      "Epoch 191/400\n",
      "4/4 [==============================] - 0s 21ms/step - loss: 0.0434 - accuracy: 0.9614 - val_loss: 0.0356 - val_accuracy: 0.9700\n",
      "Epoch 192/400\n",
      "4/4 [==============================] - 0s 23ms/step - loss: 0.0439 - accuracy: 0.9614 - val_loss: 0.0333 - val_accuracy: 0.9700\n",
      "Epoch 193/400\n",
      "4/4 [==============================] - 0s 26ms/step - loss: 0.0428 - accuracy: 0.9614 - val_loss: 0.0333 - val_accuracy: 0.9700\n",
      "Epoch 194/400\n",
      "4/4 [==============================] - 0s 24ms/step - loss: 0.0447 - accuracy: 0.9614 - val_loss: 0.0383 - val_accuracy: 0.9700\n",
      "Epoch 195/400\n",
      "4/4 [==============================] - 0s 29ms/step - loss: 0.0466 - accuracy: 0.9614 - val_loss: 0.0415 - val_accuracy: 0.9700\n",
      "Epoch 196/400\n",
      "4/4 [==============================] - 0s 19ms/step - loss: 0.0482 - accuracy: 0.9614 - val_loss: 0.0413 - val_accuracy: 0.9700\n",
      "Epoch 197/400\n",
      "4/4 [==============================] - 0s 15ms/step - loss: 0.0468 - accuracy: 0.9614 - val_loss: 0.0348 - val_accuracy: 0.9700\n",
      "Epoch 198/400\n",
      "4/4 [==============================] - 0s 19ms/step - loss: 0.0437 - accuracy: 0.9614 - val_loss: 0.0372 - val_accuracy: 0.9700\n",
      "Epoch 199/400\n",
      "4/4 [==============================] - 0s 21ms/step - loss: 0.0449 - accuracy: 0.9614 - val_loss: 0.0361 - val_accuracy: 0.9700\n",
      "Epoch 200/400\n",
      "4/4 [==============================] - 0s 16ms/step - loss: 0.0451 - accuracy: 0.9614 - val_loss: 0.0380 - val_accuracy: 0.9667\n",
      "Epoch 201/400\n",
      "4/4 [==============================] - 0s 25ms/step - loss: 0.0462 - accuracy: 0.9614 - val_loss: 0.0343 - val_accuracy: 0.9700\n",
      "Epoch 202/400\n",
      "4/4 [==============================] - 0s 40ms/step - loss: 0.0438 - accuracy: 0.9614 - val_loss: 0.0351 - val_accuracy: 0.9700\n",
      "Epoch 203/400\n",
      "4/4 [==============================] - 0s 27ms/step - loss: 0.0430 - accuracy: 0.9614 - val_loss: 0.0334 - val_accuracy: 0.9700\n",
      "Epoch 204/400\n",
      "4/4 [==============================] - 0s 20ms/step - loss: 0.0429 - accuracy: 0.9600 - val_loss: 0.0332 - val_accuracy: 0.9700\n",
      "Epoch 205/400\n",
      "4/4 [==============================] - 0s 21ms/step - loss: 0.0421 - accuracy: 0.9614 - val_loss: 0.0326 - val_accuracy: 0.9667\n",
      "Epoch 206/400\n",
      "4/4 [==============================] - 0s 21ms/step - loss: 0.0420 - accuracy: 0.9614 - val_loss: 0.0322 - val_accuracy: 0.9700\n",
      "Epoch 207/400\n",
      "4/4 [==============================] - 0s 17ms/step - loss: 0.0417 - accuracy: 0.9614 - val_loss: 0.0317 - val_accuracy: 0.9733\n",
      "Epoch 208/400\n",
      "4/4 [==============================] - 0s 19ms/step - loss: 0.0418 - accuracy: 0.9614 - val_loss: 0.0327 - val_accuracy: 0.9700\n",
      "Epoch 209/400\n",
      "4/4 [==============================] - 0s 24ms/step - loss: 0.0435 - accuracy: 0.9614 - val_loss: 0.0340 - val_accuracy: 0.9700\n",
      "Epoch 210/400\n",
      "4/4 [==============================] - 0s 29ms/step - loss: 0.0429 - accuracy: 0.9614 - val_loss: 0.0325 - val_accuracy: 0.9700\n",
      "Epoch 211/400\n",
      "4/4 [==============================] - 0s 35ms/step - loss: 0.0420 - accuracy: 0.9614 - val_loss: 0.0320 - val_accuracy: 0.9700\n",
      "Epoch 212/400\n",
      "4/4 [==============================] - 0s 24ms/step - loss: 0.0417 - accuracy: 0.9614 - val_loss: 0.0329 - val_accuracy: 0.9700\n",
      "Epoch 213/400\n",
      "4/4 [==============================] - 0s 28ms/step - loss: 0.0422 - accuracy: 0.9614 - val_loss: 0.0334 - val_accuracy: 0.9700\n",
      "Epoch 214/400\n",
      "4/4 [==============================] - 0s 29ms/step - loss: 0.0418 - accuracy: 0.9614 - val_loss: 0.0333 - val_accuracy: 0.9700\n",
      "Epoch 215/400\n",
      "4/4 [==============================] - 0s 28ms/step - loss: 0.0422 - accuracy: 0.9614 - val_loss: 0.0332 - val_accuracy: 0.9700\n",
      "Epoch 216/400\n",
      "4/4 [==============================] - 0s 35ms/step - loss: 0.0424 - accuracy: 0.9614 - val_loss: 0.0348 - val_accuracy: 0.9700\n",
      "Epoch 217/400\n",
      "4/4 [==============================] - 0s 27ms/step - loss: 0.0432 - accuracy: 0.9614 - val_loss: 0.0325 - val_accuracy: 0.9700\n",
      "Epoch 218/400\n",
      "4/4 [==============================] - 0s 20ms/step - loss: 0.0418 - accuracy: 0.9614 - val_loss: 0.0322 - val_accuracy: 0.9733\n",
      "Epoch 219/400\n",
      "4/4 [==============================] - 0s 16ms/step - loss: 0.0419 - accuracy: 0.9600 - val_loss: 0.0326 - val_accuracy: 0.9700\n",
      "Epoch 220/400\n",
      "4/4 [==============================] - 0s 22ms/step - loss: 0.0421 - accuracy: 0.9614 - val_loss: 0.0335 - val_accuracy: 0.9733\n",
      "Epoch 221/400\n",
      "4/4 [==============================] - 0s 24ms/step - loss: 0.0429 - accuracy: 0.9614 - val_loss: 0.0364 - val_accuracy: 0.9700\n",
      "Epoch 222/400\n",
      "4/4 [==============================] - 0s 27ms/step - loss: 0.0446 - accuracy: 0.9614 - val_loss: 0.0351 - val_accuracy: 0.9700\n",
      "Epoch 223/400\n",
      "4/4 [==============================] - 0s 24ms/step - loss: 0.0438 - accuracy: 0.9614 - val_loss: 0.0367 - val_accuracy: 0.9700\n",
      "Epoch 224/400\n",
      "4/4 [==============================] - 0s 28ms/step - loss: 0.0440 - accuracy: 0.9614 - val_loss: 0.0340 - val_accuracy: 0.9700\n",
      "Epoch 225/400\n",
      "4/4 [==============================] - 0s 22ms/step - loss: 0.0423 - accuracy: 0.9614 - val_loss: 0.0336 - val_accuracy: 0.9700\n",
      "Epoch 226/400\n",
      "4/4 [==============================] - 0s 25ms/step - loss: 0.0420 - accuracy: 0.9614 - val_loss: 0.0332 - val_accuracy: 0.9700\n",
      "Epoch 227/400\n",
      "4/4 [==============================] - 0s 22ms/step - loss: 0.0415 - accuracy: 0.9614 - val_loss: 0.0324 - val_accuracy: 0.9700\n",
      "Epoch 228/400\n",
      "4/4 [==============================] - 0s 17ms/step - loss: 0.0415 - accuracy: 0.9614 - val_loss: 0.0323 - val_accuracy: 0.9700\n",
      "Epoch 229/400\n",
      "4/4 [==============================] - 0s 19ms/step - loss: 0.0412 - accuracy: 0.9614 - val_loss: 0.0331 - val_accuracy: 0.9700\n",
      "Epoch 230/400\n",
      "4/4 [==============================] - 0s 22ms/step - loss: 0.0414 - accuracy: 0.9614 - val_loss: 0.0334 - val_accuracy: 0.9700\n",
      "Epoch 231/400\n",
      "4/4 [==============================] - 0s 23ms/step - loss: 0.0413 - accuracy: 0.9614 - val_loss: 0.0331 - val_accuracy: 0.9700\n",
      "Epoch 232/400\n",
      "4/4 [==============================] - 0s 16ms/step - loss: 0.0420 - accuracy: 0.9614 - val_loss: 0.0327 - val_accuracy: 0.9700\n",
      "Epoch 233/400\n",
      "4/4 [==============================] - 0s 28ms/step - loss: 0.0416 - accuracy: 0.9614 - val_loss: 0.0350 - val_accuracy: 0.9700\n",
      "Epoch 234/400\n",
      "4/4 [==============================] - 0s 23ms/step - loss: 0.0433 - accuracy: 0.9629 - val_loss: 0.0351 - val_accuracy: 0.9700\n",
      "Epoch 235/400\n",
      "4/4 [==============================] - 0s 28ms/step - loss: 0.0438 - accuracy: 0.9614 - val_loss: 0.0359 - val_accuracy: 0.9700\n",
      "Epoch 236/400\n",
      "4/4 [==============================] - 0s 29ms/step - loss: 0.0434 - accuracy: 0.9614 - val_loss: 0.0330 - val_accuracy: 0.9700\n",
      "Epoch 237/400\n",
      "4/4 [==============================] - 0s 23ms/step - loss: 0.0430 - accuracy: 0.9614 - val_loss: 0.0356 - val_accuracy: 0.9700\n",
      "Epoch 238/400\n",
      "4/4 [==============================] - 0s 22ms/step - loss: 0.0429 - accuracy: 0.9614 - val_loss: 0.0352 - val_accuracy: 0.9700\n",
      "Epoch 239/400\n",
      "4/4 [==============================] - 0s 17ms/step - loss: 0.0438 - accuracy: 0.9614 - val_loss: 0.0327 - val_accuracy: 0.9733\n",
      "Epoch 240/400\n",
      "4/4 [==============================] - 0s 26ms/step - loss: 0.0438 - accuracy: 0.9614 - val_loss: 0.0354 - val_accuracy: 0.9700\n",
      "Epoch 241/400\n",
      "4/4 [==============================] - 0s 20ms/step - loss: 0.0438 - accuracy: 0.9614 - val_loss: 0.0331 - val_accuracy: 0.9700\n",
      "Epoch 242/400\n",
      "4/4 [==============================] - 0s 19ms/step - loss: 0.0420 - accuracy: 0.9614 - val_loss: 0.0333 - val_accuracy: 0.9700\n",
      "Epoch 243/400\n",
      "4/4 [==============================] - 0s 20ms/step - loss: 0.0421 - accuracy: 0.9614 - val_loss: 0.0342 - val_accuracy: 0.9700\n",
      "Epoch 244/400\n",
      "4/4 [==============================] - 0s 20ms/step - loss: 0.0432 - accuracy: 0.9614 - val_loss: 0.0328 - val_accuracy: 0.9700\n",
      "Epoch 245/400\n",
      "4/4 [==============================] - 0s 23ms/step - loss: 0.0417 - accuracy: 0.9614 - val_loss: 0.0340 - val_accuracy: 0.9700\n",
      "Epoch 246/400\n",
      "4/4 [==============================] - 0s 28ms/step - loss: 0.0431 - accuracy: 0.9629 - val_loss: 0.0346 - val_accuracy: 0.9700\n",
      "Epoch 247/400\n",
      "4/4 [==============================] - 0s 49ms/step - loss: 0.0434 - accuracy: 0.9629 - val_loss: 0.0370 - val_accuracy: 0.9700\n",
      "Epoch 248/400\n",
      "4/4 [==============================] - 0s 40ms/step - loss: 0.0438 - accuracy: 0.9614 - val_loss: 0.0323 - val_accuracy: 0.9733\n",
      "Epoch 249/400\n",
      "4/4 [==============================] - 0s 37ms/step - loss: 0.0425 - accuracy: 0.9614 - val_loss: 0.0322 - val_accuracy: 0.9700\n",
      "Epoch 250/400\n",
      "4/4 [==============================] - 0s 38ms/step - loss: 0.0413 - accuracy: 0.9614 - val_loss: 0.0333 - val_accuracy: 0.9700\n",
      "Epoch 251/400\n",
      "4/4 [==============================] - 0s 29ms/step - loss: 0.0419 - accuracy: 0.9629 - val_loss: 0.0368 - val_accuracy: 0.9700\n",
      "Epoch 252/400\n",
      "4/4 [==============================] - 0s 23ms/step - loss: 0.0435 - accuracy: 0.9629 - val_loss: 0.0365 - val_accuracy: 0.9700\n",
      "Epoch 253/400\n",
      "4/4 [==============================] - 0s 17ms/step - loss: 0.0446 - accuracy: 0.9614 - val_loss: 0.0394 - val_accuracy: 0.9700\n",
      "Epoch 254/400\n",
      "4/4 [==============================] - 0s 40ms/step - loss: 0.0455 - accuracy: 0.9614 - val_loss: 0.0374 - val_accuracy: 0.9700\n",
      "Epoch 255/400\n",
      "4/4 [==============================] - 0s 42ms/step - loss: 0.0440 - accuracy: 0.9614 - val_loss: 0.0354 - val_accuracy: 0.9700\n",
      "Epoch 256/400\n",
      "4/4 [==============================] - 0s 56ms/step - loss: 0.0425 - accuracy: 0.9629 - val_loss: 0.0343 - val_accuracy: 0.9700\n",
      "Epoch 257/400\n",
      "4/4 [==============================] - 0s 36ms/step - loss: 0.0416 - accuracy: 0.9629 - val_loss: 0.0330 - val_accuracy: 0.9700\n",
      "Epoch 258/400\n",
      "4/4 [==============================] - 0s 32ms/step - loss: 0.0416 - accuracy: 0.9614 - val_loss: 0.0317 - val_accuracy: 0.9733\n",
      "Epoch 259/400\n",
      "4/4 [==============================] - 0s 20ms/step - loss: 0.0412 - accuracy: 0.9614 - val_loss: 0.0320 - val_accuracy: 0.9700\n",
      "Epoch 260/400\n",
      "4/4 [==============================] - 0s 16ms/step - loss: 0.0414 - accuracy: 0.9614 - val_loss: 0.0345 - val_accuracy: 0.9700\n",
      "Epoch 261/400\n",
      "4/4 [==============================] - 0s 16ms/step - loss: 0.0424 - accuracy: 0.9629 - val_loss: 0.0345 - val_accuracy: 0.9700\n",
      "Epoch 262/400\n",
      "4/4 [==============================] - 0s 44ms/step - loss: 0.0425 - accuracy: 0.9629 - val_loss: 0.0335 - val_accuracy: 0.9700\n",
      "Epoch 263/400\n",
      "4/4 [==============================] - 0s 24ms/step - loss: 0.0414 - accuracy: 0.9614 - val_loss: 0.0337 - val_accuracy: 0.9700\n",
      "Epoch 264/400\n",
      "4/4 [==============================] - 0s 35ms/step - loss: 0.0413 - accuracy: 0.9629 - val_loss: 0.0334 - val_accuracy: 0.9700\n",
      "Epoch 265/400\n",
      "4/4 [==============================] - 0s 30ms/step - loss: 0.0412 - accuracy: 0.9614 - val_loss: 0.0336 - val_accuracy: 0.9700\n",
      "Epoch 266/400\n",
      "4/4 [==============================] - 0s 31ms/step - loss: 0.0409 - accuracy: 0.9629 - val_loss: 0.0327 - val_accuracy: 0.9700\n",
      "Epoch 267/400\n",
      "4/4 [==============================] - 0s 45ms/step - loss: 0.0416 - accuracy: 0.9629 - val_loss: 0.0336 - val_accuracy: 0.9700\n",
      "Epoch 268/400\n",
      "4/4 [==============================] - 0s 33ms/step - loss: 0.0415 - accuracy: 0.9629 - val_loss: 0.0355 - val_accuracy: 0.9700\n",
      "Epoch 269/400\n",
      "4/4 [==============================] - 0s 28ms/step - loss: 0.0428 - accuracy: 0.9629 - val_loss: 0.0329 - val_accuracy: 0.9700\n",
      "Epoch 270/400\n",
      "4/4 [==============================] - 0s 23ms/step - loss: 0.0414 - accuracy: 0.9614 - val_loss: 0.0350 - val_accuracy: 0.9700\n",
      "Epoch 271/400\n",
      "4/4 [==============================] - 0s 21ms/step - loss: 0.0431 - accuracy: 0.9614 - val_loss: 0.0337 - val_accuracy: 0.9700\n",
      "Epoch 272/400\n",
      "4/4 [==============================] - 0s 24ms/step - loss: 0.0421 - accuracy: 0.9614 - val_loss: 0.0346 - val_accuracy: 0.9700\n",
      "Epoch 273/400\n",
      "4/4 [==============================] - 0s 28ms/step - loss: 0.0422 - accuracy: 0.9629 - val_loss: 0.0342 - val_accuracy: 0.9700\n",
      "Epoch 274/400\n",
      "4/4 [==============================] - 0s 40ms/step - loss: 0.0417 - accuracy: 0.9629 - val_loss: 0.0343 - val_accuracy: 0.9700\n",
      "Epoch 275/400\n",
      "4/4 [==============================] - 0s 32ms/step - loss: 0.0428 - accuracy: 0.9614 - val_loss: 0.0341 - val_accuracy: 0.9733\n",
      "Epoch 276/400\n",
      "4/4 [==============================] - 0s 68ms/step - loss: 0.0423 - accuracy: 0.9614 - val_loss: 0.0332 - val_accuracy: 0.9700\n",
      "Epoch 277/400\n",
      "4/4 [==============================] - 0s 49ms/step - loss: 0.0415 - accuracy: 0.9629 - val_loss: 0.0363 - val_accuracy: 0.9700\n",
      "Epoch 278/400\n",
      "4/4 [==============================] - 0s 57ms/step - loss: 0.0433 - accuracy: 0.9629 - val_loss: 0.0364 - val_accuracy: 0.9700\n",
      "Epoch 279/400\n",
      "4/4 [==============================] - 0s 47ms/step - loss: 0.0424 - accuracy: 0.9629 - val_loss: 0.0341 - val_accuracy: 0.9700\n",
      "Epoch 280/400\n",
      "4/4 [==============================] - 0s 35ms/step - loss: 0.0412 - accuracy: 0.9629 - val_loss: 0.0331 - val_accuracy: 0.9700\n",
      "Epoch 281/400\n",
      "4/4 [==============================] - 0s 39ms/step - loss: 0.0423 - accuracy: 0.9614 - val_loss: 0.0348 - val_accuracy: 0.9700\n",
      "Epoch 282/400\n",
      "4/4 [==============================] - 0s 37ms/step - loss: 0.0427 - accuracy: 0.9629 - val_loss: 0.0345 - val_accuracy: 0.9700\n",
      "Epoch 283/400\n",
      "4/4 [==============================] - 0s 35ms/step - loss: 0.0417 - accuracy: 0.9629 - val_loss: 0.0338 - val_accuracy: 0.9700\n",
      "Epoch 284/400\n",
      "4/4 [==============================] - 0s 30ms/step - loss: 0.0414 - accuracy: 0.9629 - val_loss: 0.0329 - val_accuracy: 0.9700\n",
      "Epoch 285/400\n",
      "4/4 [==============================] - 0s 21ms/step - loss: 0.0412 - accuracy: 0.9614 - val_loss: 0.0329 - val_accuracy: 0.9733\n",
      "Epoch 286/400\n",
      "4/4 [==============================] - 0s 16ms/step - loss: 0.0415 - accuracy: 0.9614 - val_loss: 0.0332 - val_accuracy: 0.9700\n",
      "Epoch 287/400\n",
      "4/4 [==============================] - 0s 17ms/step - loss: 0.0409 - accuracy: 0.9629 - val_loss: 0.0330 - val_accuracy: 0.9700\n",
      "Epoch 288/400\n",
      "4/4 [==============================] - 0s 19ms/step - loss: 0.0414 - accuracy: 0.9629 - val_loss: 0.0339 - val_accuracy: 0.9700\n",
      "Epoch 289/400\n",
      "4/4 [==============================] - 0s 20ms/step - loss: 0.0427 - accuracy: 0.9629 - val_loss: 0.0337 - val_accuracy: 0.9733\n",
      "Epoch 290/400\n",
      "4/4 [==============================] - 0s 19ms/step - loss: 0.0425 - accuracy: 0.9614 - val_loss: 0.0337 - val_accuracy: 0.9700\n",
      "Epoch 291/400\n",
      "4/4 [==============================] - 0s 17ms/step - loss: 0.0420 - accuracy: 0.9629 - val_loss: 0.0350 - val_accuracy: 0.9700\n",
      "Epoch 292/400\n",
      "4/4 [==============================] - 0s 34ms/step - loss: 0.0422 - accuracy: 0.9629 - val_loss: 0.0334 - val_accuracy: 0.9700\n",
      "Epoch 293/400\n",
      "4/4 [==============================] - 0s 24ms/step - loss: 0.0408 - accuracy: 0.9629 - val_loss: 0.0329 - val_accuracy: 0.9700\n",
      "Epoch 294/400\n",
      "4/4 [==============================] - 0s 23ms/step - loss: 0.0415 - accuracy: 0.9629 - val_loss: 0.0344 - val_accuracy: 0.9700\n",
      "Epoch 295/400\n",
      "4/4 [==============================] - 0s 22ms/step - loss: 0.0409 - accuracy: 0.9629 - val_loss: 0.0347 - val_accuracy: 0.9700\n",
      "Epoch 296/400\n",
      "4/4 [==============================] - 0s 20ms/step - loss: 0.0418 - accuracy: 0.9629 - val_loss: 0.0365 - val_accuracy: 0.9700\n",
      "Epoch 297/400\n",
      "4/4 [==============================] - 0s 19ms/step - loss: 0.0437 - accuracy: 0.9629 - val_loss: 0.0358 - val_accuracy: 0.9700\n",
      "Epoch 298/400\n",
      "4/4 [==============================] - 0s 60ms/step - loss: 0.0419 - accuracy: 0.9629 - val_loss: 0.0318 - val_accuracy: 0.9700\n",
      "Epoch 299/400\n",
      "4/4 [==============================] - 0s 53ms/step - loss: 0.0410 - accuracy: 0.9629 - val_loss: 0.0321 - val_accuracy: 0.9700\n",
      "Epoch 300/400\n",
      "4/4 [==============================] - 0s 22ms/step - loss: 0.0407 - accuracy: 0.9629 - val_loss: 0.0332 - val_accuracy: 0.9700\n",
      "Epoch 301/400\n",
      "4/4 [==============================] - 0s 39ms/step - loss: 0.0404 - accuracy: 0.9629 - val_loss: 0.0336 - val_accuracy: 0.9700\n",
      "Epoch 302/400\n",
      "4/4 [==============================] - 0s 28ms/step - loss: 0.0413 - accuracy: 0.9629 - val_loss: 0.0334 - val_accuracy: 0.9700\n",
      "Epoch 303/400\n",
      "4/4 [==============================] - 0s 26ms/step - loss: 0.0418 - accuracy: 0.9629 - val_loss: 0.0369 - val_accuracy: 0.9700\n",
      "Epoch 304/400\n",
      "4/4 [==============================] - 0s 44ms/step - loss: 0.0441 - accuracy: 0.9629 - val_loss: 0.0398 - val_accuracy: 0.9700\n",
      "Epoch 305/400\n",
      "4/4 [==============================] - 0s 48ms/step - loss: 0.0448 - accuracy: 0.9629 - val_loss: 0.0342 - val_accuracy: 0.9700\n",
      "Epoch 306/400\n",
      "4/4 [==============================] - 0s 54ms/step - loss: 0.0429 - accuracy: 0.9629 - val_loss: 0.0360 - val_accuracy: 0.9700\n",
      "Epoch 307/400\n",
      "4/4 [==============================] - 0s 36ms/step - loss: 0.0438 - accuracy: 0.9629 - val_loss: 0.0350 - val_accuracy: 0.9700\n",
      "Epoch 308/400\n",
      "4/4 [==============================] - 0s 29ms/step - loss: 0.0418 - accuracy: 0.9629 - val_loss: 0.0349 - val_accuracy: 0.9700\n",
      "Epoch 309/400\n",
      "4/4 [==============================] - 0s 37ms/step - loss: 0.0418 - accuracy: 0.9629 - val_loss: 0.0346 - val_accuracy: 0.9700\n",
      "Epoch 310/400\n",
      "4/4 [==============================] - 0s 32ms/step - loss: 0.0417 - accuracy: 0.9629 - val_loss: 0.0356 - val_accuracy: 0.9700\n",
      "Epoch 311/400\n",
      "4/4 [==============================] - 0s 45ms/step - loss: 0.0426 - accuracy: 0.9629 - val_loss: 0.0373 - val_accuracy: 0.9700\n",
      "Epoch 312/400\n",
      "4/4 [==============================] - 0s 39ms/step - loss: 0.0445 - accuracy: 0.9629 - val_loss: 0.0367 - val_accuracy: 0.9700\n",
      "Epoch 313/400\n",
      "4/4 [==============================] - 0s 34ms/step - loss: 0.0444 - accuracy: 0.9629 - val_loss: 0.0386 - val_accuracy: 0.9700\n",
      "Epoch 314/400\n",
      "4/4 [==============================] - 0s 41ms/step - loss: 0.0447 - accuracy: 0.9629 - val_loss: 0.0349 - val_accuracy: 0.9700\n",
      "Epoch 315/400\n",
      "4/4 [==============================] - 0s 46ms/step - loss: 0.0452 - accuracy: 0.9629 - val_loss: 0.0361 - val_accuracy: 0.9700\n",
      "Epoch 316/400\n",
      "4/4 [==============================] - 0s 35ms/step - loss: 0.0443 - accuracy: 0.9629 - val_loss: 0.0363 - val_accuracy: 0.9700\n",
      "Epoch 317/400\n",
      "4/4 [==============================] - 0s 24ms/step - loss: 0.0441 - accuracy: 0.9629 - val_loss: 0.0359 - val_accuracy: 0.9700\n",
      "Epoch 318/400\n",
      "4/4 [==============================] - 0s 22ms/step - loss: 0.0425 - accuracy: 0.9629 - val_loss: 0.0357 - val_accuracy: 0.9700\n",
      "Epoch 319/400\n",
      "4/4 [==============================] - 0s 27ms/step - loss: 0.0431 - accuracy: 0.9629 - val_loss: 0.0348 - val_accuracy: 0.9700\n",
      "Epoch 320/400\n",
      "4/4 [==============================] - 0s 25ms/step - loss: 0.0425 - accuracy: 0.9629 - val_loss: 0.0343 - val_accuracy: 0.9700\n",
      "Epoch 321/400\n",
      "4/4 [==============================] - 0s 33ms/step - loss: 0.0423 - accuracy: 0.9614 - val_loss: 0.0318 - val_accuracy: 0.9733\n",
      "Epoch 322/400\n",
      "4/4 [==============================] - 0s 47ms/step - loss: 0.0420 - accuracy: 0.9629 - val_loss: 0.0342 - val_accuracy: 0.9700\n",
      "Epoch 323/400\n",
      "4/4 [==============================] - 0s 43ms/step - loss: 0.0413 - accuracy: 0.9629 - val_loss: 0.0336 - val_accuracy: 0.9700\n",
      "Epoch 324/400\n",
      "4/4 [==============================] - 0s 21ms/step - loss: 0.0410 - accuracy: 0.9629 - val_loss: 0.0338 - val_accuracy: 0.9700\n",
      "Epoch 325/400\n",
      "4/4 [==============================] - 0s 24ms/step - loss: 0.0414 - accuracy: 0.9629 - val_loss: 0.0351 - val_accuracy: 0.9700\n",
      "Epoch 326/400\n",
      "4/4 [==============================] - 0s 20ms/step - loss: 0.0422 - accuracy: 0.9629 - val_loss: 0.0351 - val_accuracy: 0.9700\n",
      "Epoch 327/400\n",
      "4/4 [==============================] - 0s 18ms/step - loss: 0.0423 - accuracy: 0.9629 - val_loss: 0.0366 - val_accuracy: 0.9700\n",
      "Epoch 328/400\n",
      "4/4 [==============================] - 0s 25ms/step - loss: 0.0431 - accuracy: 0.9629 - val_loss: 0.0354 - val_accuracy: 0.9700\n",
      "Epoch 329/400\n",
      "4/4 [==============================] - 0s 21ms/step - loss: 0.0421 - accuracy: 0.9629 - val_loss: 0.0324 - val_accuracy: 0.9700\n",
      "Epoch 330/400\n",
      "4/4 [==============================] - 0s 25ms/step - loss: 0.0409 - accuracy: 0.9629 - val_loss: 0.0349 - val_accuracy: 0.9700\n",
      "Epoch 331/400\n",
      "4/4 [==============================] - 0s 30ms/step - loss: 0.0422 - accuracy: 0.9629 - val_loss: 0.0360 - val_accuracy: 0.9700\n",
      "Epoch 332/400\n",
      "4/4 [==============================] - 0s 38ms/step - loss: 0.0435 - accuracy: 0.9629 - val_loss: 0.0350 - val_accuracy: 0.9700\n",
      "Epoch 333/400\n",
      "4/4 [==============================] - 0s 23ms/step - loss: 0.0430 - accuracy: 0.9629 - val_loss: 0.0377 - val_accuracy: 0.9700\n",
      "Epoch 334/400\n",
      "4/4 [==============================] - 0s 23ms/step - loss: 0.0447 - accuracy: 0.9629 - val_loss: 0.0377 - val_accuracy: 0.9700\n",
      "Epoch 335/400\n",
      "4/4 [==============================] - 0s 22ms/step - loss: 0.0435 - accuracy: 0.9629 - val_loss: 0.0342 - val_accuracy: 0.9700\n",
      "Epoch 336/400\n",
      "4/4 [==============================] - 0s 23ms/step - loss: 0.0441 - accuracy: 0.9629 - val_loss: 0.0369 - val_accuracy: 0.9700\n",
      "Epoch 337/400\n",
      "4/4 [==============================] - 0s 25ms/step - loss: 0.0454 - accuracy: 0.9629 - val_loss: 0.0358 - val_accuracy: 0.9700\n",
      "Epoch 338/400\n",
      "4/4 [==============================] - 0s 29ms/step - loss: 0.0420 - accuracy: 0.9629 - val_loss: 0.0341 - val_accuracy: 0.9700\n",
      "Epoch 339/400\n",
      "4/4 [==============================] - 0s 30ms/step - loss: 0.0411 - accuracy: 0.9629 - val_loss: 0.0336 - val_accuracy: 0.9700\n",
      "Epoch 340/400\n",
      "4/4 [==============================] - 0s 19ms/step - loss: 0.0407 - accuracy: 0.9629 - val_loss: 0.0328 - val_accuracy: 0.9700\n",
      "Epoch 341/400\n",
      "4/4 [==============================] - 0s 20ms/step - loss: 0.0408 - accuracy: 0.9629 - val_loss: 0.0335 - val_accuracy: 0.9700\n",
      "Epoch 342/400\n",
      "4/4 [==============================] - 0s 19ms/step - loss: 0.0414 - accuracy: 0.9629 - val_loss: 0.0354 - val_accuracy: 0.9700\n",
      "Epoch 343/400\n",
      "4/4 [==============================] - 0s 17ms/step - loss: 0.0430 - accuracy: 0.9629 - val_loss: 0.0330 - val_accuracy: 0.9700\n",
      "Epoch 344/400\n",
      "4/4 [==============================] - 0s 22ms/step - loss: 0.0429 - accuracy: 0.9629 - val_loss: 0.0371 - val_accuracy: 0.9700\n",
      "Epoch 345/400\n",
      "4/4 [==============================] - 0s 13ms/step - loss: 0.0424 - accuracy: 0.9629 - val_loss: 0.0356 - val_accuracy: 0.9700\n",
      "Epoch 346/400\n",
      "4/4 [==============================] - 0s 29ms/step - loss: 0.0414 - accuracy: 0.9629 - val_loss: 0.0351 - val_accuracy: 0.9700\n",
      "Epoch 347/400\n",
      "4/4 [==============================] - 0s 23ms/step - loss: 0.0417 - accuracy: 0.9629 - val_loss: 0.0330 - val_accuracy: 0.9700\n",
      "Epoch 348/400\n",
      "4/4 [==============================] - 0s 25ms/step - loss: 0.0404 - accuracy: 0.9629 - val_loss: 0.0362 - val_accuracy: 0.9700\n",
      "Epoch 349/400\n",
      "4/4 [==============================] - 0s 23ms/step - loss: 0.0429 - accuracy: 0.9629 - val_loss: 0.0330 - val_accuracy: 0.9700\n",
      "Epoch 350/400\n",
      "4/4 [==============================] - 0s 28ms/step - loss: 0.0438 - accuracy: 0.9629 - val_loss: 0.0330 - val_accuracy: 0.9700\n",
      "Epoch 351/400\n",
      "4/4 [==============================] - 0s 22ms/step - loss: 0.0423 - accuracy: 0.9629 - val_loss: 0.0385 - val_accuracy: 0.9700\n",
      "Epoch 352/400\n",
      "4/4 [==============================] - 0s 26ms/step - loss: 0.0445 - accuracy: 0.9629 - val_loss: 0.0347 - val_accuracy: 0.9700\n",
      "Epoch 353/400\n",
      "4/4 [==============================] - 0s 34ms/step - loss: 0.0431 - accuracy: 0.9629 - val_loss: 0.0360 - val_accuracy: 0.9700\n",
      "Epoch 354/400\n",
      "4/4 [==============================] - 0s 24ms/step - loss: 0.0436 - accuracy: 0.9629 - val_loss: 0.0419 - val_accuracy: 0.9700\n",
      "Epoch 355/400\n",
      "4/4 [==============================] - 0s 27ms/step - loss: 0.0457 - accuracy: 0.9629 - val_loss: 0.0434 - val_accuracy: 0.9700\n",
      "Epoch 356/400\n",
      "4/4 [==============================] - 0s 17ms/step - loss: 0.0473 - accuracy: 0.9629 - val_loss: 0.0399 - val_accuracy: 0.9700\n",
      "Epoch 357/400\n",
      "4/4 [==============================] - 0s 17ms/step - loss: 0.0447 - accuracy: 0.9629 - val_loss: 0.0335 - val_accuracy: 0.9700\n",
      "Epoch 358/400\n",
      "4/4 [==============================] - 0s 23ms/step - loss: 0.0428 - accuracy: 0.9629 - val_loss: 0.0363 - val_accuracy: 0.9700\n",
      "Epoch 359/400\n",
      "4/4 [==============================] - 0s 19ms/step - loss: 0.0435 - accuracy: 0.9629 - val_loss: 0.0370 - val_accuracy: 0.9700\n",
      "Epoch 360/400\n",
      "4/4 [==============================] - 0s 25ms/step - loss: 0.0427 - accuracy: 0.9629 - val_loss: 0.0349 - val_accuracy: 0.9700\n",
      "Epoch 361/400\n",
      "4/4 [==============================] - 0s 32ms/step - loss: 0.0427 - accuracy: 0.9629 - val_loss: 0.0349 - val_accuracy: 0.9733\n",
      "Epoch 362/400\n",
      "4/4 [==============================] - 0s 16ms/step - loss: 0.0431 - accuracy: 0.9614 - val_loss: 0.0328 - val_accuracy: 0.9733\n",
      "Epoch 363/400\n",
      "4/4 [==============================] - 0s 19ms/step - loss: 0.0425 - accuracy: 0.9614 - val_loss: 0.0355 - val_accuracy: 0.9700\n",
      "Epoch 364/400\n",
      "4/4 [==============================] - 0s 20ms/step - loss: 0.0428 - accuracy: 0.9629 - val_loss: 0.0337 - val_accuracy: 0.9700\n",
      "Epoch 365/400\n",
      "4/4 [==============================] - 0s 27ms/step - loss: 0.0410 - accuracy: 0.9629 - val_loss: 0.0334 - val_accuracy: 0.9700\n",
      "Epoch 366/400\n",
      "4/4 [==============================] - 0s 22ms/step - loss: 0.0407 - accuracy: 0.9629 - val_loss: 0.0326 - val_accuracy: 0.9700\n",
      "Epoch 367/400\n",
      "4/4 [==============================] - 0s 22ms/step - loss: 0.0419 - accuracy: 0.9629 - val_loss: 0.0359 - val_accuracy: 0.9700\n",
      "Epoch 368/400\n",
      "4/4 [==============================] - 0s 24ms/step - loss: 0.0426 - accuracy: 0.9629 - val_loss: 0.0342 - val_accuracy: 0.9700\n",
      "Epoch 369/400\n",
      "4/4 [==============================] - 0s 23ms/step - loss: 0.0415 - accuracy: 0.9629 - val_loss: 0.0351 - val_accuracy: 0.9700\n",
      "Epoch 370/400\n",
      "4/4 [==============================] - 0s 24ms/step - loss: 0.0417 - accuracy: 0.9629 - val_loss: 0.0344 - val_accuracy: 0.9700\n",
      "Epoch 371/400\n",
      "4/4 [==============================] - 0s 19ms/step - loss: 0.0416 - accuracy: 0.9629 - val_loss: 0.0328 - val_accuracy: 0.9700\n",
      "Epoch 372/400\n",
      "4/4 [==============================] - 0s 29ms/step - loss: 0.0413 - accuracy: 0.9629 - val_loss: 0.0340 - val_accuracy: 0.9700\n",
      "Epoch 373/400\n",
      "4/4 [==============================] - 0s 18ms/step - loss: 0.0406 - accuracy: 0.9629 - val_loss: 0.0332 - val_accuracy: 0.9700\n",
      "Epoch 374/400\n",
      "4/4 [==============================] - 0s 27ms/step - loss: 0.0410 - accuracy: 0.9629 - val_loss: 0.0344 - val_accuracy: 0.9700\n",
      "Epoch 375/400\n",
      "4/4 [==============================] - 0s 43ms/step - loss: 0.0417 - accuracy: 0.9629 - val_loss: 0.0330 - val_accuracy: 0.9700\n",
      "Epoch 376/400\n",
      "4/4 [==============================] - 0s 19ms/step - loss: 0.0404 - accuracy: 0.9629 - val_loss: 0.0338 - val_accuracy: 0.9700\n",
      "Epoch 377/400\n",
      "4/4 [==============================] - 0s 28ms/step - loss: 0.0406 - accuracy: 0.9629 - val_loss: 0.0329 - val_accuracy: 0.9700\n",
      "Epoch 378/400\n",
      "4/4 [==============================] - 0s 24ms/step - loss: 0.0405 - accuracy: 0.9629 - val_loss: 0.0337 - val_accuracy: 0.9700\n",
      "Epoch 379/400\n",
      "4/4 [==============================] - 0s 33ms/step - loss: 0.0405 - accuracy: 0.9629 - val_loss: 0.0342 - val_accuracy: 0.9700\n",
      "Epoch 380/400\n",
      "4/4 [==============================] - 0s 31ms/step - loss: 0.0411 - accuracy: 0.9629 - val_loss: 0.0366 - val_accuracy: 0.9700\n",
      "Epoch 381/400\n",
      "4/4 [==============================] - 0s 28ms/step - loss: 0.0422 - accuracy: 0.9629 - val_loss: 0.0330 - val_accuracy: 0.9733\n",
      "Epoch 382/400\n",
      "4/4 [==============================] - 0s 20ms/step - loss: 0.0419 - accuracy: 0.9629 - val_loss: 0.0332 - val_accuracy: 0.9733\n",
      "Epoch 383/400\n",
      "4/4 [==============================] - 0s 19ms/step - loss: 0.0417 - accuracy: 0.9629 - val_loss: 0.0360 - val_accuracy: 0.9700\n",
      "Epoch 384/400\n",
      "4/4 [==============================] - 0s 22ms/step - loss: 0.0422 - accuracy: 0.9629 - val_loss: 0.0341 - val_accuracy: 0.9700\n",
      "Epoch 385/400\n",
      "4/4 [==============================] - 0s 29ms/step - loss: 0.0408 - accuracy: 0.9629 - val_loss: 0.0331 - val_accuracy: 0.9700\n",
      "Epoch 386/400\n",
      "4/4 [==============================] - 0s 25ms/step - loss: 0.0404 - accuracy: 0.9629 - val_loss: 0.0346 - val_accuracy: 0.9700\n",
      "Epoch 387/400\n",
      "4/4 [==============================] - 0s 28ms/step - loss: 0.0421 - accuracy: 0.9629 - val_loss: 0.0331 - val_accuracy: 0.9700\n",
      "Epoch 388/400\n",
      "4/4 [==============================] - 0s 17ms/step - loss: 0.0409 - accuracy: 0.9629 - val_loss: 0.0334 - val_accuracy: 0.9700\n",
      "Epoch 389/400\n",
      "4/4 [==============================] - 0s 18ms/step - loss: 0.0400 - accuracy: 0.9629 - val_loss: 0.0330 - val_accuracy: 0.9700\n",
      "Epoch 390/400\n",
      "4/4 [==============================] - 0s 18ms/step - loss: 0.0413 - accuracy: 0.9629 - val_loss: 0.0346 - val_accuracy: 0.9700\n",
      "Epoch 391/400\n",
      "4/4 [==============================] - 0s 23ms/step - loss: 0.0427 - accuracy: 0.9629 - val_loss: 0.0372 - val_accuracy: 0.9700\n",
      "Epoch 392/400\n",
      "4/4 [==============================] - 0s 26ms/step - loss: 0.0442 - accuracy: 0.9629 - val_loss: 0.0389 - val_accuracy: 0.9700\n",
      "Epoch 393/400\n",
      "4/4 [==============================] - 0s 17ms/step - loss: 0.0438 - accuracy: 0.9629 - val_loss: 0.0329 - val_accuracy: 0.9700\n",
      "Epoch 394/400\n",
      "4/4 [==============================] - 0s 16ms/step - loss: 0.0441 - accuracy: 0.9629 - val_loss: 0.0356 - val_accuracy: 0.9700\n",
      "Epoch 395/400\n",
      "4/4 [==============================] - 0s 26ms/step - loss: 0.0432 - accuracy: 0.9629 - val_loss: 0.0378 - val_accuracy: 0.9700\n",
      "Epoch 396/400\n",
      "4/4 [==============================] - 0s 22ms/step - loss: 0.0439 - accuracy: 0.9614 - val_loss: 0.0358 - val_accuracy: 0.9700\n",
      "Epoch 397/400\n",
      "4/4 [==============================] - 0s 21ms/step - loss: 0.0434 - accuracy: 0.9629 - val_loss: 0.0336 - val_accuracy: 0.9733\n",
      "Epoch 398/400\n",
      "4/4 [==============================] - 0s 17ms/step - loss: 0.0417 - accuracy: 0.9629 - val_loss: 0.0314 - val_accuracy: 0.9700\n",
      "Epoch 399/400\n",
      "4/4 [==============================] - 0s 19ms/step - loss: 0.0410 - accuracy: 0.9614 - val_loss: 0.0316 - val_accuracy: 0.9733\n",
      "Epoch 400/400\n",
      "4/4 [==============================] - 0s 27ms/step - loss: 0.0409 - accuracy: 0.9614 - val_loss: 0.0316 - val_accuracy: 0.9733\n"
     ]
    }
   ],
   "source": [
    "EPOCH=400\n",
    "Network_Regressor=NN_model_Regressor.fit(X_Train_S, Y_Train, validation_data=(X_Test_S,Y_Test), epochs=EPOCH, batch_size=200)"
   ]
  },
  {
   "cell_type": "markdown",
   "metadata": {
    "id": "d3sB806oVnyX"
   },
   "source": [
    "E. Plot visuals as in Q3.C and share insights about difference observed in both the models. ["
   ]
  },
  {
   "cell_type": "code",
   "execution_count": null,
   "metadata": {
    "id": "v32SFenUVnyX",
    "outputId": "d0c22cca-5e68-4783-9774-cbb41ea80b28"
   },
   "outputs": [
    {
     "data": {
      "image/png": "[encoded data removed]",
      "text/plain": [
       "<Figure size 432x288 with 1 Axes>"
      ]
     },
     "metadata": {
      "needs_background": "light"
     },
     "output_type": "display_data"
    }
   ],
   "source": [
    "loss_train = Network_Regressor.history['loss']\n",
    "loss_val = Network_Regressor.history['val_loss']\n",
    "epochs = range(1, EPOCH+1)\n",
    "plt.plot(epochs, loss_train, 'g', label='Training loss')\n",
    "plt.plot(epochs, loss_val, 'b', label='validation loss')\n",
    "plt.title('Training and Validation loss')\n",
    "plt.xlabel('Epochs')\n",
    "plt.ylabel('Loss')\n",
    "plt.legend()\n",
    "plt.show()\n"
   ]
  },
  {
   "cell_type": "code",
   "execution_count": null,
   "metadata": {
    "id": "XE1n_NyKVnyX",
    "outputId": "e849779c-86a7-4932-a732-d9bdff9a82e7"
   },
   "outputs": [
    {
     "data": {
      "image/png": "[encoded data removed]",
      "text/plain": [
       "<Figure size 432x288 with 1 Axes>"
      ]
     },
     "metadata": {
      "needs_background": "light"
     },
     "output_type": "display_data"
    }
   ],
   "source": [
    "Acc_train = Network_Regressor.history['accuracy']\n",
    "Acc_val = Network_Regressor.history['val_accuracy']\n",
    "epochs = range(1, EPOCH+1)\n",
    "plt.plot(epochs, Acc_train, 'g', label='Training accuracy')\n",
    "plt.plot(epochs, Acc_val, 'b', label='validation accuracy')\n",
    "plt.title('Training and Validation accuracy')\n",
    "plt.xlabel('Epochs')\n",
    "plt.ylabel('accuracy')\n",
    "plt.legend()\n",
    "plt.show()\n"
   ]
  },
  {
   "cell_type": "code",
   "execution_count": null,
   "metadata": {
    "id": "BD1M9cutVnyY",
    "outputId": "e762b101-cee4-4a15-95e7-8bed8c422470"
   },
   "outputs": [
    {
     "data": {
      "text/plain": [
       "'\\nWe can see a slight shift towards downward for training loss and validation loss in the above model but however we see a huge significant changnes with resepect to the Training accuracy and validation accuracy\\n'"
      ]
     },
     "execution_count": 86,
     "metadata": {},
     "output_type": "execute_result"
    }
   ],
   "source": [
    "\"\"\"\n",
    "We can see a slight shift towards downward for training loss and validation loss in the above model but however we see a huge significant changnes with resepect to the Training accuracy and validation accuracy\n",
    "\"\"\""
   ]
  },
  {
   "cell_type": "markdown",
   "metadata": {
    "id": "zD0x9bRcVnyY"
   },
   "source": [
    "### PART B - Autonomous Vehicles"
   ]
  },
  {
   "cell_type": "code",
   "execution_count": null,
   "metadata": {
    "id": "knezQvjIVnyY"
   },
   "outputs": [],
   "source": [
    "# suppress display of warnings\n",
    "import warnings\n",
    "warnings.filterwarnings('ignore')\n",
    "\n",
    "# display all dataframe columns\n",
    "pd.options.display.max_columns = None\n",
    "\n",
    "# to set the limit to 3 decimals\n",
    "pd.options.display.float_format = '{:.7f}'.format\n",
    "\n",
    "# display all dataframe rows\n",
    "pd.options.display.max_rows = None\n"
   ]
  },
  {
   "cell_type": "markdown",
   "metadata": {
    "id": "DZpHKYNvVnyY"
   },
   "source": [
    "### 1. Data Import and Exploration "
   ]
  },
  {
   "cell_type": "markdown",
   "metadata": {
    "id": "U34N0BDcVnyY"
   },
   "source": [
    "A. Read the .h5 file and assign to a variable"
   ]
  },
  {
   "cell_type": "code",
   "execution_count": null,
   "metadata": {
    "id": "xhHdrmeZVnyY"
   },
   "outputs": [],
   "source": [
    "import h5py\n",
    "\n",
    "# Open the file as readonly\n",
    "h5f = h5py.File(\n",
    "    'Autonomous_Vehicles_SVHN_single_grey1.h5', 'r')\n"
   ]
  },
  {
   "cell_type": "markdown",
   "metadata": {
    "id": "ZkjNUp80VnyY"
   },
   "source": [
    "B. Print all the keys from the .h5 file."
   ]
  },
  {
   "cell_type": "code",
   "execution_count": null,
   "metadata": {
    "id": "U3v6CoEpVnyY",
    "outputId": "c85f8e63-4306-4cc6-990e-f3ef1f40fde6"
   },
   "outputs": [
    {
     "data": {
      "text/plain": [
       "<KeysViewHDF5 ['X_test', 'X_train', 'X_val', 'y_test', 'y_train', 'y_val']>"
      ]
     },
     "execution_count": 91,
     "metadata": {},
     "output_type": "execute_result"
    }
   ],
   "source": [
    "h5f.keys()\n"
   ]
  },
  {
   "cell_type": "markdown",
   "metadata": {
    "id": "30qwRJf5VnyY"
   },
   "source": [
    "C. Split the data into X_train, X_test, Y_train, Y_test"
   ]
  },
  {
   "cell_type": "code",
   "execution_count": null,
   "metadata": {
    "id": "ZOIDj7WiVnyZ"
   },
   "outputs": [],
   "source": [
    "# Load the training, test and validation set\n",
    "X_train = h5f['X_train'][:]\n",
    "y_train = h5f['y_train'][:]\n",
    "X_test = h5f['X_test'][:]\n",
    "y_test = h5f['y_test'][:]\n"
   ]
  },
  {
   "cell_type": "markdown",
   "metadata": {
    "id": "Z49NqnwbVnyZ"
   },
   "source": [
    "### 2. Data Visualisation and preprocessing"
   ]
  },
  {
   "cell_type": "markdown",
   "metadata": {
    "id": "7ZL57wpnVnyZ"
   },
   "source": [
    "A. Print shape of all the 4 data split into x, y, train, test to verify if x & y is in sync."
   ]
  },
  {
   "cell_type": "code",
   "execution_count": null,
   "metadata": {
    "id": "YTWtKtt0VnyZ",
    "outputId": "2572ccbc-b151-4d4a-dbc6-8f76e3029e70"
   },
   "outputs": [
    {
     "data": {
      "text/plain": [
       "array([[[ 33.0704,  30.2601,  26.852 , ...,  71.4471,  58.2204,\n",
       "          42.9939],\n",
       "        [ 25.2283,  25.5533,  29.9765, ..., 113.0209, 103.3639,\n",
       "          84.2949],\n",
       "        [ 26.2775,  22.6137,  40.4763, ..., 113.3028, 121.775 ,\n",
       "         115.4228],\n",
       "        ...,\n",
       "        [ 28.5502,  36.212 ,  45.0801, ...,  24.1359,  25.0927,\n",
       "          26.0603],\n",
       "        [ 38.4352,  26.4733,  23.2717, ...,  28.1094,  29.4683,\n",
       "          30.0661],\n",
       "        [ 50.2984,  26.0773,  24.0389, ...,  49.6682,  50.853 ,\n",
       "          53.0377]]], dtype=float32)"
      ]
     },
     "execution_count": 93,
     "metadata": {},
     "output_type": "execute_result"
    }
   ],
   "source": [
    "X_train[:1]\n"
   ]
  },
  {
   "cell_type": "code",
   "execution_count": null,
   "metadata": {
    "id": "QKWIt1nsVnyZ",
    "outputId": "a2348aa9-5420-497c-9bdc-bdb262e1e632"
   },
   "outputs": [
    {
     "data": {
      "text/plain": [
       "array([2], dtype=uint8)"
      ]
     },
     "execution_count": 94,
     "metadata": {},
     "output_type": "execute_result"
    }
   ],
   "source": [
    "y_train[:1]\n"
   ]
  },
  {
   "cell_type": "code",
   "execution_count": null,
   "metadata": {
    "id": "kBws4o8BVnyZ",
    "outputId": "832f5c67-817c-4b83-8628-73706a780eeb"
   },
   "outputs": [
    {
     "data": {
      "text/plain": [
       "array([[[ 40.558 ,  46.7917,  48.9764, ..., 112.1153, 112.9904,\n",
       "         112.1646],\n",
       "        [ 39.4379,  44.2911,  47.1768, ..., 111.0122, 110.9475,\n",
       "         109.9368],\n",
       "        [ 38.4488,  43.6394,  48.7098, ..., 109.8921, 109.9414,\n",
       "         109.1048],\n",
       "        ...,\n",
       "        [ 34.9869,  35.4707,  39.6676, ..., 109.211 , 109.9074,\n",
       "         112.7346],\n",
       "        [ 35.6602,  35.5462,  40.3193, ..., 110.9998, 112.049 ,\n",
       "         114.3431],\n",
       "        [ 36.1871,  35.4214,  40.6998, ..., 110.0169, 111.2017,\n",
       "         114.1906]]], dtype=float32)"
      ]
     },
     "execution_count": 95,
     "metadata": {},
     "output_type": "execute_result"
    }
   ],
   "source": [
    "X_test[:1]\n"
   ]
  },
  {
   "cell_type": "code",
   "execution_count": null,
   "metadata": {
    "id": "bmhdRmMKVnyZ",
    "outputId": "e546e009-d89a-4bcf-e560-b9493d6263ab"
   },
   "outputs": [
    {
     "data": {
      "text/plain": [
       "array([1], dtype=uint8)"
      ]
     },
     "execution_count": 96,
     "metadata": {},
     "output_type": "execute_result"
    }
   ],
   "source": [
    "y_test[:1]\n"
   ]
  },
  {
   "cell_type": "markdown",
   "metadata": {
    "id": "fxG5UpYiVnyZ"
   },
   "source": [
    "B. Visualise first 10 images in train data and print its corresponding labels."
   ]
  },
  {
   "cell_type": "code",
   "execution_count": null,
   "metadata": {
    "id": "Y9w6sizoVnyZ",
    "outputId": "0e075139-ca9d-4455-eb8f-1b5d8207543d"
   },
   "outputs": [
    {
     "data": {
      "image/png": "[encoded data removed]",
      "text/plain": [
       "<Figure size 720x72 with 10 Axes>"
      ]
     },
     "metadata": {
      "needs_background": "light"
     },
     "output_type": "display_data"
    },
    {
     "name": "stdout",
     "output_type": "stream",
     "text": [
      "label for each of the above image: [2 6 7 4 4 0 3 0 7 3]\n"
     ]
    }
   ],
   "source": [
    "import matplotlib.pyplot as plt\n",
    "%matplotlib inline\n",
    "plt.figure(figsize=(10, 1))\n",
    "for i in range(10):\n",
    "    plt.subplot(1, 10, i+1)\n",
    "    plt.imshow(X_train[i], cmap=\"gray\")\n",
    "    plt.axis('off')\n",
    "plt.show()\n",
    "print('label for each of the above image: %s' % (y_train[0:10]))\n"
   ]
  },
  {
   "cell_type": "markdown",
   "metadata": {
    "id": "sZx2oStGVnyZ"
   },
   "source": [
    "C. Reshape all the images with appropriate shape update the data in same variable."
   ]
  },
  {
   "cell_type": "code",
   "execution_count": null,
   "metadata": {
    "id": "USjGB5qnVnyZ",
    "outputId": "28b9feaf-97ae-469e-d8be-a1fb04d2be1a"
   },
   "outputs": [
    {
     "data": {
      "text/plain": [
       "(42000, 32, 32)"
      ]
     },
     "execution_count": 98,
     "metadata": {},
     "output_type": "execute_result"
    }
   ],
   "source": [
    "X_train.shape\n"
   ]
  },
  {
   "cell_type": "code",
   "execution_count": null,
   "metadata": {
    "id": "m6IQPWsDVnya",
    "outputId": "f0e30b23-e4c3-4dae-b46c-79cbaf145c35"
   },
   "outputs": [
    {
     "data": {
      "text/plain": [
       "(42000,)"
      ]
     },
     "execution_count": 99,
     "metadata": {},
     "output_type": "execute_result"
    }
   ],
   "source": [
    "y_train.shape\n"
   ]
  },
  {
   "cell_type": "code",
   "execution_count": null,
   "metadata": {
    "id": "OmXddyZRVnya"
   },
   "outputs": [],
   "source": [
    "## Reshaping all the variables\n",
    "X_train = X_train.reshape(X_train.shape[0], 1024, 1)\n",
    "X_test = X_test.reshape(X_test.shape[0], 1024, 1)\n"
   ]
  },
  {
   "cell_type": "markdown",
   "metadata": {
    "id": "wd0cE_acVnya"
   },
   "source": [
    "D. Normalise the images i.e. Normalise the pixel values"
   ]
  },
  {
   "cell_type": "code",
   "execution_count": null,
   "metadata": {
    "id": "K0lDliyQVnya",
    "outputId": "0d294834-fcc1-43a0-8194-12fc28dc7009"
   },
   "outputs": [
    {
     "name": "stdout",
     "output_type": "stream",
     "text": [
      "Resized Training set (42000, 1024, 1) (42000,)\n",
      "Resized Test set (18000, 1024, 1) (18000,)\n"
     ]
    }
   ],
   "source": [
    "# We will normalize the data. We divide by 255 as this is a grayscale image and can take values from 0-255\n",
    "# # normalize inputs from 0-255 to 0-1\n",
    "X_train = X_train / 255.0\n",
    "X_test = X_test / 255.0\n",
    "\n",
    "print('Resized Training set', X_train.shape, y_train.shape)\n",
    "print('Resized Test set', X_test.shape, y_test.shape)\n"
   ]
  },
  {
   "cell_type": "markdown",
   "metadata": {
    "id": "XagktTFZVnya"
   },
   "source": [
    "E. Transform Labels into format acceptable by Neural Network"
   ]
  },
  {
   "cell_type": "code",
   "execution_count": null,
   "metadata": {
    "id": "75E1tdfYVnya"
   },
   "outputs": [],
   "source": [
    "from tensorflow.keras.utils import to_categorical\n",
    "# one hot encode outputs\n",
    "y_train = to_categorical(y_train)\n",
    "y_test = to_categorical(y_test)\n"
   ]
  },
  {
   "cell_type": "markdown",
   "metadata": {
    "id": "ZyvP-hHgVnya"
   },
   "source": [
    "F. Print total Number of classes in the Dataset"
   ]
  },
  {
   "cell_type": "code",
   "execution_count": null,
   "metadata": {
    "id": "1YsPHJb3Vnya",
    "outputId": "167d271f-d258-4e16-a4b8-fa894f161e9d"
   },
   "outputs": [
    {
     "name": "stdout",
     "output_type": "stream",
     "text": [
      "The number of classes in this dataset are: 10\n"
     ]
    }
   ],
   "source": [
    "# no.of classes\n",
    "num_classes = y_test.shape[1] \n",
    "print(\"The number of classes in this dataset are:\",num_classes)"
   ]
  },
  {
   "cell_type": "markdown",
   "metadata": {
    "id": "OP8Bgk-QVnya"
   },
   "source": [
    "### 3. Model Training & Evaluation using Neural Network"
   ]
  },
  {
   "cell_type": "markdown",
   "metadata": {
    "id": "Dwsj3w92Vnya"
   },
   "source": [
    "A. Design a Neural Network to train a classifier. "
   ]
  },
  {
   "cell_type": "code",
   "execution_count": null,
   "metadata": {
    "id": "tgxKR-BoVnyb"
   },
   "outputs": [],
   "source": [
    "from tensorflow.keras import optimizers\n",
    "from tensorflow.keras.models import Sequential\n",
    "from tensorflow.keras.layers import Dense, Flatten\n",
    "\n",
    "\n",
    "def nn_model():\n",
    "    # create model\n",
    "    model = Sequential()\n",
    "    model.add(Flatten())\n",
    "    # Multiple Dense units with Relu activation\n",
    "    model.add(Dense(256, activation='relu'))\n",
    "    model.add(Dense(64, activation='relu'))\n",
    "    model.add(Dense(64, activation='relu'))\n",
    "    model.add(Dense(32, activation='relu'))\n",
    "    model.add(Dense(num_classes, activation='softmax'))\n",
    "    return model\n"
   ]
  },
  {
   "cell_type": "code",
   "execution_count": null,
   "metadata": {
    "id": "MPfcJbeHVnyb"
   },
   "outputs": [],
   "source": [
    "# build the model\n",
    "model = nn_model()\n"
   ]
  },
  {
   "cell_type": "code",
   "execution_count": null,
   "metadata": {
    "id": "Qm0GAs97Vnyb"
   },
   "outputs": [],
   "source": [
    "# Compile model\n",
    "sgd = optimizers.Adam(lr=1e-3)\n",
    "\n",
    "### Loss function = Categorical cross entropy\n",
    "model.compile(loss='categorical_crossentropy',\n",
    "              optimizer=sgd, metrics=['accuracy'])\n"
   ]
  },
  {
   "cell_type": "markdown",
   "metadata": {
    "id": "YMcMPvRkVnyb"
   },
   "source": [
    "B. Train the classifier using previously designed Architecture (Use best suitable parameters)"
   ]
  },
  {
   "cell_type": "code",
   "execution_count": null,
   "metadata": {
    "id": "eiE1XR-QVnyb",
    "outputId": "ff864abd-079a-4f76-d378-98bc53b974f9"
   },
   "outputs": [
    {
     "name": "stdout",
     "output_type": "stream",
     "text": [
      "Epoch 1/100\n",
      "140/140 - 3s - loss: 2.3027 - accuracy: 0.1006 - val_loss: 2.3028 - val_accuracy: 0.0955 - 3s/epoch - 23ms/step\n",
      "Epoch 2/100\n",
      "140/140 - 2s - loss: 2.3027 - accuracy: 0.1019 - val_loss: 2.3028 - val_accuracy: 0.0955 - 2s/epoch - 11ms/step\n",
      "Epoch 3/100\n",
      "140/140 - 2s - loss: 2.3026 - accuracy: 0.1011 - val_loss: 2.3028 - val_accuracy: 0.0955 - 2s/epoch - 11ms/step\n",
      "Epoch 4/100\n",
      "140/140 - 2s - loss: 2.3027 - accuracy: 0.1005 - val_loss: 2.3028 - val_accuracy: 0.0955 - 2s/epoch - 11ms/step\n",
      "Epoch 5/100\n",
      "140/140 - 2s - loss: 2.3026 - accuracy: 0.1019 - val_loss: 2.3027 - val_accuracy: 0.0955 - 2s/epoch - 12ms/step\n",
      "Epoch 6/100\n",
      "140/140 - 2s - loss: 2.3026 - accuracy: 0.1011 - val_loss: 2.3027 - val_accuracy: 0.0955 - 2s/epoch - 14ms/step\n",
      "Epoch 7/100\n",
      "140/140 - 2s - loss: 2.3017 - accuracy: 0.1072 - val_loss: 2.2959 - val_accuracy: 0.1274 - 2s/epoch - 11ms/step\n",
      "Epoch 8/100\n",
      "140/140 - 2s - loss: 2.2123 - accuracy: 0.1532 - val_loss: 2.1392 - val_accuracy: 0.1722 - 2s/epoch - 15ms/step\n",
      "Epoch 9/100\n",
      "140/140 - 2s - loss: 2.0638 - accuracy: 0.1966 - val_loss: 2.0316 - val_accuracy: 0.2129 - 2s/epoch - 13ms/step\n",
      "Epoch 10/100\n",
      "140/140 - 2s - loss: 2.0001 - accuracy: 0.2174 - val_loss: 2.0327 - val_accuracy: 0.1967 - 2s/epoch - 14ms/step\n",
      "Epoch 11/100\n",
      "140/140 - 2s - loss: 1.9695 - accuracy: 0.2271 - val_loss: 1.9472 - val_accuracy: 0.2344 - 2s/epoch - 16ms/step\n",
      "Epoch 12/100\n",
      "140/140 - 2s - loss: 1.9499 - accuracy: 0.2333 - val_loss: 1.9693 - val_accuracy: 0.2216 - 2s/epoch - 11ms/step\n",
      "Epoch 13/100\n",
      "140/140 - 2s - loss: 1.9425 - accuracy: 0.2390 - val_loss: 1.9224 - val_accuracy: 0.2425 - 2s/epoch - 14ms/step\n",
      "Epoch 14/100\n",
      "140/140 - 2s - loss: 1.9292 - accuracy: 0.2421 - val_loss: 1.9161 - val_accuracy: 0.2456 - 2s/epoch - 12ms/step\n",
      "Epoch 15/100\n",
      "140/140 - 2s - loss: 1.9199 - accuracy: 0.2489 - val_loss: 1.9147 - val_accuracy: 0.2522 - 2s/epoch - 14ms/step\n",
      "Epoch 16/100\n",
      "140/140 - 2s - loss: 1.9135 - accuracy: 0.2508 - val_loss: 1.9190 - val_accuracy: 0.2448 - 2s/epoch - 12ms/step\n",
      "Epoch 17/100\n",
      "140/140 - 1s - loss: 1.9052 - accuracy: 0.2537 - val_loss: 1.8894 - val_accuracy: 0.2657 - 1s/epoch - 10ms/step\n",
      "Epoch 18/100\n",
      "140/140 - 3s - loss: 1.8944 - accuracy: 0.2593 - val_loss: 1.8770 - val_accuracy: 0.2688 - 3s/epoch - 18ms/step\n",
      "Epoch 19/100\n",
      "140/140 - 2s - loss: 1.8881 - accuracy: 0.2596 - val_loss: 1.9195 - val_accuracy: 0.2464 - 2s/epoch - 13ms/step\n",
      "Epoch 20/100\n",
      "140/140 - 2s - loss: 1.8827 - accuracy: 0.2669 - val_loss: 1.8740 - val_accuracy: 0.2703 - 2s/epoch - 12ms/step\n",
      "Epoch 21/100\n",
      "140/140 - 2s - loss: 1.8667 - accuracy: 0.2719 - val_loss: 1.8552 - val_accuracy: 0.2814 - 2s/epoch - 11ms/step\n",
      "Epoch 22/100\n",
      "140/140 - 2s - loss: 1.8581 - accuracy: 0.2729 - val_loss: 1.8445 - val_accuracy: 0.2837 - 2s/epoch - 14ms/step\n",
      "Epoch 23/100\n",
      "140/140 - 3s - loss: 1.8578 - accuracy: 0.2725 - val_loss: 1.8415 - val_accuracy: 0.2870 - 3s/epoch - 19ms/step\n",
      "Epoch 24/100\n",
      "140/140 - 2s - loss: 1.8477 - accuracy: 0.2784 - val_loss: 1.8454 - val_accuracy: 0.2864 - 2s/epoch - 14ms/step\n",
      "Epoch 25/100\n",
      "140/140 - 2s - loss: 1.8431 - accuracy: 0.2791 - val_loss: 1.8319 - val_accuracy: 0.2916 - 2s/epoch - 11ms/step\n",
      "Epoch 26/100\n",
      "140/140 - 2s - loss: 1.8336 - accuracy: 0.2852 - val_loss: 1.8209 - val_accuracy: 0.2941 - 2s/epoch - 11ms/step\n",
      "Epoch 27/100\n",
      "140/140 - 2s - loss: 1.8323 - accuracy: 0.2828 - val_loss: 1.8155 - val_accuracy: 0.2968 - 2s/epoch - 11ms/step\n",
      "Epoch 28/100\n",
      "140/140 - 2s - loss: 1.8265 - accuracy: 0.2830 - val_loss: 1.8111 - val_accuracy: 0.2925 - 2s/epoch - 13ms/step\n",
      "Epoch 29/100\n",
      "140/140 - 2s - loss: 1.8210 - accuracy: 0.2875 - val_loss: 1.8063 - val_accuracy: 0.2963 - 2s/epoch - 13ms/step\n",
      "Epoch 30/100\n",
      "140/140 - 2s - loss: 1.8141 - accuracy: 0.2906 - val_loss: 1.8065 - val_accuracy: 0.2937 - 2s/epoch - 11ms/step\n",
      "Epoch 31/100\n",
      "140/140 - 2s - loss: 1.8027 - accuracy: 0.2917 - val_loss: 1.7950 - val_accuracy: 0.2997 - 2s/epoch - 11ms/step\n",
      "Epoch 32/100\n",
      "140/140 - 2s - loss: 1.7994 - accuracy: 0.2960 - val_loss: 1.7928 - val_accuracy: 0.2973 - 2s/epoch - 12ms/step\n",
      "Epoch 33/100\n",
      "140/140 - 1s - loss: 1.7932 - accuracy: 0.2977 - val_loss: 1.7853 - val_accuracy: 0.3010 - 1s/epoch - 11ms/step\n",
      "Epoch 34/100\n",
      "140/140 - 2s - loss: 1.7851 - accuracy: 0.2960 - val_loss: 1.7805 - val_accuracy: 0.2994 - 2s/epoch - 11ms/step\n",
      "Epoch 35/100\n",
      "140/140 - 2s - loss: 1.7912 - accuracy: 0.2938 - val_loss: 1.7746 - val_accuracy: 0.3017 - 2s/epoch - 11ms/step\n",
      "Epoch 36/100\n",
      "140/140 - 1s - loss: 1.7782 - accuracy: 0.2989 - val_loss: 1.7791 - val_accuracy: 0.3009 - 1s/epoch - 10ms/step\n",
      "Epoch 37/100\n",
      "140/140 - 1s - loss: 1.7714 - accuracy: 0.3008 - val_loss: 1.7630 - val_accuracy: 0.3059 - 1s/epoch - 10ms/step\n",
      "Epoch 38/100\n",
      "140/140 - 1s - loss: 1.7733 - accuracy: 0.3018 - val_loss: 1.7732 - val_accuracy: 0.3016 - 1s/epoch - 10ms/step\n",
      "Epoch 39/100\n",
      "140/140 - 2s - loss: 1.7752 - accuracy: 0.3042 - val_loss: 1.7572 - val_accuracy: 0.3090 - 2s/epoch - 11ms/step\n",
      "Epoch 40/100\n",
      "140/140 - 1s - loss: 1.7599 - accuracy: 0.3089 - val_loss: 1.7784 - val_accuracy: 0.3041 - 1s/epoch - 11ms/step\n",
      "Epoch 41/100\n",
      "140/140 - 2s - loss: 1.7522 - accuracy: 0.3140 - val_loss: 1.7567 - val_accuracy: 0.3143 - 2s/epoch - 12ms/step\n",
      "Epoch 42/100\n",
      "140/140 - 1s - loss: 1.7495 - accuracy: 0.3159 - val_loss: 1.7559 - val_accuracy: 0.3151 - 1s/epoch - 10ms/step\n",
      "Epoch 43/100\n",
      "140/140 - 1s - loss: 1.7527 - accuracy: 0.3157 - val_loss: 1.7472 - val_accuracy: 0.3158 - 1s/epoch - 10ms/step\n",
      "Epoch 44/100\n",
      "140/140 - 1s - loss: 1.7508 - accuracy: 0.3129 - val_loss: 1.7461 - val_accuracy: 0.3206 - 1s/epoch - 10ms/step\n",
      "Epoch 45/100\n",
      "140/140 - 1s - loss: 1.7382 - accuracy: 0.3231 - val_loss: 1.7369 - val_accuracy: 0.3228 - 1s/epoch - 10ms/step\n",
      "Epoch 46/100\n",
      "140/140 - 1s - loss: 1.7324 - accuracy: 0.3273 - val_loss: 1.7392 - val_accuracy: 0.3248 - 1s/epoch - 10ms/step\n",
      "Epoch 47/100\n",
      "140/140 - 1s - loss: 1.7275 - accuracy: 0.3284 - val_loss: 1.7296 - val_accuracy: 0.3294 - 1s/epoch - 10ms/step\n",
      "Epoch 48/100\n",
      "140/140 - 1s - loss: 1.7339 - accuracy: 0.3220 - val_loss: 1.7472 - val_accuracy: 0.3181 - 1s/epoch - 10ms/step\n",
      "Epoch 49/100\n",
      "140/140 - 1s - loss: 1.7197 - accuracy: 0.3322 - val_loss: 1.7505 - val_accuracy: 0.3223 - 1s/epoch - 10ms/step\n",
      "Epoch 50/100\n",
      "140/140 - 1s - loss: 1.7159 - accuracy: 0.3366 - val_loss: 1.7212 - val_accuracy: 0.3308 - 1s/epoch - 10ms/step\n",
      "Epoch 51/100\n",
      "140/140 - 1s - loss: 1.7128 - accuracy: 0.3368 - val_loss: 1.7474 - val_accuracy: 0.3233 - 1s/epoch - 10ms/step\n",
      "Epoch 52/100\n",
      "140/140 - 2s - loss: 1.7130 - accuracy: 0.3378 - val_loss: 1.8019 - val_accuracy: 0.2944 - 2s/epoch - 12ms/step\n",
      "Epoch 53/100\n",
      "140/140 - 2s - loss: 1.7076 - accuracy: 0.3419 - val_loss: 1.7249 - val_accuracy: 0.3396 - 2s/epoch - 11ms/step\n",
      "Epoch 54/100\n",
      "140/140 - 1s - loss: 1.7000 - accuracy: 0.3455 - val_loss: 1.6979 - val_accuracy: 0.3493 - 1s/epoch - 10ms/step\n",
      "Epoch 55/100\n",
      "140/140 - 1s - loss: 1.6955 - accuracy: 0.3493 - val_loss: 1.6937 - val_accuracy: 0.3555 - 1s/epoch - 10ms/step\n",
      "Epoch 56/100\n",
      "140/140 - 1s - loss: 1.6923 - accuracy: 0.3523 - val_loss: 1.7185 - val_accuracy: 0.3438 - 1s/epoch - 10ms/step\n",
      "Epoch 57/100\n",
      "140/140 - 1s - loss: 1.6888 - accuracy: 0.3527 - val_loss: 1.6944 - val_accuracy: 0.3619 - 1s/epoch - 10ms/step\n",
      "Epoch 58/100\n",
      "140/140 - 1s - loss: 1.6814 - accuracy: 0.3568 - val_loss: 1.6744 - val_accuracy: 0.3706 - 1s/epoch - 10ms/step\n",
      "Epoch 59/100\n",
      "140/140 - 1s - loss: 1.6805 - accuracy: 0.3611 - val_loss: 1.6743 - val_accuracy: 0.3694 - 1s/epoch - 11ms/step\n",
      "Epoch 60/100\n",
      "140/140 - 1s - loss: 1.6569 - accuracy: 0.3753 - val_loss: 1.6590 - val_accuracy: 0.3761 - 1s/epoch - 10ms/step\n",
      "Epoch 61/100\n",
      "140/140 - 1s - loss: 1.6515 - accuracy: 0.3748 - val_loss: 1.6724 - val_accuracy: 0.3687 - 1s/epoch - 10ms/step\n",
      "Epoch 62/100\n",
      "140/140 - 2s - loss: 1.6470 - accuracy: 0.3790 - val_loss: 1.6426 - val_accuracy: 0.3849 - 2s/epoch - 14ms/step\n",
      "Epoch 63/100\n",
      "140/140 - 2s - loss: 1.6340 - accuracy: 0.3843 - val_loss: 1.6361 - val_accuracy: 0.3864 - 2s/epoch - 15ms/step\n",
      "Epoch 64/100\n",
      "140/140 - 2s - loss: 1.6243 - accuracy: 0.3900 - val_loss: 1.6183 - val_accuracy: 0.3986 - 2s/epoch - 15ms/step\n",
      "Epoch 65/100\n",
      "140/140 - 2s - loss: 1.6201 - accuracy: 0.3926 - val_loss: 1.6155 - val_accuracy: 0.3983 - 2s/epoch - 13ms/step\n",
      "Epoch 66/100\n",
      "140/140 - 2s - loss: 1.6124 - accuracy: 0.3965 - val_loss: 1.6472 - val_accuracy: 0.3808 - 2s/epoch - 11ms/step\n",
      "Epoch 67/100\n",
      "140/140 - 2s - loss: 1.5929 - accuracy: 0.4081 - val_loss: 1.6177 - val_accuracy: 0.4003 - 2s/epoch - 14ms/step\n",
      "Epoch 68/100\n",
      "140/140 - 2s - loss: 1.5882 - accuracy: 0.4105 - val_loss: 1.6321 - val_accuracy: 0.3938 - 2s/epoch - 12ms/step\n",
      "Epoch 69/100\n",
      "140/140 - 2s - loss: 1.5823 - accuracy: 0.4169 - val_loss: 1.5786 - val_accuracy: 0.4232 - 2s/epoch - 11ms/step\n",
      "Epoch 70/100\n",
      "140/140 - 2s - loss: 1.5650 - accuracy: 0.4251 - val_loss: 1.5594 - val_accuracy: 0.4332 - 2s/epoch - 11ms/step\n",
      "Epoch 71/100\n",
      "140/140 - 1s - loss: 1.5594 - accuracy: 0.4282 - val_loss: 1.5470 - val_accuracy: 0.4368 - 1s/epoch - 10ms/step\n",
      "Epoch 72/100\n",
      "140/140 - 1s - loss: 1.5361 - accuracy: 0.4417 - val_loss: 1.5349 - val_accuracy: 0.4428 - 1s/epoch - 10ms/step\n",
      "Epoch 73/100\n",
      "140/140 - 1s - loss: 1.5267 - accuracy: 0.4453 - val_loss: 1.5361 - val_accuracy: 0.4437 - 1s/epoch - 11ms/step\n",
      "Epoch 74/100\n",
      "140/140 - 1s - loss: 1.5217 - accuracy: 0.4472 - val_loss: 1.5204 - val_accuracy: 0.4506 - 1s/epoch - 11ms/step\n",
      "Epoch 75/100\n",
      "140/140 - 1s - loss: 1.5089 - accuracy: 0.4517 - val_loss: 1.4981 - val_accuracy: 0.4609 - 1s/epoch - 10ms/step\n",
      "Epoch 76/100\n",
      "140/140 - 1s - loss: 1.4997 - accuracy: 0.4571 - val_loss: 1.4941 - val_accuracy: 0.4619 - 1s/epoch - 10ms/step\n",
      "Epoch 77/100\n",
      "140/140 - 1s - loss: 1.4859 - accuracy: 0.4648 - val_loss: 1.4864 - val_accuracy: 0.4613 - 1s/epoch - 10ms/step\n",
      "Epoch 78/100\n",
      "140/140 - 1s - loss: 1.4834 - accuracy: 0.4650 - val_loss: 1.4996 - val_accuracy: 0.4554 - 1s/epoch - 10ms/step\n",
      "Epoch 79/100\n",
      "140/140 - 1s - loss: 1.4718 - accuracy: 0.4690 - val_loss: 1.4786 - val_accuracy: 0.4681 - 1s/epoch - 10ms/step\n",
      "Epoch 80/100\n",
      "140/140 - 1s - loss: 1.4690 - accuracy: 0.4733 - val_loss: 1.4624 - val_accuracy: 0.4761 - 1s/epoch - 10ms/step\n",
      "Epoch 81/100\n",
      "140/140 - 1s - loss: 1.4582 - accuracy: 0.4739 - val_loss: 1.4584 - val_accuracy: 0.4776 - 1s/epoch - 10ms/step\n",
      "Epoch 82/100\n",
      "140/140 - 1s - loss: 1.4479 - accuracy: 0.4806 - val_loss: 1.4525 - val_accuracy: 0.4787 - 1s/epoch - 10ms/step\n",
      "Epoch 83/100\n",
      "140/140 - 1s - loss: 1.4444 - accuracy: 0.4805 - val_loss: 1.4810 - val_accuracy: 0.4644 - 1s/epoch - 10ms/step\n",
      "Epoch 84/100\n",
      "140/140 - 1s - loss: 1.4481 - accuracy: 0.4775 - val_loss: 1.4551 - val_accuracy: 0.4777 - 1s/epoch - 10ms/step\n",
      "Epoch 85/100\n",
      "140/140 - 1s - loss: 1.4317 - accuracy: 0.4837 - val_loss: 1.4318 - val_accuracy: 0.4903 - 1s/epoch - 10ms/step\n",
      "Epoch 86/100\n",
      "140/140 - 1s - loss: 1.4276 - accuracy: 0.4862 - val_loss: 1.4510 - val_accuracy: 0.4762 - 1s/epoch - 10ms/step\n",
      "Epoch 87/100\n",
      "140/140 - 1s - loss: 1.4255 - accuracy: 0.4867 - val_loss: 1.4532 - val_accuracy: 0.4692 - 1s/epoch - 10ms/step\n",
      "Epoch 88/100\n",
      "140/140 - 1s - loss: 1.4196 - accuracy: 0.4892 - val_loss: 1.4212 - val_accuracy: 0.4929 - 1s/epoch - 10ms/step\n",
      "Epoch 89/100\n",
      "140/140 - 1s - loss: 1.4119 - accuracy: 0.4896 - val_loss: 1.4229 - val_accuracy: 0.4876 - 1s/epoch - 10ms/step\n",
      "Epoch 90/100\n",
      "140/140 - 1s - loss: 1.4078 - accuracy: 0.4923 - val_loss: 1.4271 - val_accuracy: 0.4928 - 1s/epoch - 10ms/step\n",
      "Epoch 91/100\n",
      "140/140 - 1s - loss: 1.4002 - accuracy: 0.4975 - val_loss: 1.4121 - val_accuracy: 0.4921 - 1s/epoch - 10ms/step\n",
      "Epoch 92/100\n",
      "140/140 - 1s - loss: 1.4064 - accuracy: 0.4949 - val_loss: 1.4027 - val_accuracy: 0.5025 - 1s/epoch - 10ms/step\n",
      "Epoch 93/100\n",
      "140/140 - 1s - loss: 1.4077 - accuracy: 0.4879 - val_loss: 1.4533 - val_accuracy: 0.4704 - 1s/epoch - 10ms/step\n",
      "Epoch 94/100\n",
      "140/140 - 1s - loss: 1.3933 - accuracy: 0.4995 - val_loss: 1.4072 - val_accuracy: 0.4964 - 1s/epoch - 10ms/step\n",
      "Epoch 95/100\n",
      "140/140 - 1s - loss: 1.3851 - accuracy: 0.5020 - val_loss: 1.4122 - val_accuracy: 0.4942 - 1s/epoch - 10ms/step\n",
      "Epoch 96/100\n",
      "140/140 - 1s - loss: 1.3893 - accuracy: 0.4984 - val_loss: 1.3928 - val_accuracy: 0.5037 - 1s/epoch - 10ms/step\n",
      "Epoch 97/100\n",
      "140/140 - 1s - loss: 1.3825 - accuracy: 0.5028 - val_loss: 1.3973 - val_accuracy: 0.5027 - 1s/epoch - 10ms/step\n",
      "Epoch 98/100\n",
      "140/140 - 1s - loss: 1.3797 - accuracy: 0.5046 - val_loss: 1.4494 - val_accuracy: 0.4729 - 1s/epoch - 10ms/step\n",
      "Epoch 99/100\n",
      "140/140 - 1s - loss: 1.3809 - accuracy: 0.5021 - val_loss: 1.3819 - val_accuracy: 0.5081 - 1s/epoch - 10ms/step\n",
      "Epoch 100/100\n",
      "140/140 - 1s - loss: 1.3748 - accuracy: 0.5036 - val_loss: 1.4103 - val_accuracy: 0.4927 - 1s/epoch - 10ms/step\n"
     ]
    }
   ],
   "source": [
    "# Fitting the model\n",
    "training_history = model.fit(X_train, y_train, validation_data=(\n",
    "    X_test, y_test), epochs=100, batch_size=300, verbose=2)\n"
   ]
  },
  {
   "cell_type": "markdown",
   "metadata": {
    "id": "Q-8WG-rdVnyb"
   },
   "source": [
    "C. Evaluate performance of the model with appropriate metrics. "
   ]
  },
  {
   "cell_type": "code",
   "execution_count": null,
   "metadata": {
    "id": "8K52jlQoVnyb",
    "outputId": "e8c51e17-3a6a-47e3-8f80-768ea79c99a4"
   },
   "outputs": [
    {
     "name": "stdout",
     "output_type": "stream",
     "text": [
      "Loss: 1.410311222076416\n",
      "Accuracy: 0.49272221326828003\n"
     ]
    }
   ],
   "source": [
    "# Final evaluation of the model\n",
    "scores = model.evaluate(X_test, y_test, verbose=0)\n",
    "print(\"Loss:\", scores[0])\n",
    "print(\"Accuracy:\", scores[1])\n"
   ]
  },
  {
   "cell_type": "markdown",
   "metadata": {
    "id": "yyYs5waXVnyc"
   },
   "source": [
    "D. Plot the training loss, validation loss vs number of epochs and training accuracy, validation accuracy vs number of epochs plot and write your \n",
    "observations on the same."
   ]
  },
  {
   "cell_type": "code",
   "execution_count": null,
   "metadata": {
    "id": "vgeadDD4Vnyc",
    "outputId": "0ff8d174-125e-4d9d-d431-8a89fb2cce07"
   },
   "outputs": [
    {
     "data": {
      "text/plain": [
       "Text(0.5, 1.0, 'Training and validation loss')"
      ]
     },
     "execution_count": 115,
     "metadata": {},
     "output_type": "execute_result"
    },
    {
     "data": {
      "image/png": "[encoded data removed]",
      "text/plain": [
       "<Figure size 432x288 with 1 Axes>"
      ]
     },
     "metadata": {
      "needs_background": "light"
     },
     "output_type": "display_data"
    },
    {
     "data": {
      "image/png": "[encoded data removed]",
      "text/plain": [
       "<Figure size 432x288 with 1 Axes>"
      ]
     },
     "metadata": {
      "needs_background": "light"
     },
     "output_type": "display_data"
    }
   ],
   "source": [
    "accuracy = training_history.history['accuracy']\n",
    "val_accuracy = training_history.history['val_accuracy']\n",
    "loss = training_history.history['loss']\n",
    "val_loss = training_history.history['val_loss']\n",
    "\n",
    "epochs = range(len(accuracy))  # Get number of epochs\n",
    "\n",
    "plt.plot(epochs, accuracy, label='training accuracy')\n",
    "plt.plot(epochs, val_accuracy, label='validation accuracy')\n",
    "plt.title('Training and validation accuracy')\n",
    "plt.legend(loc='lower right')\n",
    "plt.figure()\n",
    "\n",
    "plt.plot(epochs, loss, label='training loss')\n",
    "plt.plot(epochs, val_loss, label='validation loss')\n",
    "plt.legend(loc='upper right')\n",
    "plt.title('Training and validation loss')\n"
   ]
  },
  {
   "cell_type": "markdown",
   "metadata": {
    "id": "tQRoW4LzVnyc"
   },
   "source": [
    "Observation:\n",
    "We see the total 10 classes in the dataset which represent digits from 0-9.\n",
    "\n",
    "we have performed a Neural Network with dense hidden layers of different number of units and are able to achieve a final test accuracy.\n",
    "\n",
    "we can observe that after certain point the model begins to overfit on our dataset as is clear from the plots above where the validation loss begins to increase after certain point and validation accuracy begins to decrease.\n",
    "\n",
    "This is why, with this amount of accuracy we are able to distinguish between the different digits in this dataset.\n"
   ]
  },
  {
   "cell_type": "markdown",
   "metadata": {
    "id": "PUz_CX1dVnyc"
   },
   "source": []
  }
 ],
 "metadata": {
  "colab": {
   "name": "netural_network_solution.ipynb",
   "provenance": []
  },
  "interpreter": {
   "hash": "2be5faf79681da6f2a61fdfdd5405d65d042280f7fba6178067603e3a2925119"
  },
  "kernelspec": {
   "display_name": "Python 3",
   "language": "python",
   "name": "python3"
  },
  "language_info": {
   "codemirror_mode": {
    "name": "ipython",
    "version": 3
   },
   "file_extension": ".py",
   "mimetype": "text/x-python",
   "name": "python",
   "nbconvert_exporter": "python",
   "pygments_lexer": "ipython3",
   "version": "3.8.5"
  }
 },
 "nbformat": 4,
 "nbformat_minor": 1
}
